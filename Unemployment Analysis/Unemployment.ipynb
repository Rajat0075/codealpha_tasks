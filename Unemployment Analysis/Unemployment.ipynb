{
 "cells": [
  {
   "cell_type": "code",
   "execution_count": 1,
   "id": "2ebd1542-ed30-44c6-8a9a-1200faad938e",
   "metadata": {},
   "outputs": [],
   "source": [
    "#Unemployment Analysis with Python"
   ]
  },
  {
   "cell_type": "code",
   "execution_count": 4,
   "id": "87debc05-9be3-4cd9-b987-603506b1e790",
   "metadata": {},
   "outputs": [],
   "source": [
    "import pandas as pd"
   ]
  },
  {
   "cell_type": "code",
   "execution_count": 5,
   "id": "dd48120c-a56b-4492-886b-d6fe0e0fc5db",
   "metadata": {},
   "outputs": [],
   "source": [
    "# Load Dataset"
   ]
  },
  {
   "cell_type": "code",
   "execution_count": 6,
   "id": "66f472c4-e92a-49d2-b923-b61c1c72d4e0",
   "metadata": {},
   "outputs": [],
   "source": [
    "df = pd.read_csv('Unemployment in India.csv')"
   ]
  },
  {
   "cell_type": "code",
   "execution_count": 7,
   "id": "4315639e-0cc0-461e-9cd8-238eecc6f118",
   "metadata": {},
   "outputs": [
    {
     "data": {
      "text/html": [
       "<div>\n",
       "<style scoped>\n",
       "    .dataframe tbody tr th:only-of-type {\n",
       "        vertical-align: middle;\n",
       "    }\n",
       "\n",
       "    .dataframe tbody tr th {\n",
       "        vertical-align: top;\n",
       "    }\n",
       "\n",
       "    .dataframe thead th {\n",
       "        text-align: right;\n",
       "    }\n",
       "</style>\n",
       "<table border=\"1\" class=\"dataframe\">\n",
       "  <thead>\n",
       "    <tr style=\"text-align: right;\">\n",
       "      <th></th>\n",
       "      <th>Region</th>\n",
       "      <th>Date</th>\n",
       "      <th>Frequency</th>\n",
       "      <th>Estimated Unemployment Rate (%)</th>\n",
       "      <th>Estimated Employed</th>\n",
       "      <th>Estimated Labour Participation Rate (%)</th>\n",
       "      <th>Area</th>\n",
       "    </tr>\n",
       "  </thead>\n",
       "  <tbody>\n",
       "    <tr>\n",
       "      <th>0</th>\n",
       "      <td>Andhra Pradesh</td>\n",
       "      <td>31-05-2019</td>\n",
       "      <td>Monthly</td>\n",
       "      <td>3.65</td>\n",
       "      <td>11999139.0</td>\n",
       "      <td>43.24</td>\n",
       "      <td>Rural</td>\n",
       "    </tr>\n",
       "    <tr>\n",
       "      <th>1</th>\n",
       "      <td>Andhra Pradesh</td>\n",
       "      <td>30-06-2019</td>\n",
       "      <td>Monthly</td>\n",
       "      <td>3.05</td>\n",
       "      <td>11755881.0</td>\n",
       "      <td>42.05</td>\n",
       "      <td>Rural</td>\n",
       "    </tr>\n",
       "    <tr>\n",
       "      <th>2</th>\n",
       "      <td>Andhra Pradesh</td>\n",
       "      <td>31-07-2019</td>\n",
       "      <td>Monthly</td>\n",
       "      <td>3.75</td>\n",
       "      <td>12086707.0</td>\n",
       "      <td>43.50</td>\n",
       "      <td>Rural</td>\n",
       "    </tr>\n",
       "    <tr>\n",
       "      <th>3</th>\n",
       "      <td>Andhra Pradesh</td>\n",
       "      <td>31-08-2019</td>\n",
       "      <td>Monthly</td>\n",
       "      <td>3.32</td>\n",
       "      <td>12285693.0</td>\n",
       "      <td>43.97</td>\n",
       "      <td>Rural</td>\n",
       "    </tr>\n",
       "    <tr>\n",
       "      <th>4</th>\n",
       "      <td>Andhra Pradesh</td>\n",
       "      <td>30-09-2019</td>\n",
       "      <td>Monthly</td>\n",
       "      <td>5.17</td>\n",
       "      <td>12256762.0</td>\n",
       "      <td>44.68</td>\n",
       "      <td>Rural</td>\n",
       "    </tr>\n",
       "    <tr>\n",
       "      <th>...</th>\n",
       "      <td>...</td>\n",
       "      <td>...</td>\n",
       "      <td>...</td>\n",
       "      <td>...</td>\n",
       "      <td>...</td>\n",
       "      <td>...</td>\n",
       "      <td>...</td>\n",
       "    </tr>\n",
       "    <tr>\n",
       "      <th>763</th>\n",
       "      <td>NaN</td>\n",
       "      <td>NaN</td>\n",
       "      <td>NaN</td>\n",
       "      <td>NaN</td>\n",
       "      <td>NaN</td>\n",
       "      <td>NaN</td>\n",
       "      <td>NaN</td>\n",
       "    </tr>\n",
       "    <tr>\n",
       "      <th>764</th>\n",
       "      <td>NaN</td>\n",
       "      <td>NaN</td>\n",
       "      <td>NaN</td>\n",
       "      <td>NaN</td>\n",
       "      <td>NaN</td>\n",
       "      <td>NaN</td>\n",
       "      <td>NaN</td>\n",
       "    </tr>\n",
       "    <tr>\n",
       "      <th>765</th>\n",
       "      <td>NaN</td>\n",
       "      <td>NaN</td>\n",
       "      <td>NaN</td>\n",
       "      <td>NaN</td>\n",
       "      <td>NaN</td>\n",
       "      <td>NaN</td>\n",
       "      <td>NaN</td>\n",
       "    </tr>\n",
       "    <tr>\n",
       "      <th>766</th>\n",
       "      <td>NaN</td>\n",
       "      <td>NaN</td>\n",
       "      <td>NaN</td>\n",
       "      <td>NaN</td>\n",
       "      <td>NaN</td>\n",
       "      <td>NaN</td>\n",
       "      <td>NaN</td>\n",
       "    </tr>\n",
       "    <tr>\n",
       "      <th>767</th>\n",
       "      <td>NaN</td>\n",
       "      <td>NaN</td>\n",
       "      <td>NaN</td>\n",
       "      <td>NaN</td>\n",
       "      <td>NaN</td>\n",
       "      <td>NaN</td>\n",
       "      <td>NaN</td>\n",
       "    </tr>\n",
       "  </tbody>\n",
       "</table>\n",
       "<p>768 rows × 7 columns</p>\n",
       "</div>"
      ],
      "text/plain": [
       "             Region         Date  Frequency   Estimated Unemployment Rate (%)  \\\n",
       "0    Andhra Pradesh   31-05-2019    Monthly                              3.65   \n",
       "1    Andhra Pradesh   30-06-2019    Monthly                              3.05   \n",
       "2    Andhra Pradesh   31-07-2019    Monthly                              3.75   \n",
       "3    Andhra Pradesh   31-08-2019    Monthly                              3.32   \n",
       "4    Andhra Pradesh   30-09-2019    Monthly                              5.17   \n",
       "..              ...          ...        ...                               ...   \n",
       "763             NaN          NaN        NaN                               NaN   \n",
       "764             NaN          NaN        NaN                               NaN   \n",
       "765             NaN          NaN        NaN                               NaN   \n",
       "766             NaN          NaN        NaN                               NaN   \n",
       "767             NaN          NaN        NaN                               NaN   \n",
       "\n",
       "      Estimated Employed   Estimated Labour Participation Rate (%)   Area  \n",
       "0             11999139.0                                     43.24  Rural  \n",
       "1             11755881.0                                     42.05  Rural  \n",
       "2             12086707.0                                     43.50  Rural  \n",
       "3             12285693.0                                     43.97  Rural  \n",
       "4             12256762.0                                     44.68  Rural  \n",
       "..                   ...                                       ...    ...  \n",
       "763                  NaN                                       NaN    NaN  \n",
       "764                  NaN                                       NaN    NaN  \n",
       "765                  NaN                                       NaN    NaN  \n",
       "766                  NaN                                       NaN    NaN  \n",
       "767                  NaN                                       NaN    NaN  \n",
       "\n",
       "[768 rows x 7 columns]"
      ]
     },
     "execution_count": 7,
     "metadata": {},
     "output_type": "execute_result"
    }
   ],
   "source": [
    "df"
   ]
  },
  {
   "cell_type": "code",
   "execution_count": 8,
   "id": "2205787e-d9c5-4f1f-a9ae-f97ad1ce3ea6",
   "metadata": {},
   "outputs": [
    {
     "data": {
      "text/html": [
       "<div>\n",
       "<style scoped>\n",
       "    .dataframe tbody tr th:only-of-type {\n",
       "        vertical-align: middle;\n",
       "    }\n",
       "\n",
       "    .dataframe tbody tr th {\n",
       "        vertical-align: top;\n",
       "    }\n",
       "\n",
       "    .dataframe thead th {\n",
       "        text-align: right;\n",
       "    }\n",
       "</style>\n",
       "<table border=\"1\" class=\"dataframe\">\n",
       "  <thead>\n",
       "    <tr style=\"text-align: right;\">\n",
       "      <th></th>\n",
       "      <th>Region</th>\n",
       "      <th>Date</th>\n",
       "      <th>Frequency</th>\n",
       "      <th>Estimated Unemployment Rate (%)</th>\n",
       "      <th>Estimated Employed</th>\n",
       "      <th>Estimated Labour Participation Rate (%)</th>\n",
       "      <th>Area</th>\n",
       "    </tr>\n",
       "  </thead>\n",
       "  <tbody>\n",
       "    <tr>\n",
       "      <th>0</th>\n",
       "      <td>Andhra Pradesh</td>\n",
       "      <td>31-05-2019</td>\n",
       "      <td>Monthly</td>\n",
       "      <td>3.65</td>\n",
       "      <td>11999139.0</td>\n",
       "      <td>43.24</td>\n",
       "      <td>Rural</td>\n",
       "    </tr>\n",
       "    <tr>\n",
       "      <th>1</th>\n",
       "      <td>Andhra Pradesh</td>\n",
       "      <td>30-06-2019</td>\n",
       "      <td>Monthly</td>\n",
       "      <td>3.05</td>\n",
       "      <td>11755881.0</td>\n",
       "      <td>42.05</td>\n",
       "      <td>Rural</td>\n",
       "    </tr>\n",
       "    <tr>\n",
       "      <th>2</th>\n",
       "      <td>Andhra Pradesh</td>\n",
       "      <td>31-07-2019</td>\n",
       "      <td>Monthly</td>\n",
       "      <td>3.75</td>\n",
       "      <td>12086707.0</td>\n",
       "      <td>43.50</td>\n",
       "      <td>Rural</td>\n",
       "    </tr>\n",
       "    <tr>\n",
       "      <th>3</th>\n",
       "      <td>Andhra Pradesh</td>\n",
       "      <td>31-08-2019</td>\n",
       "      <td>Monthly</td>\n",
       "      <td>3.32</td>\n",
       "      <td>12285693.0</td>\n",
       "      <td>43.97</td>\n",
       "      <td>Rural</td>\n",
       "    </tr>\n",
       "    <tr>\n",
       "      <th>4</th>\n",
       "      <td>Andhra Pradesh</td>\n",
       "      <td>30-09-2019</td>\n",
       "      <td>Monthly</td>\n",
       "      <td>5.17</td>\n",
       "      <td>12256762.0</td>\n",
       "      <td>44.68</td>\n",
       "      <td>Rural</td>\n",
       "    </tr>\n",
       "  </tbody>\n",
       "</table>\n",
       "</div>"
      ],
      "text/plain": [
       "           Region         Date  Frequency   Estimated Unemployment Rate (%)  \\\n",
       "0  Andhra Pradesh   31-05-2019    Monthly                              3.65   \n",
       "1  Andhra Pradesh   30-06-2019    Monthly                              3.05   \n",
       "2  Andhra Pradesh   31-07-2019    Monthly                              3.75   \n",
       "3  Andhra Pradesh   31-08-2019    Monthly                              3.32   \n",
       "4  Andhra Pradesh   30-09-2019    Monthly                              5.17   \n",
       "\n",
       "    Estimated Employed   Estimated Labour Participation Rate (%)   Area  \n",
       "0           11999139.0                                     43.24  Rural  \n",
       "1           11755881.0                                     42.05  Rural  \n",
       "2           12086707.0                                     43.50  Rural  \n",
       "3           12285693.0                                     43.97  Rural  \n",
       "4           12256762.0                                     44.68  Rural  "
      ]
     },
     "execution_count": 8,
     "metadata": {},
     "output_type": "execute_result"
    }
   ],
   "source": [
    "df.head()"
   ]
  },
  {
   "cell_type": "code",
   "execution_count": 9,
   "id": "f2b11bd6-e443-4dfc-a1d2-c3843e9e9726",
   "metadata": {},
   "outputs": [
    {
     "data": {
      "text/html": [
       "<div>\n",
       "<style scoped>\n",
       "    .dataframe tbody tr th:only-of-type {\n",
       "        vertical-align: middle;\n",
       "    }\n",
       "\n",
       "    .dataframe tbody tr th {\n",
       "        vertical-align: top;\n",
       "    }\n",
       "\n",
       "    .dataframe thead th {\n",
       "        text-align: right;\n",
       "    }\n",
       "</style>\n",
       "<table border=\"1\" class=\"dataframe\">\n",
       "  <thead>\n",
       "    <tr style=\"text-align: right;\">\n",
       "      <th></th>\n",
       "      <th>Region</th>\n",
       "      <th>Date</th>\n",
       "      <th>Frequency</th>\n",
       "      <th>Estimated Unemployment Rate (%)</th>\n",
       "      <th>Estimated Employed</th>\n",
       "      <th>Estimated Labour Participation Rate (%)</th>\n",
       "      <th>Area</th>\n",
       "    </tr>\n",
       "  </thead>\n",
       "  <tbody>\n",
       "    <tr>\n",
       "      <th>763</th>\n",
       "      <td>NaN</td>\n",
       "      <td>NaN</td>\n",
       "      <td>NaN</td>\n",
       "      <td>NaN</td>\n",
       "      <td>NaN</td>\n",
       "      <td>NaN</td>\n",
       "      <td>NaN</td>\n",
       "    </tr>\n",
       "    <tr>\n",
       "      <th>764</th>\n",
       "      <td>NaN</td>\n",
       "      <td>NaN</td>\n",
       "      <td>NaN</td>\n",
       "      <td>NaN</td>\n",
       "      <td>NaN</td>\n",
       "      <td>NaN</td>\n",
       "      <td>NaN</td>\n",
       "    </tr>\n",
       "    <tr>\n",
       "      <th>765</th>\n",
       "      <td>NaN</td>\n",
       "      <td>NaN</td>\n",
       "      <td>NaN</td>\n",
       "      <td>NaN</td>\n",
       "      <td>NaN</td>\n",
       "      <td>NaN</td>\n",
       "      <td>NaN</td>\n",
       "    </tr>\n",
       "    <tr>\n",
       "      <th>766</th>\n",
       "      <td>NaN</td>\n",
       "      <td>NaN</td>\n",
       "      <td>NaN</td>\n",
       "      <td>NaN</td>\n",
       "      <td>NaN</td>\n",
       "      <td>NaN</td>\n",
       "      <td>NaN</td>\n",
       "    </tr>\n",
       "    <tr>\n",
       "      <th>767</th>\n",
       "      <td>NaN</td>\n",
       "      <td>NaN</td>\n",
       "      <td>NaN</td>\n",
       "      <td>NaN</td>\n",
       "      <td>NaN</td>\n",
       "      <td>NaN</td>\n",
       "      <td>NaN</td>\n",
       "    </tr>\n",
       "  </tbody>\n",
       "</table>\n",
       "</div>"
      ],
      "text/plain": [
       "    Region  Date  Frequency   Estimated Unemployment Rate (%)  \\\n",
       "763    NaN   NaN        NaN                               NaN   \n",
       "764    NaN   NaN        NaN                               NaN   \n",
       "765    NaN   NaN        NaN                               NaN   \n",
       "766    NaN   NaN        NaN                               NaN   \n",
       "767    NaN   NaN        NaN                               NaN   \n",
       "\n",
       "      Estimated Employed   Estimated Labour Participation Rate (%) Area  \n",
       "763                  NaN                                       NaN  NaN  \n",
       "764                  NaN                                       NaN  NaN  \n",
       "765                  NaN                                       NaN  NaN  \n",
       "766                  NaN                                       NaN  NaN  \n",
       "767                  NaN                                       NaN  NaN  "
      ]
     },
     "execution_count": 9,
     "metadata": {},
     "output_type": "execute_result"
    }
   ],
   "source": [
    "df.tail()"
   ]
  },
  {
   "cell_type": "code",
   "execution_count": 11,
   "id": "a7f3cf16-3f1f-417b-8d39-50dab21a54d2",
   "metadata": {},
   "outputs": [
    {
     "name": "stdout",
     "output_type": "stream",
     "text": [
      "<class 'pandas.core.frame.DataFrame'>\n",
      "RangeIndex: 768 entries, 0 to 767\n",
      "Data columns (total 7 columns):\n",
      " #   Column                                    Non-Null Count  Dtype  \n",
      "---  ------                                    --------------  -----  \n",
      " 0   Region                                    740 non-null    object \n",
      " 1    Date                                     740 non-null    object \n",
      " 2    Frequency                                740 non-null    object \n",
      " 3    Estimated Unemployment Rate (%)          740 non-null    float64\n",
      " 4    Estimated Employed                       740 non-null    float64\n",
      " 5    Estimated Labour Participation Rate (%)  740 non-null    float64\n",
      " 6   Area                                      740 non-null    object \n",
      "dtypes: float64(3), object(4)\n",
      "memory usage: 42.1+ KB\n"
     ]
    }
   ],
   "source": [
    "df.info()"
   ]
  },
  {
   "cell_type": "code",
   "execution_count": 12,
   "id": "e3fc9033-1bde-4ede-9e3d-7c5eb8adf3d2",
   "metadata": {},
   "outputs": [
    {
     "data": {
      "text/html": [
       "<div>\n",
       "<style scoped>\n",
       "    .dataframe tbody tr th:only-of-type {\n",
       "        vertical-align: middle;\n",
       "    }\n",
       "\n",
       "    .dataframe tbody tr th {\n",
       "        vertical-align: top;\n",
       "    }\n",
       "\n",
       "    .dataframe thead th {\n",
       "        text-align: right;\n",
       "    }\n",
       "</style>\n",
       "<table border=\"1\" class=\"dataframe\">\n",
       "  <thead>\n",
       "    <tr style=\"text-align: right;\">\n",
       "      <th></th>\n",
       "      <th>Estimated Unemployment Rate (%)</th>\n",
       "      <th>Estimated Employed</th>\n",
       "      <th>Estimated Labour Participation Rate (%)</th>\n",
       "    </tr>\n",
       "  </thead>\n",
       "  <tbody>\n",
       "    <tr>\n",
       "      <th>count</th>\n",
       "      <td>740.000000</td>\n",
       "      <td>7.400000e+02</td>\n",
       "      <td>740.000000</td>\n",
       "    </tr>\n",
       "    <tr>\n",
       "      <th>mean</th>\n",
       "      <td>11.787946</td>\n",
       "      <td>7.204460e+06</td>\n",
       "      <td>42.630122</td>\n",
       "    </tr>\n",
       "    <tr>\n",
       "      <th>std</th>\n",
       "      <td>10.721298</td>\n",
       "      <td>8.087988e+06</td>\n",
       "      <td>8.111094</td>\n",
       "    </tr>\n",
       "    <tr>\n",
       "      <th>min</th>\n",
       "      <td>0.000000</td>\n",
       "      <td>4.942000e+04</td>\n",
       "      <td>13.330000</td>\n",
       "    </tr>\n",
       "    <tr>\n",
       "      <th>25%</th>\n",
       "      <td>4.657500</td>\n",
       "      <td>1.190404e+06</td>\n",
       "      <td>38.062500</td>\n",
       "    </tr>\n",
       "    <tr>\n",
       "      <th>50%</th>\n",
       "      <td>8.350000</td>\n",
       "      <td>4.744178e+06</td>\n",
       "      <td>41.160000</td>\n",
       "    </tr>\n",
       "    <tr>\n",
       "      <th>75%</th>\n",
       "      <td>15.887500</td>\n",
       "      <td>1.127549e+07</td>\n",
       "      <td>45.505000</td>\n",
       "    </tr>\n",
       "    <tr>\n",
       "      <th>max</th>\n",
       "      <td>76.740000</td>\n",
       "      <td>4.577751e+07</td>\n",
       "      <td>72.570000</td>\n",
       "    </tr>\n",
       "  </tbody>\n",
       "</table>\n",
       "</div>"
      ],
      "text/plain": [
       "       Estimated Unemployment Rate (%)  Estimated Employed  \\\n",
       "count                       740.000000        7.400000e+02   \n",
       "mean                         11.787946        7.204460e+06   \n",
       "std                          10.721298        8.087988e+06   \n",
       "min                           0.000000        4.942000e+04   \n",
       "25%                           4.657500        1.190404e+06   \n",
       "50%                           8.350000        4.744178e+06   \n",
       "75%                          15.887500        1.127549e+07   \n",
       "max                          76.740000        4.577751e+07   \n",
       "\n",
       "       Estimated Labour Participation Rate (%)  \n",
       "count                               740.000000  \n",
       "mean                                 42.630122  \n",
       "std                                   8.111094  \n",
       "min                                  13.330000  \n",
       "25%                                  38.062500  \n",
       "50%                                  41.160000  \n",
       "75%                                  45.505000  \n",
       "max                                  72.570000  "
      ]
     },
     "execution_count": 12,
     "metadata": {},
     "output_type": "execute_result"
    }
   ],
   "source": [
    "df.describe()"
   ]
  },
  {
   "cell_type": "code",
   "execution_count": 8,
   "id": "919372c1-da61-4d65-873e-7378f5fc1d80",
   "metadata": {},
   "outputs": [],
   "source": [
    "# Data Preprocessing"
   ]
  },
  {
   "cell_type": "code",
   "execution_count": 9,
   "id": "24cfa2e3-f72a-4294-a946-5ee1011f2609",
   "metadata": {},
   "outputs": [
    {
     "data": {
      "text/plain": [
       "(768, 7)"
      ]
     },
     "execution_count": 9,
     "metadata": {},
     "output_type": "execute_result"
    }
   ],
   "source": [
    "df.shape"
   ]
  },
  {
   "cell_type": "code",
   "execution_count": 10,
   "id": "4f7387d3-9636-4901-8e89-a6c6aa413023",
   "metadata": {},
   "outputs": [
    {
     "data": {
      "text/plain": [
       "Region                                      28\n",
       " Date                                       28\n",
       " Frequency                                  28\n",
       " Estimated Unemployment Rate (%)            28\n",
       " Estimated Employed                         28\n",
       " Estimated Labour Participation Rate (%)    28\n",
       "Area                                        28\n",
       "dtype: int64"
      ]
     },
     "execution_count": 10,
     "metadata": {},
     "output_type": "execute_result"
    }
   ],
   "source": [
    "df.isnull().sum()  #Check Null VaLues"
   ]
  },
  {
   "cell_type": "code",
   "execution_count": 13,
   "id": "e13eb961-2b75-42f6-990f-81c346b26fed",
   "metadata": {},
   "outputs": [],
   "source": [
    "df.dropna(axis=0, inplace=True) #Remove Null Values"
   ]
  },
  {
   "cell_type": "code",
   "execution_count": 15,
   "id": "63599c7e-3f59-4653-aefd-7fd218c23e24",
   "metadata": {},
   "outputs": [
    {
     "data": {
      "text/plain": [
       "(740, 7)"
      ]
     },
     "execution_count": 15,
     "metadata": {},
     "output_type": "execute_result"
    }
   ],
   "source": [
    "df.shape"
   ]
  },
  {
   "cell_type": "code",
   "execution_count": 16,
   "id": "e229173b-7df4-4a90-9f87-264fbeafcebb",
   "metadata": {},
   "outputs": [],
   "source": [
    "#Data Analysis "
   ]
  },
  {
   "cell_type": "code",
   "execution_count": 17,
   "id": "a16a69b7-3d7b-48eb-b04b-c313b743b85d",
   "metadata": {},
   "outputs": [],
   "source": [
    "x = df['Region']"
   ]
  },
  {
   "cell_type": "code",
   "execution_count": 18,
   "id": "3bd5b618-69b2-4443-97bc-65fb51dd6682",
   "metadata": {},
   "outputs": [
    {
     "data": {
      "text/plain": [
       "0      Andhra Pradesh\n",
       "1      Andhra Pradesh\n",
       "2      Andhra Pradesh\n",
       "3      Andhra Pradesh\n",
       "4      Andhra Pradesh\n",
       "            ...      \n",
       "749       West Bengal\n",
       "750       West Bengal\n",
       "751       West Bengal\n",
       "752       West Bengal\n",
       "753       West Bengal\n",
       "Name: Region, Length: 740, dtype: object"
      ]
     },
     "execution_count": 18,
     "metadata": {},
     "output_type": "execute_result"
    }
   ],
   "source": [
    "x"
   ]
  },
  {
   "cell_type": "code",
   "execution_count": 19,
   "id": "7d4a3136-6e07-4cb8-9d18-7ad545c24b57",
   "metadata": {},
   "outputs": [],
   "source": [
    "y = df[' Estimated Unemployment Rate (%)']"
   ]
  },
  {
   "cell_type": "code",
   "execution_count": 20,
   "id": "e8b04cea-2687-4c83-844e-c01684b58258",
   "metadata": {},
   "outputs": [
    {
     "data": {
      "text/plain": [
       "0       3.65\n",
       "1       3.05\n",
       "2       3.75\n",
       "3       3.32\n",
       "4       5.17\n",
       "       ...  \n",
       "749     7.55\n",
       "750     6.67\n",
       "751    15.63\n",
       "752    15.22\n",
       "753     9.86\n",
       "Name:  Estimated Unemployment Rate (%), Length: 740, dtype: float64"
      ]
     },
     "execution_count": 20,
     "metadata": {},
     "output_type": "execute_result"
    }
   ],
   "source": [
    "y"
   ]
  },
  {
   "cell_type": "code",
   "execution_count": 21,
   "id": "11006445-f544-4e21-b17d-47640169c4e6",
   "metadata": {},
   "outputs": [
    {
     "data": {
      "text/plain": [
       "0       3.65\n",
       "1       3.05\n",
       "2       3.75\n",
       "3       3.32\n",
       "4       5.17\n",
       "       ...  \n",
       "749     7.55\n",
       "750     6.67\n",
       "751    15.63\n",
       "752    15.22\n",
       "753     9.86\n",
       "Name:  Estimated Unemployment Rate (%), Length: 740, dtype: float64"
      ]
     },
     "execution_count": 21,
     "metadata": {},
     "output_type": "execute_result"
    }
   ],
   "source": [
    "df.iloc[:,3]"
   ]
  },
  {
   "cell_type": "code",
   "execution_count": 30,
   "id": "c41a1dde-b353-4f80-81be-fb48094d6eca",
   "metadata": {},
   "outputs": [],
   "source": [
    "#Data Visualisation "
   ]
  },
  {
   "cell_type": "code",
   "execution_count": 31,
   "id": "5984186f-f320-456f-9688-336614844865",
   "metadata": {},
   "outputs": [],
   "source": [
    "import plotly.express as px"
   ]
  },
  {
   "cell_type": "code",
   "execution_count": 32,
   "id": "ce55d003-005a-490f-aafd-a3d7f2c96981",
   "metadata": {},
   "outputs": [
    {
     "data": {
      "application/vnd.plotly.v1+json": {
       "config": {
        "plotlyServerURL": "https://plot.ly"
       },
       "data": [
        {
         "hovertemplate": "Region=%{x}<br> Estimated Unemployment Rate (%)=%{y}<extra></extra>",
         "legendgroup": "Andhra Pradesh",
         "marker": {
          "color": "#636efa",
          "pattern": {
           "shape": ""
          }
         },
         "name": "Andhra Pradesh",
         "orientation": "v",
         "showlegend": true,
         "textposition": "auto",
         "type": "bar",
         "x": [
          "Andhra Pradesh",
          "Andhra Pradesh",
          "Andhra Pradesh",
          "Andhra Pradesh",
          "Andhra Pradesh",
          "Andhra Pradesh",
          "Andhra Pradesh",
          "Andhra Pradesh",
          "Andhra Pradesh",
          "Andhra Pradesh",
          "Andhra Pradesh",
          "Andhra Pradesh",
          "Andhra Pradesh",
          "Andhra Pradesh",
          "Andhra Pradesh",
          "Andhra Pradesh",
          "Andhra Pradesh",
          "Andhra Pradesh",
          "Andhra Pradesh",
          "Andhra Pradesh",
          "Andhra Pradesh",
          "Andhra Pradesh",
          "Andhra Pradesh",
          "Andhra Pradesh",
          "Andhra Pradesh",
          "Andhra Pradesh",
          "Andhra Pradesh",
          "Andhra Pradesh"
         ],
         "xaxis": "x",
         "y": {
          "bdata": "MzMzMzMzDUBmZmZmZmYIQAAAAAAAAA5Aj8L1KFyPCkCuR+F6FK4UQClcj8L1KAxAexSuR+F6EECF61G4HoURQFyPwvUoXBNApHA9CtejF0A9CtejcD0QQArXo3A9SjBA7FG4HoXrLEAzMzMzMzPrP1yPwvUoXBhAZmZmZmZmDkCPwvUoXI8WQHE9CtejcBJACtejcD0KGEDNzMzMzMwSQClcj8L1KB5AhetRuB6FH0BxPQrXo3AcQKRwPQrXoxZAw/UoXI/CI0BmZmZmZiZAQClcj8L16DhAcT0K16NwF0A=",
          "dtype": "f8"
         },
         "yaxis": "y"
        },
        {
         "hovertemplate": "Region=%{x}<br> Estimated Unemployment Rate (%)=%{y}<extra></extra>",
         "legendgroup": "Assam",
         "marker": {
          "color": "#EF553B",
          "pattern": {
           "shape": ""
          }
         },
         "name": "Assam",
         "orientation": "v",
         "showlegend": true,
         "textposition": "auto",
         "type": "bar",
         "x": [
          "Assam",
          "Assam",
          "Assam",
          "Assam",
          "Assam",
          "Assam",
          "Assam",
          "Assam",
          "Assam",
          "Assam",
          "Assam",
          "Assam",
          "Assam",
          "Assam",
          "Assam",
          "Assam",
          "Assam",
          "Assam",
          "Assam",
          "Assam",
          "Assam",
          "Assam",
          "Assam",
          "Assam",
          "Assam",
          "Assam"
         ],
         "xaxis": "x",
         "y": {
          "bdata": "KVyPwvUoEUBSuB6F61EUQArXo3A9ChFAKVyPwvUoF0DXo3A9CtcRQJqZmZmZmRJApHA9CtejEkApXI/C9SgRQBSuR+F6FApAKVyPwvUoDkDD9Shcj8IiQAAAAAAAAAAAexSuR+F6H0BI4XoUrscjQK5H4XoUrglASOF6FK7HJECF61G4HoUiQNejcD0KVyZAPQrXo3A9GUAUrkfhehQUQPYoXI/C9RxA9ihcj8L1I0CuR+F6FK4kQD0K16NwvSBACtejcD2KJUBcj8L1KFwLQA==",
          "dtype": "f8"
         },
         "yaxis": "y"
        },
        {
         "hovertemplate": "Region=%{x}<br> Estimated Unemployment Rate (%)=%{y}<extra></extra>",
         "legendgroup": "Bihar",
         "marker": {
          "color": "#00cc96",
          "pattern": {
           "shape": ""
          }
         },
         "name": "Bihar",
         "orientation": "v",
         "showlegend": true,
         "textposition": "auto",
         "type": "bar",
         "x": [
          "Bihar",
          "Bihar",
          "Bihar",
          "Bihar",
          "Bihar",
          "Bihar",
          "Bihar",
          "Bihar",
          "Bihar",
          "Bihar",
          "Bihar",
          "Bihar",
          "Bihar",
          "Bihar",
          "Bihar",
          "Bihar",
          "Bihar",
          "Bihar",
          "Bihar",
          "Bihar",
          "Bihar",
          "Bihar",
          "Bihar",
          "Bihar",
          "Bihar",
          "Bihar",
          "Bihar",
          "Bihar"
         ],
         "xaxis": "x",
         "y": {
          "bdata": "CtejcD2KIkBmZmZmZmYkQOF6FK5H4SpAAAAAAAAAJkA9CtejcL0hQHE9Ctej8ChAzczMzMzMKEBSuB6F61EkQMP1KFyPQiJAuB6F61E4I0BI4XoUrscuQOxRuB6Fi0ZA4XoUrkehR0A9CtejcH00QGZmZmZm5jNAFK5H4XqUKkApXI/C9WgwQClcj8L1qDFA9ihcj8J1NEAfhetRuB4sQB+F61G4njFAUrgehevRLUBxPQrXo7A0QLgehetROC5A9ihcj8J1L0DD9Shcj2JNQI/C9Shc70JAZmZmZmbmKEA=",
          "dtype": "f8"
         },
         "yaxis": "y"
        },
        {
         "hovertemplate": "Region=%{x}<br> Estimated Unemployment Rate (%)=%{y}<extra></extra>",
         "legendgroup": "Chhattisgarh",
         "marker": {
          "color": "#ab63fa",
          "pattern": {
           "shape": ""
          }
         },
         "name": "Chhattisgarh",
         "orientation": "v",
         "showlegend": true,
         "textposition": "auto",
         "type": "bar",
         "x": [
          "Chhattisgarh",
          "Chhattisgarh",
          "Chhattisgarh",
          "Chhattisgarh",
          "Chhattisgarh",
          "Chhattisgarh",
          "Chhattisgarh",
          "Chhattisgarh",
          "Chhattisgarh",
          "Chhattisgarh",
          "Chhattisgarh",
          "Chhattisgarh",
          "Chhattisgarh",
          "Chhattisgarh",
          "Chhattisgarh",
          "Chhattisgarh",
          "Chhattisgarh",
          "Chhattisgarh",
          "Chhattisgarh",
          "Chhattisgarh",
          "Chhattisgarh",
          "Chhattisgarh",
          "Chhattisgarh",
          "Chhattisgarh",
          "Chhattisgarh",
          "Chhattisgarh",
          "Chhattisgarh",
          "Chhattisgarh"
         ],
         "xaxis": "x",
         "y": {
          "bdata": "pHA9CtejI0AK16NwPQobQClcj8L1KBJAj8L1KFyPEkApXI/C9aggQNejcD0K1xtAKVyPwvUoBkBxPQrXo3AYQEjhehSuxyNAj8L1KFyPH0A9CtejcD0dQAAAAAAAAAAAj8L1KFyPHkBI4XoUrkckQArXo3A9iiNACtejcD2KJ0DXo3A9ClcgQClcj8L1KBlA7FG4HoXrIkAK16NwPYokQKRwPQrXoyBAj8L1KFyPDECF61G4HgUiQBSuR+F6lCNA7FG4HoVrIEDhehSuRyE0QJqZmZmZGThAUrgehesRO0A=",
          "dtype": "f8"
         },
         "yaxis": "y"
        },
        {
         "hovertemplate": "Region=%{x}<br> Estimated Unemployment Rate (%)=%{y}<extra></extra>",
         "legendgroup": "Delhi",
         "marker": {
          "color": "#FFA15A",
          "pattern": {
           "shape": ""
          }
         },
         "name": "Delhi",
         "orientation": "v",
         "showlegend": true,
         "textposition": "auto",
         "type": "bar",
         "x": [
          "Delhi",
          "Delhi",
          "Delhi",
          "Delhi",
          "Delhi",
          "Delhi",
          "Delhi",
          "Delhi",
          "Delhi",
          "Delhi",
          "Delhi",
          "Delhi",
          "Delhi",
          "Delhi",
          "Delhi",
          "Delhi",
          "Delhi",
          "Delhi",
          "Delhi",
          "Delhi",
          "Delhi",
          "Delhi",
          "Delhi",
          "Delhi",
          "Delhi",
          "Delhi",
          "Delhi",
          "Delhi"
         ],
         "xaxis": "x",
         "y": {
          "bdata": "H4XrUbgeKUApXI/C9agiQKRwPQrXIyZArkfhehQuMUAAAAAAAAApQK5H4XoUri9AuB6F61E4JkC4HoXrUfgwQPYoXI/C9SpAH4XrUbieK0Bcj8L1KFwuQHE9CtejsDRAw/UoXI/CNkCkcD0K1yM1QB+F61G4nihAhetRuB6FKUBcj8L1KFwtQArXo3A9CitA16NwPQqXNEBSuB6F69EoQFyPwvUoHDBApHA9CtcjJkAzMzMzM3M2QLgehetRuC1A16NwPQoXMUDD9Shcj4IwQKRwPQrX40ZAXI/C9SgcMkA=",
          "dtype": "f8"
         },
         "yaxis": "y"
        },
        {
         "hovertemplate": "Region=%{x}<br> Estimated Unemployment Rate (%)=%{y}<extra></extra>",
         "legendgroup": "Goa",
         "marker": {
          "color": "#19d3f3",
          "pattern": {
           "shape": ""
          }
         },
         "name": "Goa",
         "orientation": "v",
         "showlegend": true,
         "textposition": "auto",
         "type": "bar",
         "x": [
          "Goa",
          "Goa",
          "Goa",
          "Goa",
          "Goa",
          "Goa",
          "Goa",
          "Goa",
          "Goa",
          "Goa",
          "Goa",
          "Goa",
          "Goa",
          "Goa",
          "Goa",
          "Goa",
          "Goa",
          "Goa",
          "Goa",
          "Goa",
          "Goa",
          "Goa",
          "Goa",
          "Goa"
         ],
         "xaxis": "x",
         "y": {
          "bdata": "SOF6FK5HB0DNzMzMzMwVQPYoXI/C9SVArkfhehSu/z/hehSuR+EMQNejcD0K1xxA9ihcj8K1N0BSuB6F61EMQIXrUbgehRVAAAAAAAAAAABSuB6F69EvQAAAAAAAADRAAAAAAAAABkApXI/C9agqQI/C9ShcjyhAmpmZmZmZE0BI4XoUrkcJQB+F61G4nihAMzMzMzMzOUC4HoXrUTgwQNejcD0K1yVAPQrXo3A9EUAK16NwPQoTQIXrUbgehSdA",
          "dtype": "f8"
         },
         "yaxis": "y"
        },
        {
         "hovertemplate": "Region=%{x}<br> Estimated Unemployment Rate (%)=%{y}<extra></extra>",
         "legendgroup": "Gujarat",
         "marker": {
          "color": "#FF6692",
          "pattern": {
           "shape": ""
          }
         },
         "name": "Gujarat",
         "orientation": "v",
         "showlegend": true,
         "textposition": "auto",
         "type": "bar",
         "x": [
          "Gujarat",
          "Gujarat",
          "Gujarat",
          "Gujarat",
          "Gujarat",
          "Gujarat",
          "Gujarat",
          "Gujarat",
          "Gujarat",
          "Gujarat",
          "Gujarat",
          "Gujarat",
          "Gujarat",
          "Gujarat",
          "Gujarat",
          "Gujarat",
          "Gujarat",
          "Gujarat",
          "Gujarat",
          "Gujarat",
          "Gujarat",
          "Gujarat",
          "Gujarat",
          "Gujarat",
          "Gujarat",
          "Gujarat",
          "Gujarat",
          "Gujarat"
         ],
         "xaxis": "x",
         "y": {
          "bdata": "CtejcD0KB0AUrkfhehQTQFK4HoXrURJAmpmZmZmZDUApXI/C9SgZQKRwPQrXoxNAuB6F61G4EkCuR+F6FK4LQGZmZmZmZhVAj8L1KFyPGkBcj8L1KFweQAAAAAAAAChAKVyPwvUoLUCPwvUoXI/2P1yPwvUoXBBAPQrXo3A9GUCamZmZmZkUQM3MzMzMzBBA16NwPQrXF0DNzMzMzMwVQB+F61G4Hh5A16NwPQrXFkBI4XoUrkcXQClcj8L1KBhAj8L1KFyPFUBxPQrXo/A5QD0K16NwPSdAKVyPwvUoEkA=",
          "dtype": "f8"
         },
         "yaxis": "y"
        },
        {
         "hovertemplate": "Region=%{x}<br> Estimated Unemployment Rate (%)=%{y}<extra></extra>",
         "legendgroup": "Haryana",
         "marker": {
          "color": "#B6E880",
          "pattern": {
           "shape": ""
          }
         },
         "name": "Haryana",
         "orientation": "v",
         "showlegend": true,
         "textposition": "auto",
         "type": "bar",
         "x": [
          "Haryana",
          "Haryana",
          "Haryana",
          "Haryana",
          "Haryana",
          "Haryana",
          "Haryana",
          "Haryana",
          "Haryana",
          "Haryana",
          "Haryana",
          "Haryana",
          "Haryana",
          "Haryana",
          "Haryana",
          "Haryana",
          "Haryana",
          "Haryana",
          "Haryana",
          "Haryana",
          "Haryana",
          "Haryana",
          "Haryana",
          "Haryana",
          "Haryana",
          "Haryana",
          "Haryana",
          "Haryana"
         ],
         "xaxis": "x",
         "y": {
          "bdata": "FK5H4XoULUAUrkfhehQ3QLgehetRODBAcT0K16PwPkBcj8L1KFwwQOxRuB6FKzhA16NwPQqXMECPwvUoXI89QPYoXI/CNTBAcT0K16MwO0DsUbgehes3QK5H4XoUzkRAXI/C9SgcQUApXI/C9chBQOxRuB6FqzhA7FG4HoVrNEAzMzMzM3M5QHE9CtejMDhA16NwPQrXOkAK16NwPQo1QI/C9ShcDztAZmZmZmamN0A9CtejcD07QArXo3A9SjdApHA9CtcjO0BSuB6F63FHQHsUrkfhOkNAKVyPwvVoPUA=",
          "dtype": "f8"
         },
         "yaxis": "y"
        },
        {
         "hovertemplate": "Region=%{x}<br> Estimated Unemployment Rate (%)=%{y}<extra></extra>",
         "legendgroup": "Himachal Pradesh",
         "marker": {
          "color": "#FF97FF",
          "pattern": {
           "shape": ""
          }
         },
         "name": "Himachal Pradesh",
         "orientation": "v",
         "showlegend": true,
         "textposition": "auto",
         "type": "bar",
         "x": [
          "Himachal Pradesh",
          "Himachal Pradesh",
          "Himachal Pradesh",
          "Himachal Pradesh",
          "Himachal Pradesh",
          "Himachal Pradesh",
          "Himachal Pradesh",
          "Himachal Pradesh",
          "Himachal Pradesh",
          "Himachal Pradesh",
          "Himachal Pradesh",
          "Himachal Pradesh",
          "Himachal Pradesh",
          "Himachal Pradesh",
          "Himachal Pradesh",
          "Himachal Pradesh",
          "Himachal Pradesh",
          "Himachal Pradesh",
          "Himachal Pradesh",
          "Himachal Pradesh",
          "Himachal Pradesh",
          "Himachal Pradesh",
          "Himachal Pradesh",
          "Himachal Pradesh",
          "Himachal Pradesh",
          "Himachal Pradesh",
          "Himachal Pradesh",
          "Himachal Pradesh"
         ],
         "xaxis": "x",
         "y": {
          "bdata": "XI/C9ShcK0Bcj8L1KNwmQNejcD0KlzRAj8L1KFyPMkD2KFyPwvUvQB+F61G4ni9AXI/C9SjcNkD2KFyPwnUzQOxRuB6FqzBA16NwPQrXLkD2KFyPwrUxQArXo3A9CgFApHA9CtejOUDsUbgehevxP8P1KFyPwiVArkfhehRuNUDD9Shcj4I1QHsUrkfhejhAAAAAAAAAKECF61G4HsU3QIXrUbgeRTtAUrgehetROUBmZmZmZiYyQI/C9ShcTztAcT0K16NwOkCamZmZmZkFQAAAAAAAAElAH4XrUbieJUA=",
          "dtype": "f8"
         },
         "yaxis": "y"
        },
        {
         "hovertemplate": "Region=%{x}<br> Estimated Unemployment Rate (%)=%{y}<extra></extra>",
         "legendgroup": "Jammu & Kashmir",
         "marker": {
          "color": "#FECB52",
          "pattern": {
           "shape": ""
          }
         },
         "name": "Jammu & Kashmir",
         "orientation": "v",
         "showlegend": true,
         "textposition": "auto",
         "type": "bar",
         "x": [
          "Jammu & Kashmir",
          "Jammu & Kashmir",
          "Jammu & Kashmir",
          "Jammu & Kashmir",
          "Jammu & Kashmir",
          "Jammu & Kashmir",
          "Jammu & Kashmir",
          "Jammu & Kashmir",
          "Jammu & Kashmir",
          "Jammu & Kashmir",
          "Jammu & Kashmir",
          "Jammu & Kashmir",
          "Jammu & Kashmir",
          "Jammu & Kashmir",
          "Jammu & Kashmir",
          "Jammu & Kashmir",
          "Jammu & Kashmir",
          "Jammu & Kashmir",
          "Jammu & Kashmir",
          "Jammu & Kashmir",
          "Jammu & Kashmir"
         ],
         "xaxis": "x",
         "y": {
          "bdata": "j8L1KFyPKUCuR+F6FC4oQNejcD0KVytApHA9CtejJkCF61G4HkUzQPYoXI/CdS1AcT0K16MwNkB7FK5H4To1QAAAAAAAADBAw/UoXI/CAUC4HoXrUfgyQArXo3A9CjdA4XoUrkfhM0DNzMzMzIw1QI/C9ShcDzhAFK5H4XqULEAUrkfhehQcQArXo3A9ijJAXI/C9SjcM0AUrkfhepQsQOxRuB6F6ylA",
          "dtype": "f8"
         },
         "yaxis": "y"
        },
        {
         "hovertemplate": "Region=%{x}<br> Estimated Unemployment Rate (%)=%{y}<extra></extra>",
         "legendgroup": "Jharkhand",
         "marker": {
          "color": "#636efa",
          "pattern": {
           "shape": ""
          }
         },
         "name": "Jharkhand",
         "orientation": "v",
         "showlegend": true,
         "textposition": "auto",
         "type": "bar",
         "x": [
          "Jharkhand",
          "Jharkhand",
          "Jharkhand",
          "Jharkhand",
          "Jharkhand",
          "Jharkhand",
          "Jharkhand",
          "Jharkhand",
          "Jharkhand",
          "Jharkhand",
          "Jharkhand",
          "Jharkhand",
          "Jharkhand",
          "Jharkhand",
          "Jharkhand",
          "Jharkhand",
          "Jharkhand",
          "Jharkhand",
          "Jharkhand",
          "Jharkhand",
          "Jharkhand",
          "Jharkhand",
          "Jharkhand",
          "Jharkhand",
          "Jharkhand",
          "Jharkhand",
          "Jharkhand",
          "Jharkhand"
         ],
         "xaxis": "x",
         "y": {
          "bdata": "cT0K16NwHEDsUbgehesgQPYoXI/C9SNAH4XrUbgeKEB7FK5H4XocQEjhehSuRxpApHA9CtcjIEDNzMzMzEwuQKRwPQrXoxhAH4XrUbgeIkAK16NwPQoUQFyPwvUo3ERAzczMzMyMS0BI4XoUroc1QHsUrkfhOjFAw/UoXI+CNEDXo3A9ClcvQAAAAAAAQDRAKVyPwvUoNUDNzMzMzAwzQNejcD0KVzFAw/UoXI8CNkD2KFyPwvU2QOxRuB6FqzNAZmZmZmZmMEA9CtejcL1OQHsUrkfhilFA4XoUrkdhM0A=",
          "dtype": "f8"
         },
         "yaxis": "y"
        },
        {
         "hovertemplate": "Region=%{x}<br> Estimated Unemployment Rate (%)=%{y}<extra></extra>",
         "legendgroup": "Karnataka",
         "marker": {
          "color": "#EF553B",
          "pattern": {
           "shape": ""
          }
         },
         "name": "Karnataka",
         "orientation": "v",
         "showlegend": true,
         "textposition": "auto",
         "type": "bar",
         "x": [
          "Karnataka",
          "Karnataka",
          "Karnataka",
          "Karnataka",
          "Karnataka",
          "Karnataka",
          "Karnataka",
          "Karnataka",
          "Karnataka",
          "Karnataka",
          "Karnataka",
          "Karnataka",
          "Karnataka",
          "Karnataka",
          "Karnataka",
          "Karnataka",
          "Karnataka",
          "Karnataka",
          "Karnataka",
          "Karnataka",
          "Karnataka",
          "Karnataka",
          "Karnataka",
          "Karnataka",
          "Karnataka",
          "Karnataka",
          "Karnataka",
          "Karnataka"
         ],
         "xaxis": "x",
         "y": {
          "bdata": "16NwPQrXFUDsUbgehesXQKRwPQrXo+A/rkfhehSu1z+amZmZmZkJQIXrUbgehRxACtejcD0K8z89CtejcD3aP4/C9ShcjwRAcT0K16NwEEAfhetRuB4DQPYoXI/ClUBAuB6F61G4N0DXo3A9CtclQD0K16NwPRpAAAAAAAAAFEBSuB6F61ECQFK4HoXrUfQ/j8L1KFyPDED2KFyPwvUOQIXrUbgehQtA9ihcj8L1+D97FK5H4XoKQArXo3A9CgdArkfhehSuE0AfhetRuB45QMP1KFyPwi9AexSuR+F6GEA=",
          "dtype": "f8"
         },
         "yaxis": "y"
        },
        {
         "hovertemplate": "Region=%{x}<br> Estimated Unemployment Rate (%)=%{y}<extra></extra>",
         "legendgroup": "Kerala",
         "marker": {
          "color": "#00cc96",
          "pattern": {
           "shape": ""
          }
         },
         "name": "Kerala",
         "orientation": "v",
         "showlegend": true,
         "textposition": "auto",
         "type": "bar",
         "x": [
          "Kerala",
          "Kerala",
          "Kerala",
          "Kerala",
          "Kerala",
          "Kerala",
          "Kerala",
          "Kerala",
          "Kerala",
          "Kerala",
          "Kerala",
          "Kerala",
          "Kerala",
          "Kerala",
          "Kerala",
          "Kerala",
          "Kerala",
          "Kerala",
          "Kerala",
          "Kerala",
          "Kerala",
          "Kerala",
          "Kerala",
          "Kerala",
          "Kerala",
          "Kerala",
          "Kerala",
          "Kerala"
         ],
         "xaxis": "x",
         "y": {
          "bdata": "hetRuB6FGkAAAAAAAAAiQM3MzMzMzBNApHA9CtejJEBmZmZmZmYVQEjhehSuRyJAAAAAAAAAFEAK16NwPYolQHE9CtejcBBAUrgehevRIUAzMzMzM7MhQOxRuB6FayVA4XoUrkdhN0ApXI/C9ag7QHE9CtejcBhArkfhehSuGkBSuB6F61EeQMP1KFyPwh5AFK5H4XoUFkBmZmZmZmYVQNejcD0K1xpAPQrXo3A9HUCamZmZmZkaQFK4HoXrURhASOF6FK5HIkCuR+F6FG41QEjhehSuRz5A16NwPQpXKEA=",
          "dtype": "f8"
         },
         "yaxis": "y"
        },
        {
         "hovertemplate": "Region=%{x}<br> Estimated Unemployment Rate (%)=%{y}<extra></extra>",
         "legendgroup": "Madhya Pradesh",
         "marker": {
          "color": "#ab63fa",
          "pattern": {
           "shape": ""
          }
         },
         "name": "Madhya Pradesh",
         "orientation": "v",
         "showlegend": true,
         "textposition": "auto",
         "type": "bar",
         "x": [
          "Madhya Pradesh",
          "Madhya Pradesh",
          "Madhya Pradesh",
          "Madhya Pradesh",
          "Madhya Pradesh",
          "Madhya Pradesh",
          "Madhya Pradesh",
          "Madhya Pradesh",
          "Madhya Pradesh",
          "Madhya Pradesh",
          "Madhya Pradesh",
          "Madhya Pradesh",
          "Madhya Pradesh",
          "Madhya Pradesh",
          "Madhya Pradesh",
          "Madhya Pradesh",
          "Madhya Pradesh",
          "Madhya Pradesh",
          "Madhya Pradesh",
          "Madhya Pradesh",
          "Madhya Pradesh",
          "Madhya Pradesh",
          "Madhya Pradesh",
          "Madhya Pradesh",
          "Madhya Pradesh",
          "Madhya Pradesh",
          "Madhya Pradesh",
          "Madhya Pradesh"
         ],
         "xaxis": "x",
         "y": {
          "bdata": "CtejcD0KDUAAAAAAAAARQFyPwvUoXA9Aw/UoXI/CE0CkcD0K16MIQNejcD0K1wdAw/UoXI/CBUCF61G4HoUHQEjhehSuRw1ArkfhehSuEUAK16NwPQrzPwAAAAAAAClA9ihcj8J1NkDXo3A9CtcZQEjhehSuRw9AhetRuB6FGUCF61G4HoUdQEjhehSuRxtAAAAAAAAAHECamZmZmZkRQD0K16NwPRhAzczMzMzMGECuR+F6FK4UQNejcD0K1xNAMzMzMzMzE0DhehSuR+EnQB+F61G4PkRAcT0K16NwKUA=",
          "dtype": "f8"
         },
         "yaxis": "y"
        },
        {
         "hovertemplate": "Region=%{x}<br> Estimated Unemployment Rate (%)=%{y}<extra></extra>",
         "legendgroup": "Maharashtra",
         "marker": {
          "color": "#FFA15A",
          "pattern": {
           "shape": ""
          }
         },
         "name": "Maharashtra",
         "orientation": "v",
         "showlegend": true,
         "textposition": "auto",
         "type": "bar",
         "x": [
          "Maharashtra",
          "Maharashtra",
          "Maharashtra",
          "Maharashtra",
          "Maharashtra",
          "Maharashtra",
          "Maharashtra",
          "Maharashtra",
          "Maharashtra",
          "Maharashtra",
          "Maharashtra",
          "Maharashtra",
          "Maharashtra",
          "Maharashtra",
          "Maharashtra",
          "Maharashtra",
          "Maharashtra",
          "Maharashtra",
          "Maharashtra",
          "Maharashtra",
          "Maharashtra",
          "Maharashtra",
          "Maharashtra",
          "Maharashtra",
          "Maharashtra",
          "Maharashtra",
          "Maharashtra",
          "Maharashtra"
         ],
         "xaxis": "x",
         "y": {
          "bdata": "XI/C9ShcDUBcj8L1KFwRQEjhehSuRw1AFK5H4XoUDkCamZmZmZkRQHsUrkfheg5AcT0K16NwDUA9CtejcD0IQGZmZmZmZg5A9ihcj8L1EECF61G4HoUVQEjhehSuRzlApHA9CtfjMEDNzMzMzMwiQFK4HoXrURhA16NwPQrXGUBmZmZmZmYZQEjhehSuRx5AZmZmZmZmHkAK16NwPQoeQGZmZmZmZh5AUrgehetRH0CuR+F6FK4aQFyPwvUoXBVAXI/C9ShcGUB7FK5H4fotQNejcD0K1y9AhetRuB4FJEA=",
          "dtype": "f8"
         },
         "yaxis": "y"
        },
        {
         "hovertemplate": "Region=%{x}<br> Estimated Unemployment Rate (%)=%{y}<extra></extra>",
         "legendgroup": "Meghalaya",
         "marker": {
          "color": "#19d3f3",
          "pattern": {
           "shape": ""
          }
         },
         "name": "Meghalaya",
         "orientation": "v",
         "showlegend": true,
         "textposition": "auto",
         "type": "bar",
         "x": [
          "Meghalaya",
          "Meghalaya",
          "Meghalaya",
          "Meghalaya",
          "Meghalaya",
          "Meghalaya",
          "Meghalaya",
          "Meghalaya",
          "Meghalaya",
          "Meghalaya",
          "Meghalaya",
          "Meghalaya",
          "Meghalaya",
          "Meghalaya",
          "Meghalaya",
          "Meghalaya",
          "Meghalaya",
          "Meghalaya",
          "Meghalaya",
          "Meghalaya",
          "Meghalaya",
          "Meghalaya",
          "Meghalaya",
          "Meghalaya",
          "Meghalaya",
          "Meghalaya",
          "Meghalaya"
         ],
         "xaxis": "x",
         "y": {
          "bdata": "SOF6FK5HCUDsUbgehesQQHsUrkfhevA/pHA9Ctej4D+4HoXrUbjOP5qZmZmZmQ1AAAAAAAAA+D/NzMzMzMz8PwrXo3A9Cu8/FK5H4XoUBkB7FK5H4Xr0P8P1KFyPwiBA16NwPQrXDUCamZmZmZn1P83MzMzMzCBAUrgehetRIUC4HoXrUbgRQDMzMzMzMxdAMzMzMzMzFUDNzMzMzMwcQClcj8L1KAhA16NwPQrXFEAK16NwPQoTQHsUrkfheh1AZmZmZmZmBkCkcD0K12MxQClcj8L1KC1A",
          "dtype": "f8"
         },
         "yaxis": "y"
        },
        {
         "hovertemplate": "Region=%{x}<br> Estimated Unemployment Rate (%)=%{y}<extra></extra>",
         "legendgroup": "Odisha",
         "marker": {
          "color": "#FF6692",
          "pattern": {
           "shape": ""
          }
         },
         "name": "Odisha",
         "orientation": "v",
         "showlegend": true,
         "textposition": "auto",
         "type": "bar",
         "x": [
          "Odisha",
          "Odisha",
          "Odisha",
          "Odisha",
          "Odisha",
          "Odisha",
          "Odisha",
          "Odisha",
          "Odisha",
          "Odisha",
          "Odisha",
          "Odisha",
          "Odisha",
          "Odisha",
          "Odisha",
          "Odisha",
          "Odisha",
          "Odisha",
          "Odisha",
          "Odisha",
          "Odisha",
          "Odisha",
          "Odisha",
          "Odisha",
          "Odisha",
          "Odisha",
          "Odisha",
          "Odisha"
         ],
         "xaxis": "x",
         "y": {
          "bdata": "rkfhehSuEEDXo3A9CtcSQHsUrkfhegpAcT0K16NwDUA9CtejcD0RQB+F61G4HhFA4XoUrkfhEkCuR+F6FK4SQPYoXI/C9fw/exSuR+F6CkCuR+F6FC4uQHsUrkfhejhAZmZmZmbmIkBcj8L1KFwSQJqZmZmZmQdACtejcD0KBUB7FK5H4Xr8PwAAAAAAAAxAPQrXo3A9DkAAAAAAAAASQNejcD0K1wFA4XoUrkfhCkA9CtejcD0CQIXrUbgehQFArkfhehSuD0AAAAAAAIA0QAAAAAAAACRAcT0K16NwAUA=",
          "dtype": "f8"
         },
         "yaxis": "y"
        },
        {
         "hovertemplate": "Region=%{x}<br> Estimated Unemployment Rate (%)=%{y}<extra></extra>",
         "legendgroup": "Puducherry",
         "marker": {
          "color": "#B6E880",
          "pattern": {
           "shape": ""
          }
         },
         "name": "Puducherry",
         "orientation": "v",
         "showlegend": true,
         "textposition": "auto",
         "type": "bar",
         "x": [
          "Puducherry",
          "Puducherry",
          "Puducherry",
          "Puducherry",
          "Puducherry",
          "Puducherry",
          "Puducherry",
          "Puducherry",
          "Puducherry",
          "Puducherry",
          "Puducherry",
          "Puducherry",
          "Puducherry",
          "Puducherry",
          "Puducherry",
          "Puducherry",
          "Puducherry",
          "Puducherry",
          "Puducherry",
          "Puducherry",
          "Puducherry",
          "Puducherry",
          "Puducherry",
          "Puducherry",
          "Puducherry",
          "Puducherry"
         ],
         "xaxis": "x",
         "y": {
          "bdata": "AAAAAAAAAAAAAAAAAAAAAAAAAAAAAAAAZmZmZmZmE0AAAAAAAAAAAOF6FK5H4fI/AAAAAAAAAADXo3A9Ctf/P4/C9Shcj+I/16NwPQrX+z97FK5H4XoCQHE9CtejoFJAAAAAAAAA9D8AAAAAAAAAAAAAAAAAAAAAZmZmZmbmIUCF61G4HoXzP7gehetRuPI/7FG4HoXr9T/Xo3A9CtcUQD0K16NwPeI/exSuR+F6/D/Xo3A9CtfjP4/C9ShcL1NAAAAAAADAUkAzMzMzMzMSQA==",
          "dtype": "f8"
         },
         "yaxis": "y"
        },
        {
         "hovertemplate": "Region=%{x}<br> Estimated Unemployment Rate (%)=%{y}<extra></extra>",
         "legendgroup": "Punjab",
         "marker": {
          "color": "#FF97FF",
          "pattern": {
           "shape": ""
          }
         },
         "name": "Punjab",
         "orientation": "v",
         "showlegend": true,
         "textposition": "auto",
         "type": "bar",
         "x": [
          "Punjab",
          "Punjab",
          "Punjab",
          "Punjab",
          "Punjab",
          "Punjab",
          "Punjab",
          "Punjab",
          "Punjab",
          "Punjab",
          "Punjab",
          "Punjab",
          "Punjab",
          "Punjab",
          "Punjab",
          "Punjab",
          "Punjab",
          "Punjab",
          "Punjab",
          "Punjab",
          "Punjab",
          "Punjab",
          "Punjab",
          "Punjab",
          "Punjab",
          "Punjab",
          "Punjab",
          "Punjab"
         ],
         "xaxis": "x",
         "y": {
          "bdata": "16NwPQpXIkDsUbgehWsoQEjhehSuRyNAw/UoXI/CGkCuR+F6FC4hQB+F61G4HilASOF6FK5HHECF61G4HoUYQOF6FK5HYSNAUrgehevRJECF61G4HgUlQIXrUbgehQ1A7FG4HoVLREAAAAAAAAA0QHsUrkfh+ipA16NwPQpXKkC4HoXrUTgnQHsUrkfh+idA4XoUrkdhL0AAAAAAAIArQEjhehSuxyRAcT0K16PwJ0Bcj8L1KFwrQHsUrkfh+idAcT0K16PwI0AUrkfhehTyPwrXo3A9ijRAmpmZmZkZJUA=",
          "dtype": "f8"
         },
         "yaxis": "y"
        },
        {
         "hovertemplate": "Region=%{x}<br> Estimated Unemployment Rate (%)=%{y}<extra></extra>",
         "legendgroup": "Rajasthan",
         "marker": {
          "color": "#FECB52",
          "pattern": {
           "shape": ""
          }
         },
         "name": "Rajasthan",
         "orientation": "v",
         "showlegend": true,
         "textposition": "auto",
         "type": "bar",
         "x": [
          "Rajasthan",
          "Rajasthan",
          "Rajasthan",
          "Rajasthan",
          "Rajasthan",
          "Rajasthan",
          "Rajasthan",
          "Rajasthan",
          "Rajasthan",
          "Rajasthan",
          "Rajasthan",
          "Rajasthan",
          "Rajasthan",
          "Rajasthan",
          "Rajasthan",
          "Rajasthan",
          "Rajasthan",
          "Rajasthan",
          "Rajasthan",
          "Rajasthan",
          "Rajasthan",
          "Rajasthan",
          "Rajasthan",
          "Rajasthan",
          "Rajasthan",
          "Rajasthan",
          "Rajasthan",
          "Rajasthan"
         ],
         "xaxis": "x",
         "y": {
          "bdata": "H4XrUbgeEEBmZmZmZmYrQGZmZmZmZiNAAAAAAAAAKUDNzMzMzMwVQFK4HoXrUS1AcT0K16PwJEDsUbgehesrQAAAAAAAACBA9ihcj8L1LEBxPQrXo/AiQAAAAAAAgChAZmZmZmbmJEC4HoXrUbgrQD0K16NwPStAuB6F61G4LEDXo3A9ClcnQOxRuB6Fay1Aw/UoXI9CKUAK16NwPQoqQJqZmZmZmSxACtejcD0KMkBSuB6F69EyQIXrUbgeBTFACtejcD2KMkCkcD0K18NBQJqZmZmZWTlAFK5H4XoUKkA=",
          "dtype": "f8"
         },
         "yaxis": "y"
        },
        {
         "hovertemplate": "Region=%{x}<br> Estimated Unemployment Rate (%)=%{y}<extra></extra>",
         "legendgroup": "Sikkim",
         "marker": {
          "color": "#636efa",
          "pattern": {
           "shape": ""
          }
         },
         "name": "Sikkim",
         "orientation": "v",
         "showlegend": true,
         "textposition": "auto",
         "type": "bar",
         "x": [
          "Sikkim",
          "Sikkim",
          "Sikkim",
          "Sikkim",
          "Sikkim",
          "Sikkim",
          "Sikkim",
          "Sikkim",
          "Sikkim",
          "Sikkim",
          "Sikkim",
          "Sikkim",
          "Sikkim",
          "Sikkim",
          "Sikkim",
          "Sikkim",
          "Sikkim"
         ],
         "xaxis": "x",
         "y": {
          "bdata": "7FG4HoXrFUC4HoXrUTgqQAAAAAAAAPA/AAAAAAAAAAA9CtejcD0XQGZmZmZmZiBACtejcD0KH0B7FK5H4XoEQEjhehSuRxNAPQrXo3A9E0Bcj8L1KFwjQClcj8L1KBBAexSuR+F6HUAzMzMzM3M0QBSuR+F6FBdAAAAAAADAM0AK16NwPQoFQA==",
          "dtype": "f8"
         },
         "yaxis": "y"
        },
        {
         "hovertemplate": "Region=%{x}<br> Estimated Unemployment Rate (%)=%{y}<extra></extra>",
         "legendgroup": "Tamil Nadu",
         "marker": {
          "color": "#EF553B",
          "pattern": {
           "shape": ""
          }
         },
         "name": "Tamil Nadu",
         "orientation": "v",
         "showlegend": true,
         "textposition": "auto",
         "type": "bar",
         "x": [
          "Tamil Nadu",
          "Tamil Nadu",
          "Tamil Nadu",
          "Tamil Nadu",
          "Tamil Nadu",
          "Tamil Nadu",
          "Tamil Nadu",
          "Tamil Nadu",
          "Tamil Nadu",
          "Tamil Nadu",
          "Tamil Nadu",
          "Tamil Nadu",
          "Tamil Nadu",
          "Tamil Nadu",
          "Tamil Nadu",
          "Tamil Nadu",
          "Tamil Nadu",
          "Tamil Nadu",
          "Tamil Nadu",
          "Tamil Nadu",
          "Tamil Nadu",
          "Tamil Nadu",
          "Tamil Nadu",
          "Tamil Nadu",
          "Tamil Nadu",
          "Tamil Nadu",
          "Tamil Nadu",
          "Tamil Nadu"
         ],
         "xaxis": "x",
         "y": {
          "bdata": "CtejcD0K7z9xPQrXo3DtPwrXo3A9ChhASOF6FK5HB0Bcj8L1KFz7P1yPwvUoXPc/rkfhehSuA0DXo3A9CtcNQOF6FK5H4fI/uB6F61G48j9xPQrXo3AZQLgehetRmEpAPQrXo3BdQ0B7FK5H4XoAQHsUrkfheuw/9ihcj8L1+D9xPQrXo3AJQI/C9ShcDyNAw/UoXI/C/T8UrkfhehTyPzMzMzMzMwVAmpmZmZkZIEBmZmZmZmYAQHsUrkfhegpA16NwPQrXGUBmZmZmZsZGQDMzMzMz8zlArkfhehTuOEA=",
          "dtype": "f8"
         },
         "yaxis": "y"
        },
        {
         "hovertemplate": "Region=%{x}<br> Estimated Unemployment Rate (%)=%{y}<extra></extra>",
         "legendgroup": "Telangana",
         "marker": {
          "color": "#00cc96",
          "pattern": {
           "shape": ""
          }
         },
         "name": "Telangana",
         "orientation": "v",
         "showlegend": true,
         "textposition": "auto",
         "type": "bar",
         "x": [
          "Telangana",
          "Telangana",
          "Telangana",
          "Telangana",
          "Telangana",
          "Telangana",
          "Telangana",
          "Telangana",
          "Telangana",
          "Telangana",
          "Telangana",
          "Telangana",
          "Telangana",
          "Telangana",
          "Telangana",
          "Telangana",
          "Telangana",
          "Telangana",
          "Telangana",
          "Telangana",
          "Telangana",
          "Telangana",
          "Telangana",
          "Telangana",
          "Telangana",
          "Telangana",
          "Telangana",
          "Telangana"
         ],
         "xaxis": "x",
         "y": {
          "bdata": "16NwPQrXAUCuR+F6FK4XQJqZmZmZmQNAZmZmZmZm9j/2KFyPwvUVQClcj8L1KB1A4XoUrkfhGUCamZmZmZn1PxSuR+F6FBRACtejcD0KIkCF61G4HoUWQArXo3A9ChJA4XoUrkcBQUDNzMzMzEwzQFK4HoXrUfg/4XoUrkfh9j/Xo3A9CtcNQMP1KFyPwhBAw/UoXI/CGED2KFyPwvUaQOxRuB6F6xRA4XoUrkfhEED2KFyPwvUZQPYoXI/C9RpAZmZmZmZmGEAAAAAAAAAlQClcj8L1SEJArkfhehSuG0A=",
          "dtype": "f8"
         },
         "yaxis": "y"
        },
        {
         "hovertemplate": "Region=%{x}<br> Estimated Unemployment Rate (%)=%{y}<extra></extra>",
         "legendgroup": "Tripura",
         "marker": {
          "color": "#ab63fa",
          "pattern": {
           "shape": ""
          }
         },
         "name": "Tripura",
         "orientation": "v",
         "showlegend": true,
         "textposition": "auto",
         "type": "bar",
         "x": [
          "Tripura",
          "Tripura",
          "Tripura",
          "Tripura",
          "Tripura",
          "Tripura",
          "Tripura",
          "Tripura",
          "Tripura",
          "Tripura",
          "Tripura",
          "Tripura",
          "Tripura",
          "Tripura",
          "Tripura",
          "Tripura",
          "Tripura",
          "Tripura",
          "Tripura",
          "Tripura",
          "Tripura",
          "Tripura",
          "Tripura",
          "Tripura",
          "Tripura",
          "Tripura",
          "Tripura",
          "Tripura"
         ],
         "xaxis": "x",
         "y": {
          "bdata": "AAAAAABAPUCkcD0K16M6QLgehetReDZAPQrXo3B9OUB7FK5H4To+QArXo3A9ijtAAAAAAABAOUBI4XoUroc6QClcj8L16D9AuB6F61E4OkBcj8L1KJw/QFK4HoXr0UVA7FG4HoVrLUDXo3A9CtcyQLgehetRWEFA16NwPQqXOUCPwvUoXM85QJqZmZmZuUBAKVyPwvXIQEDsUbgehas6QGZmZmZmJjtAPQrXo3C9QECPwvUoXC9BQHE9Ctej8EBAcT0K16OwOUBxPQrXo3BBQEjhehSuxzBAuB6F61F4O0A=",
          "dtype": "f8"
         },
         "yaxis": "y"
        },
        {
         "hovertemplate": "Region=%{x}<br> Estimated Unemployment Rate (%)=%{y}<extra></extra>",
         "legendgroup": "Uttar Pradesh",
         "marker": {
          "color": "#FFA15A",
          "pattern": {
           "shape": ""
          }
         },
         "name": "Uttar Pradesh",
         "orientation": "v",
         "showlegend": true,
         "textposition": "auto",
         "type": "bar",
         "x": [
          "Uttar Pradesh",
          "Uttar Pradesh",
          "Uttar Pradesh",
          "Uttar Pradesh",
          "Uttar Pradesh",
          "Uttar Pradesh",
          "Uttar Pradesh",
          "Uttar Pradesh",
          "Uttar Pradesh",
          "Uttar Pradesh",
          "Uttar Pradesh",
          "Uttar Pradesh",
          "Uttar Pradesh",
          "Uttar Pradesh",
          "Uttar Pradesh",
          "Uttar Pradesh",
          "Uttar Pradesh",
          "Uttar Pradesh",
          "Uttar Pradesh",
          "Uttar Pradesh",
          "Uttar Pradesh",
          "Uttar Pradesh",
          "Uttar Pradesh",
          "Uttar Pradesh",
          "Uttar Pradesh",
          "Uttar Pradesh",
          "Uttar Pradesh",
          "Uttar Pradesh"
         ],
         "xaxis": "x",
         "y": {
          "bdata": "hetRuB6FJEDD9Shcj0ImQOF6FK5HYSJAcT0K16PwJkDNzMzMzMwZQFyPwvUoXCRAw/UoXI/CG0Bcj8L1KNwgQD0K16NwPRhAPQrXo3A9IEA9CtejcL0iQOxRuB6F6zNApHA9CtfjMECF61G4HgUhQM3MzMzMzCxAPQrXo3A9J0CamZmZmZknQPYoXI/CdS1AKVyPwvUoK0AzMzMzM7MkQB+F61G4niZAPQrXo3C9KECuR+F6FK4oQM3MzMzMTCdApHA9CtejKEBxPQrXo/A6QEjhehSuB0BAmpmZmZkZKkA=",
          "dtype": "f8"
         },
         "yaxis": "y"
        },
        {
         "hovertemplate": "Region=%{x}<br> Estimated Unemployment Rate (%)=%{y}<extra></extra>",
         "legendgroup": "Uttarakhand",
         "marker": {
          "color": "#19d3f3",
          "pattern": {
           "shape": ""
          }
         },
         "name": "Uttarakhand",
         "orientation": "v",
         "showlegend": true,
         "textposition": "auto",
         "type": "bar",
         "x": [
          "Uttarakhand",
          "Uttarakhand",
          "Uttarakhand",
          "Uttarakhand",
          "Uttarakhand",
          "Uttarakhand",
          "Uttarakhand",
          "Uttarakhand",
          "Uttarakhand",
          "Uttarakhand",
          "Uttarakhand",
          "Uttarakhand",
          "Uttarakhand",
          "Uttarakhand",
          "Uttarakhand",
          "Uttarakhand",
          "Uttarakhand",
          "Uttarakhand",
          "Uttarakhand",
          "Uttarakhand",
          "Uttarakhand",
          "Uttarakhand",
          "Uttarakhand",
          "Uttarakhand",
          "Uttarakhand",
          "Uttarakhand",
          "Uttarakhand"
         ],
         "xaxis": "x",
         "y": {
          "bdata": "FK5H4XoU+j+amZmZmZkSQPYoXI/C9RZAcT0K16NwGEDD9Shcj8ILQFK4HoXrURNAPQrXo3A9FkAUrkfhehQSQK5H4XoUrhBAZmZmZmZmE0BI4XoUrkcNQI/C9ShcjwxA7FG4HoVrJUDXo3A9ClciQMP1KFyPwhJAw/UoXI/CG0C4HoXrUbgdQD0K16NwPSNA4XoUrkfhEkBcj8L1KFwZQI/C9Shcjx1A16NwPQrXIUAfhetRuB4VQM3MzMzMTCBAXI/C9ShcKkBcj8L1KFwxQFK4HoXrURRA",
          "dtype": "f8"
         },
         "yaxis": "y"
        },
        {
         "hovertemplate": "Region=%{x}<br> Estimated Unemployment Rate (%)=%{y}<extra></extra>",
         "legendgroup": "West Bengal",
         "marker": {
          "color": "#FF6692",
          "pattern": {
           "shape": ""
          }
         },
         "name": "West Bengal",
         "orientation": "v",
         "showlegend": true,
         "textposition": "auto",
         "type": "bar",
         "x": [
          "West Bengal",
          "West Bengal",
          "West Bengal",
          "West Bengal",
          "West Bengal",
          "West Bengal",
          "West Bengal",
          "West Bengal",
          "West Bengal",
          "West Bengal",
          "West Bengal",
          "West Bengal",
          "West Bengal",
          "West Bengal",
          "West Bengal",
          "West Bengal",
          "West Bengal",
          "West Bengal",
          "West Bengal",
          "West Bengal",
          "West Bengal",
          "West Bengal",
          "West Bengal",
          "West Bengal",
          "West Bengal",
          "West Bengal",
          "West Bengal",
          "West Bengal"
         ],
         "xaxis": "x",
         "y": {
          "bdata": "FK5H4XoUGEBmZmZmZmYXQHsUrkfhehZAUrgehetRFkAK16NwPQoVQB+F61G4HhtAUrgehetRF0ApXI/C9SgXQClcj8L1KBtAPQrXo3A9DkAUrkfhehQcQFK4HoXrUTJArkfhehRuMkDD9Shcj8ITQAAAAAAAAB1AhetRuB6FHUCkcD0K16MfQBSuR+F6FB1AKVyPwvUoH0BSuB6F61EfQHE9CtejcBpA9ihcj8L1HEAUrkfhehQdQDMzMzMzMx5ArkfhehSuGkDD9Shcj0IvQHE9CtejcC5AuB6F61G4I0A=",
          "dtype": "f8"
         },
         "yaxis": "y"
        },
        {
         "hovertemplate": "Region=%{x}<br> Estimated Unemployment Rate (%)=%{y}<extra></extra>",
         "legendgroup": "Chandigarh",
         "marker": {
          "color": "#B6E880",
          "pattern": {
           "shape": ""
          }
         },
         "name": "Chandigarh",
         "orientation": "v",
         "showlegend": true,
         "textposition": "auto",
         "type": "bar",
         "x": [
          "Chandigarh",
          "Chandigarh",
          "Chandigarh",
          "Chandigarh",
          "Chandigarh",
          "Chandigarh",
          "Chandigarh",
          "Chandigarh",
          "Chandigarh",
          "Chandigarh",
          "Chandigarh",
          "Chandigarh"
         ],
         "xaxis": "x",
         "y": {
          "bdata": "mpmZmZlZMkDNzMzMzMwoQM3MzMzMzDVACtejcD0KI0CkcD0K1yM0QHsUrkfh+itAzczMzMwMNkApXI/C9aggQAAAAAAAADRA7FG4HoWrMECuR+F6FG41QOF6FK5H4RxA",
          "dtype": "f8"
         },
         "yaxis": "y"
        }
       ],
       "layout": {
        "barmode": "relative",
        "legend": {
         "title": {
          "text": "Region"
         },
         "tracegroupgap": 0
        },
        "template": {
         "data": {
          "bar": [
           {
            "error_x": {
             "color": "#2a3f5f"
            },
            "error_y": {
             "color": "#2a3f5f"
            },
            "marker": {
             "line": {
              "color": "#E5ECF6",
              "width": 0.5
             },
             "pattern": {
              "fillmode": "overlay",
              "size": 10,
              "solidity": 0.2
             }
            },
            "type": "bar"
           }
          ],
          "barpolar": [
           {
            "marker": {
             "line": {
              "color": "#E5ECF6",
              "width": 0.5
             },
             "pattern": {
              "fillmode": "overlay",
              "size": 10,
              "solidity": 0.2
             }
            },
            "type": "barpolar"
           }
          ],
          "carpet": [
           {
            "aaxis": {
             "endlinecolor": "#2a3f5f",
             "gridcolor": "white",
             "linecolor": "white",
             "minorgridcolor": "white",
             "startlinecolor": "#2a3f5f"
            },
            "baxis": {
             "endlinecolor": "#2a3f5f",
             "gridcolor": "white",
             "linecolor": "white",
             "minorgridcolor": "white",
             "startlinecolor": "#2a3f5f"
            },
            "type": "carpet"
           }
          ],
          "choropleth": [
           {
            "colorbar": {
             "outlinewidth": 0,
             "ticks": ""
            },
            "type": "choropleth"
           }
          ],
          "contour": [
           {
            "colorbar": {
             "outlinewidth": 0,
             "ticks": ""
            },
            "colorscale": [
             [
              0,
              "#0d0887"
             ],
             [
              0.1111111111111111,
              "#46039f"
             ],
             [
              0.2222222222222222,
              "#7201a8"
             ],
             [
              0.3333333333333333,
              "#9c179e"
             ],
             [
              0.4444444444444444,
              "#bd3786"
             ],
             [
              0.5555555555555556,
              "#d8576b"
             ],
             [
              0.6666666666666666,
              "#ed7953"
             ],
             [
              0.7777777777777778,
              "#fb9f3a"
             ],
             [
              0.8888888888888888,
              "#fdca26"
             ],
             [
              1,
              "#f0f921"
             ]
            ],
            "type": "contour"
           }
          ],
          "contourcarpet": [
           {
            "colorbar": {
             "outlinewidth": 0,
             "ticks": ""
            },
            "type": "contourcarpet"
           }
          ],
          "heatmap": [
           {
            "colorbar": {
             "outlinewidth": 0,
             "ticks": ""
            },
            "colorscale": [
             [
              0,
              "#0d0887"
             ],
             [
              0.1111111111111111,
              "#46039f"
             ],
             [
              0.2222222222222222,
              "#7201a8"
             ],
             [
              0.3333333333333333,
              "#9c179e"
             ],
             [
              0.4444444444444444,
              "#bd3786"
             ],
             [
              0.5555555555555556,
              "#d8576b"
             ],
             [
              0.6666666666666666,
              "#ed7953"
             ],
             [
              0.7777777777777778,
              "#fb9f3a"
             ],
             [
              0.8888888888888888,
              "#fdca26"
             ],
             [
              1,
              "#f0f921"
             ]
            ],
            "type": "heatmap"
           }
          ],
          "histogram": [
           {
            "marker": {
             "pattern": {
              "fillmode": "overlay",
              "size": 10,
              "solidity": 0.2
             }
            },
            "type": "histogram"
           }
          ],
          "histogram2d": [
           {
            "colorbar": {
             "outlinewidth": 0,
             "ticks": ""
            },
            "colorscale": [
             [
              0,
              "#0d0887"
             ],
             [
              0.1111111111111111,
              "#46039f"
             ],
             [
              0.2222222222222222,
              "#7201a8"
             ],
             [
              0.3333333333333333,
              "#9c179e"
             ],
             [
              0.4444444444444444,
              "#bd3786"
             ],
             [
              0.5555555555555556,
              "#d8576b"
             ],
             [
              0.6666666666666666,
              "#ed7953"
             ],
             [
              0.7777777777777778,
              "#fb9f3a"
             ],
             [
              0.8888888888888888,
              "#fdca26"
             ],
             [
              1,
              "#f0f921"
             ]
            ],
            "type": "histogram2d"
           }
          ],
          "histogram2dcontour": [
           {
            "colorbar": {
             "outlinewidth": 0,
             "ticks": ""
            },
            "colorscale": [
             [
              0,
              "#0d0887"
             ],
             [
              0.1111111111111111,
              "#46039f"
             ],
             [
              0.2222222222222222,
              "#7201a8"
             ],
             [
              0.3333333333333333,
              "#9c179e"
             ],
             [
              0.4444444444444444,
              "#bd3786"
             ],
             [
              0.5555555555555556,
              "#d8576b"
             ],
             [
              0.6666666666666666,
              "#ed7953"
             ],
             [
              0.7777777777777778,
              "#fb9f3a"
             ],
             [
              0.8888888888888888,
              "#fdca26"
             ],
             [
              1,
              "#f0f921"
             ]
            ],
            "type": "histogram2dcontour"
           }
          ],
          "mesh3d": [
           {
            "colorbar": {
             "outlinewidth": 0,
             "ticks": ""
            },
            "type": "mesh3d"
           }
          ],
          "parcoords": [
           {
            "line": {
             "colorbar": {
              "outlinewidth": 0,
              "ticks": ""
             }
            },
            "type": "parcoords"
           }
          ],
          "pie": [
           {
            "automargin": true,
            "type": "pie"
           }
          ],
          "scatter": [
           {
            "fillpattern": {
             "fillmode": "overlay",
             "size": 10,
             "solidity": 0.2
            },
            "type": "scatter"
           }
          ],
          "scatter3d": [
           {
            "line": {
             "colorbar": {
              "outlinewidth": 0,
              "ticks": ""
             }
            },
            "marker": {
             "colorbar": {
              "outlinewidth": 0,
              "ticks": ""
             }
            },
            "type": "scatter3d"
           }
          ],
          "scattercarpet": [
           {
            "marker": {
             "colorbar": {
              "outlinewidth": 0,
              "ticks": ""
             }
            },
            "type": "scattercarpet"
           }
          ],
          "scattergeo": [
           {
            "marker": {
             "colorbar": {
              "outlinewidth": 0,
              "ticks": ""
             }
            },
            "type": "scattergeo"
           }
          ],
          "scattergl": [
           {
            "marker": {
             "colorbar": {
              "outlinewidth": 0,
              "ticks": ""
             }
            },
            "type": "scattergl"
           }
          ],
          "scattermap": [
           {
            "marker": {
             "colorbar": {
              "outlinewidth": 0,
              "ticks": ""
             }
            },
            "type": "scattermap"
           }
          ],
          "scattermapbox": [
           {
            "marker": {
             "colorbar": {
              "outlinewidth": 0,
              "ticks": ""
             }
            },
            "type": "scattermapbox"
           }
          ],
          "scatterpolar": [
           {
            "marker": {
             "colorbar": {
              "outlinewidth": 0,
              "ticks": ""
             }
            },
            "type": "scatterpolar"
           }
          ],
          "scatterpolargl": [
           {
            "marker": {
             "colorbar": {
              "outlinewidth": 0,
              "ticks": ""
             }
            },
            "type": "scatterpolargl"
           }
          ],
          "scatterternary": [
           {
            "marker": {
             "colorbar": {
              "outlinewidth": 0,
              "ticks": ""
             }
            },
            "type": "scatterternary"
           }
          ],
          "surface": [
           {
            "colorbar": {
             "outlinewidth": 0,
             "ticks": ""
            },
            "colorscale": [
             [
              0,
              "#0d0887"
             ],
             [
              0.1111111111111111,
              "#46039f"
             ],
             [
              0.2222222222222222,
              "#7201a8"
             ],
             [
              0.3333333333333333,
              "#9c179e"
             ],
             [
              0.4444444444444444,
              "#bd3786"
             ],
             [
              0.5555555555555556,
              "#d8576b"
             ],
             [
              0.6666666666666666,
              "#ed7953"
             ],
             [
              0.7777777777777778,
              "#fb9f3a"
             ],
             [
              0.8888888888888888,
              "#fdca26"
             ],
             [
              1,
              "#f0f921"
             ]
            ],
            "type": "surface"
           }
          ],
          "table": [
           {
            "cells": {
             "fill": {
              "color": "#EBF0F8"
             },
             "line": {
              "color": "white"
             }
            },
            "header": {
             "fill": {
              "color": "#C8D4E3"
             },
             "line": {
              "color": "white"
             }
            },
            "type": "table"
           }
          ]
         },
         "layout": {
          "annotationdefaults": {
           "arrowcolor": "#2a3f5f",
           "arrowhead": 0,
           "arrowwidth": 1
          },
          "autotypenumbers": "strict",
          "coloraxis": {
           "colorbar": {
            "outlinewidth": 0,
            "ticks": ""
           }
          },
          "colorscale": {
           "diverging": [
            [
             0,
             "#8e0152"
            ],
            [
             0.1,
             "#c51b7d"
            ],
            [
             0.2,
             "#de77ae"
            ],
            [
             0.3,
             "#f1b6da"
            ],
            [
             0.4,
             "#fde0ef"
            ],
            [
             0.5,
             "#f7f7f7"
            ],
            [
             0.6,
             "#e6f5d0"
            ],
            [
             0.7,
             "#b8e186"
            ],
            [
             0.8,
             "#7fbc41"
            ],
            [
             0.9,
             "#4d9221"
            ],
            [
             1,
             "#276419"
            ]
           ],
           "sequential": [
            [
             0,
             "#0d0887"
            ],
            [
             0.1111111111111111,
             "#46039f"
            ],
            [
             0.2222222222222222,
             "#7201a8"
            ],
            [
             0.3333333333333333,
             "#9c179e"
            ],
            [
             0.4444444444444444,
             "#bd3786"
            ],
            [
             0.5555555555555556,
             "#d8576b"
            ],
            [
             0.6666666666666666,
             "#ed7953"
            ],
            [
             0.7777777777777778,
             "#fb9f3a"
            ],
            [
             0.8888888888888888,
             "#fdca26"
            ],
            [
             1,
             "#f0f921"
            ]
           ],
           "sequentialminus": [
            [
             0,
             "#0d0887"
            ],
            [
             0.1111111111111111,
             "#46039f"
            ],
            [
             0.2222222222222222,
             "#7201a8"
            ],
            [
             0.3333333333333333,
             "#9c179e"
            ],
            [
             0.4444444444444444,
             "#bd3786"
            ],
            [
             0.5555555555555556,
             "#d8576b"
            ],
            [
             0.6666666666666666,
             "#ed7953"
            ],
            [
             0.7777777777777778,
             "#fb9f3a"
            ],
            [
             0.8888888888888888,
             "#fdca26"
            ],
            [
             1,
             "#f0f921"
            ]
           ]
          },
          "colorway": [
           "#636efa",
           "#EF553B",
           "#00cc96",
           "#ab63fa",
           "#FFA15A",
           "#19d3f3",
           "#FF6692",
           "#B6E880",
           "#FF97FF",
           "#FECB52"
          ],
          "font": {
           "color": "#2a3f5f"
          },
          "geo": {
           "bgcolor": "white",
           "lakecolor": "white",
           "landcolor": "#E5ECF6",
           "showlakes": true,
           "showland": true,
           "subunitcolor": "white"
          },
          "hoverlabel": {
           "align": "left"
          },
          "hovermode": "closest",
          "mapbox": {
           "style": "light"
          },
          "paper_bgcolor": "white",
          "plot_bgcolor": "#E5ECF6",
          "polar": {
           "angularaxis": {
            "gridcolor": "white",
            "linecolor": "white",
            "ticks": ""
           },
           "bgcolor": "#E5ECF6",
           "radialaxis": {
            "gridcolor": "white",
            "linecolor": "white",
            "ticks": ""
           }
          },
          "scene": {
           "xaxis": {
            "backgroundcolor": "#E5ECF6",
            "gridcolor": "white",
            "gridwidth": 2,
            "linecolor": "white",
            "showbackground": true,
            "ticks": "",
            "zerolinecolor": "white"
           },
           "yaxis": {
            "backgroundcolor": "#E5ECF6",
            "gridcolor": "white",
            "gridwidth": 2,
            "linecolor": "white",
            "showbackground": true,
            "ticks": "",
            "zerolinecolor": "white"
           },
           "zaxis": {
            "backgroundcolor": "#E5ECF6",
            "gridcolor": "white",
            "gridwidth": 2,
            "linecolor": "white",
            "showbackground": true,
            "ticks": "",
            "zerolinecolor": "white"
           }
          },
          "shapedefaults": {
           "line": {
            "color": "#2a3f5f"
           }
          },
          "ternary": {
           "aaxis": {
            "gridcolor": "white",
            "linecolor": "white",
            "ticks": ""
           },
           "baxis": {
            "gridcolor": "white",
            "linecolor": "white",
            "ticks": ""
           },
           "bgcolor": "#E5ECF6",
           "caxis": {
            "gridcolor": "white",
            "linecolor": "white",
            "ticks": ""
           }
          },
          "title": {
           "x": 0.05
          },
          "xaxis": {
           "automargin": true,
           "gridcolor": "white",
           "linecolor": "white",
           "ticks": "",
           "title": {
            "standoff": 15
           },
           "zerolinecolor": "white",
           "zerolinewidth": 2
          },
          "yaxis": {
           "automargin": true,
           "gridcolor": "white",
           "linecolor": "white",
           "ticks": "",
           "title": {
            "standoff": 15
           },
           "zerolinecolor": "white",
           "zerolinewidth": 2
          }
         }
        },
        "title": {
         "text": "Unemployment Rate (Region Wise) by Bar Origin"
        },
        "xaxis": {
         "anchor": "y",
         "categoryarray": [
          "Andhra Pradesh",
          "Assam",
          "Bihar",
          "Chhattisgarh",
          "Delhi",
          "Goa",
          "Gujarat",
          "Haryana",
          "Himachal Pradesh",
          "Jammu & Kashmir",
          "Jharkhand",
          "Karnataka",
          "Kerala",
          "Madhya Pradesh",
          "Maharashtra",
          "Meghalaya",
          "Odisha",
          "Puducherry",
          "Punjab",
          "Rajasthan",
          "Sikkim",
          "Tamil Nadu",
          "Telangana",
          "Tripura",
          "Uttar Pradesh",
          "Uttarakhand",
          "West Bengal",
          "Chandigarh"
         ],
         "categoryorder": "total descending",
         "domain": [
          0,
          1
         ],
         "title": {
          "text": "Region"
         }
        },
        "yaxis": {
         "anchor": "x",
         "domain": [
          0,
          1
         ],
         "title": {
          "text": " Estimated Unemployment Rate (%)"
         }
        }
       }
      },
      "image/png": "[encoded data removed]"
     },
     "metadata": {},
     "output_type": "display_data"
    }
   ],
   "source": [
    "rue = px.bar(df,x=x,y=y, color='Region', title='Unemployment Rate (Region Wise) by Bar Origin', template='plotly')\n",
    "rue.update_layout(xaxis={'categoryorder':'total descending'})\n",
    "rue.show()"
   ]
  },
  {
   "cell_type": "code",
   "execution_count": 25,
   "id": "cc3ee980-1016-4b0e-873c-ed9911b41113",
   "metadata": {},
   "outputs": [
    {
     "data": {
      "application/vnd.plotly.v1+json": {
       "config": {
        "plotlyServerURL": "https://plot.ly"
       },
       "data": [
        {
         "domain": {
          "x": [
           0,
           1
          ],
          "y": [
           0,
           1
          ]
         },
         "hovertemplate": "Region=%{label}<br> Estimated Unemployment Rate (%)=%{value}<extra></extra>",
         "labels": [
          "Andhra Pradesh",
          "Andhra Pradesh",
          "Andhra Pradesh",
          "Andhra Pradesh",
          "Andhra Pradesh",
          "Andhra Pradesh",
          "Andhra Pradesh",
          "Andhra Pradesh",
          "Andhra Pradesh",
          "Andhra Pradesh",
          "Andhra Pradesh",
          "Andhra Pradesh",
          "Andhra Pradesh",
          "Andhra Pradesh",
          "Assam",
          "Assam",
          "Assam",
          "Assam",
          "Assam",
          "Assam",
          "Assam",
          "Assam",
          "Assam",
          "Assam",
          "Assam",
          "Assam",
          "Bihar",
          "Bihar",
          "Bihar",
          "Bihar",
          "Bihar",
          "Bihar",
          "Bihar",
          "Bihar",
          "Bihar",
          "Bihar",
          "Bihar",
          "Bihar",
          "Bihar",
          "Bihar",
          "Chhattisgarh",
          "Chhattisgarh",
          "Chhattisgarh",
          "Chhattisgarh",
          "Chhattisgarh",
          "Chhattisgarh",
          "Chhattisgarh",
          "Chhattisgarh",
          "Chhattisgarh",
          "Chhattisgarh",
          "Chhattisgarh",
          "Chhattisgarh",
          "Chhattisgarh",
          "Chhattisgarh",
          "Delhi",
          "Delhi",
          "Delhi",
          "Delhi",
          "Delhi",
          "Delhi",
          "Delhi",
          "Delhi",
          "Delhi",
          "Delhi",
          "Delhi",
          "Delhi",
          "Delhi",
          "Delhi",
          "Goa",
          "Goa",
          "Goa",
          "Goa",
          "Goa",
          "Goa",
          "Goa",
          "Goa",
          "Goa",
          "Goa",
          "Goa",
          "Goa",
          "Gujarat",
          "Gujarat",
          "Gujarat",
          "Gujarat",
          "Gujarat",
          "Gujarat",
          "Gujarat",
          "Gujarat",
          "Gujarat",
          "Gujarat",
          "Gujarat",
          "Gujarat",
          "Gujarat",
          "Gujarat",
          "Haryana",
          "Haryana",
          "Haryana",
          "Haryana",
          "Haryana",
          "Haryana",
          "Haryana",
          "Haryana",
          "Haryana",
          "Haryana",
          "Haryana",
          "Haryana",
          "Haryana",
          "Haryana",
          "Himachal Pradesh",
          "Himachal Pradesh",
          "Himachal Pradesh",
          "Himachal Pradesh",
          "Himachal Pradesh",
          "Himachal Pradesh",
          "Himachal Pradesh",
          "Himachal Pradesh",
          "Himachal Pradesh",
          "Himachal Pradesh",
          "Himachal Pradesh",
          "Himachal Pradesh",
          "Himachal Pradesh",
          "Himachal Pradesh",
          "Jammu & Kashmir",
          "Jammu & Kashmir",
          "Jammu & Kashmir",
          "Jammu & Kashmir",
          "Jammu & Kashmir",
          "Jammu & Kashmir",
          "Jammu & Kashmir",
          "Jammu & Kashmir",
          "Jammu & Kashmir",
          "Jammu & Kashmir",
          "Jammu & Kashmir",
          "Jharkhand",
          "Jharkhand",
          "Jharkhand",
          "Jharkhand",
          "Jharkhand",
          "Jharkhand",
          "Jharkhand",
          "Jharkhand",
          "Jharkhand",
          "Jharkhand",
          "Jharkhand",
          "Jharkhand",
          "Jharkhand",
          "Jharkhand",
          "Karnataka",
          "Karnataka",
          "Karnataka",
          "Karnataka",
          "Karnataka",
          "Karnataka",
          "Karnataka",
          "Karnataka",
          "Karnataka",
          "Karnataka",
          "Karnataka",
          "Karnataka",
          "Karnataka",
          "Karnataka",
          "Kerala",
          "Kerala",
          "Kerala",
          "Kerala",
          "Kerala",
          "Kerala",
          "Kerala",
          "Kerala",
          "Kerala",
          "Kerala",
          "Kerala",
          "Kerala",
          "Kerala",
          "Kerala",
          "Madhya Pradesh",
          "Madhya Pradesh",
          "Madhya Pradesh",
          "Madhya Pradesh",
          "Madhya Pradesh",
          "Madhya Pradesh",
          "Madhya Pradesh",
          "Madhya Pradesh",
          "Madhya Pradesh",
          "Madhya Pradesh",
          "Madhya Pradesh",
          "Madhya Pradesh",
          "Madhya Pradesh",
          "Madhya Pradesh",
          "Maharashtra",
          "Maharashtra",
          "Maharashtra",
          "Maharashtra",
          "Maharashtra",
          "Maharashtra",
          "Maharashtra",
          "Maharashtra",
          "Maharashtra",
          "Maharashtra",
          "Maharashtra",
          "Maharashtra",
          "Maharashtra",
          "Maharashtra",
          "Meghalaya",
          "Meghalaya",
          "Meghalaya",
          "Meghalaya",
          "Meghalaya",
          "Meghalaya",
          "Meghalaya",
          "Meghalaya",
          "Meghalaya",
          "Meghalaya",
          "Meghalaya",
          "Meghalaya",
          "Meghalaya",
          "Meghalaya",
          "Odisha",
          "Odisha",
          "Odisha",
          "Odisha",
          "Odisha",
          "Odisha",
          "Odisha",
          "Odisha",
          "Odisha",
          "Odisha",
          "Odisha",
          "Odisha",
          "Odisha",
          "Odisha",
          "Puducherry",
          "Puducherry",
          "Puducherry",
          "Puducherry",
          "Puducherry",
          "Puducherry",
          "Puducherry",
          "Puducherry",
          "Puducherry",
          "Puducherry",
          "Puducherry",
          "Puducherry",
          "Punjab",
          "Punjab",
          "Punjab",
          "Punjab",
          "Punjab",
          "Punjab",
          "Punjab",
          "Punjab",
          "Punjab",
          "Punjab",
          "Punjab",
          "Punjab",
          "Punjab",
          "Punjab",
          "Rajasthan",
          "Rajasthan",
          "Rajasthan",
          "Rajasthan",
          "Rajasthan",
          "Rajasthan",
          "Rajasthan",
          "Rajasthan",
          "Rajasthan",
          "Rajasthan",
          "Rajasthan",
          "Rajasthan",
          "Rajasthan",
          "Rajasthan",
          "Sikkim",
          "Sikkim",
          "Sikkim",
          "Sikkim",
          "Sikkim",
          "Tamil Nadu",
          "Tamil Nadu",
          "Tamil Nadu",
          "Tamil Nadu",
          "Tamil Nadu",
          "Tamil Nadu",
          "Tamil Nadu",
          "Tamil Nadu",
          "Tamil Nadu",
          "Tamil Nadu",
          "Tamil Nadu",
          "Tamil Nadu",
          "Tamil Nadu",
          "Tamil Nadu",
          "Telangana",
          "Telangana",
          "Telangana",
          "Telangana",
          "Telangana",
          "Telangana",
          "Telangana",
          "Telangana",
          "Telangana",
          "Telangana",
          "Telangana",
          "Telangana",
          "Telangana",
          "Telangana",
          "Tripura",
          "Tripura",
          "Tripura",
          "Tripura",
          "Tripura",
          "Tripura",
          "Tripura",
          "Tripura",
          "Tripura",
          "Tripura",
          "Tripura",
          "Tripura",
          "Tripura",
          "Tripura",
          "Uttar Pradesh",
          "Uttar Pradesh",
          "Uttar Pradesh",
          "Uttar Pradesh",
          "Uttar Pradesh",
          "Uttar Pradesh",
          "Uttar Pradesh",
          "Uttar Pradesh",
          "Uttar Pradesh",
          "Uttar Pradesh",
          "Uttar Pradesh",
          "Uttar Pradesh",
          "Uttar Pradesh",
          "Uttar Pradesh",
          "Uttarakhand",
          "Uttarakhand",
          "Uttarakhand",
          "Uttarakhand",
          "Uttarakhand",
          "Uttarakhand",
          "Uttarakhand",
          "Uttarakhand",
          "Uttarakhand",
          "Uttarakhand",
          "Uttarakhand",
          "Uttarakhand",
          "Uttarakhand",
          "West Bengal",
          "West Bengal",
          "West Bengal",
          "West Bengal",
          "West Bengal",
          "West Bengal",
          "West Bengal",
          "West Bengal",
          "West Bengal",
          "West Bengal",
          "West Bengal",
          "West Bengal",
          "West Bengal",
          "West Bengal",
          "Andhra Pradesh",
          "Andhra Pradesh",
          "Andhra Pradesh",
          "Andhra Pradesh",
          "Andhra Pradesh",
          "Andhra Pradesh",
          "Andhra Pradesh",
          "Andhra Pradesh",
          "Andhra Pradesh",
          "Andhra Pradesh",
          "Andhra Pradesh",
          "Andhra Pradesh",
          "Andhra Pradesh",
          "Andhra Pradesh",
          "Assam",
          "Assam",
          "Assam",
          "Assam",
          "Assam",
          "Assam",
          "Assam",
          "Assam",
          "Assam",
          "Assam",
          "Assam",
          "Assam",
          "Assam",
          "Assam",
          "Bihar",
          "Bihar",
          "Bihar",
          "Bihar",
          "Bihar",
          "Bihar",
          "Bihar",
          "Bihar",
          "Bihar",
          "Bihar",
          "Bihar",
          "Bihar",
          "Bihar",
          "Bihar",
          "Chandigarh",
          "Chandigarh",
          "Chandigarh",
          "Chandigarh",
          "Chandigarh",
          "Chandigarh",
          "Chandigarh",
          "Chandigarh",
          "Chandigarh",
          "Chandigarh",
          "Chandigarh",
          "Chandigarh",
          "Chhattisgarh",
          "Chhattisgarh",
          "Chhattisgarh",
          "Chhattisgarh",
          "Chhattisgarh",
          "Chhattisgarh",
          "Chhattisgarh",
          "Chhattisgarh",
          "Chhattisgarh",
          "Chhattisgarh",
          "Chhattisgarh",
          "Chhattisgarh",
          "Chhattisgarh",
          "Chhattisgarh",
          "Delhi",
          "Delhi",
          "Delhi",
          "Delhi",
          "Delhi",
          "Delhi",
          "Delhi",
          "Delhi",
          "Delhi",
          "Delhi",
          "Delhi",
          "Delhi",
          "Delhi",
          "Delhi",
          "Goa",
          "Goa",
          "Goa",
          "Goa",
          "Goa",
          "Goa",
          "Goa",
          "Goa",
          "Goa",
          "Goa",
          "Goa",
          "Goa",
          "Gujarat",
          "Gujarat",
          "Gujarat",
          "Gujarat",
          "Gujarat",
          "Gujarat",
          "Gujarat",
          "Gujarat",
          "Gujarat",
          "Gujarat",
          "Gujarat",
          "Gujarat",
          "Gujarat",
          "Gujarat",
          "Haryana",
          "Haryana",
          "Haryana",
          "Haryana",
          "Haryana",
          "Haryana",
          "Haryana",
          "Haryana",
          "Haryana",
          "Haryana",
          "Haryana",
          "Haryana",
          "Haryana",
          "Haryana",
          "Himachal Pradesh",
          "Himachal Pradesh",
          "Himachal Pradesh",
          "Himachal Pradesh",
          "Himachal Pradesh",
          "Himachal Pradesh",
          "Himachal Pradesh",
          "Himachal Pradesh",
          "Himachal Pradesh",
          "Himachal Pradesh",
          "Himachal Pradesh",
          "Himachal Pradesh",
          "Himachal Pradesh",
          "Himachal Pradesh",
          "Jammu & Kashmir",
          "Jammu & Kashmir",
          "Jammu & Kashmir",
          "Jammu & Kashmir",
          "Jammu & Kashmir",
          "Jammu & Kashmir",
          "Jammu & Kashmir",
          "Jammu & Kashmir",
          "Jammu & Kashmir",
          "Jammu & Kashmir",
          "Jharkhand",
          "Jharkhand",
          "Jharkhand",
          "Jharkhand",
          "Jharkhand",
          "Jharkhand",
          "Jharkhand",
          "Jharkhand",
          "Jharkhand",
          "Jharkhand",
          "Jharkhand",
          "Jharkhand",
          "Jharkhand",
          "Jharkhand",
          "Karnataka",
          "Karnataka",
          "Karnataka",
          "Karnataka",
          "Karnataka",
          "Karnataka",
          "Karnataka",
          "Karnataka",
          "Karnataka",
          "Karnataka",
          "Karnataka",
          "Karnataka",
          "Karnataka",
          "Karnataka",
          "Kerala",
          "Kerala",
          "Kerala",
          "Kerala",
          "Kerala",
          "Kerala",
          "Kerala",
          "Kerala",
          "Kerala",
          "Kerala",
          "Kerala",
          "Kerala",
          "Kerala",
          "Kerala",
          "Madhya Pradesh",
          "Madhya Pradesh",
          "Madhya Pradesh",
          "Madhya Pradesh",
          "Madhya Pradesh",
          "Madhya Pradesh",
          "Madhya Pradesh",
          "Madhya Pradesh",
          "Madhya Pradesh",
          "Madhya Pradesh",
          "Madhya Pradesh",
          "Madhya Pradesh",
          "Madhya Pradesh",
          "Madhya Pradesh",
          "Maharashtra",
          "Maharashtra",
          "Maharashtra",
          "Maharashtra",
          "Maharashtra",
          "Maharashtra",
          "Maharashtra",
          "Maharashtra",
          "Maharashtra",
          "Maharashtra",
          "Maharashtra",
          "Maharashtra",
          "Maharashtra",
          "Maharashtra",
          "Meghalaya",
          "Meghalaya",
          "Meghalaya",
          "Meghalaya",
          "Meghalaya",
          "Meghalaya",
          "Meghalaya",
          "Meghalaya",
          "Meghalaya",
          "Meghalaya",
          "Meghalaya",
          "Meghalaya",
          "Meghalaya",
          "Odisha",
          "Odisha",
          "Odisha",
          "Odisha",
          "Odisha",
          "Odisha",
          "Odisha",
          "Odisha",
          "Odisha",
          "Odisha",
          "Odisha",
          "Odisha",
          "Odisha",
          "Odisha",
          "Puducherry",
          "Puducherry",
          "Puducherry",
          "Puducherry",
          "Puducherry",
          "Puducherry",
          "Puducherry",
          "Puducherry",
          "Puducherry",
          "Puducherry",
          "Puducherry",
          "Puducherry",
          "Puducherry",
          "Puducherry",
          "Punjab",
          "Punjab",
          "Punjab",
          "Punjab",
          "Punjab",
          "Punjab",
          "Punjab",
          "Punjab",
          "Punjab",
          "Punjab",
          "Punjab",
          "Punjab",
          "Punjab",
          "Punjab",
          "Rajasthan",
          "Rajasthan",
          "Rajasthan",
          "Rajasthan",
          "Rajasthan",
          "Rajasthan",
          "Rajasthan",
          "Rajasthan",
          "Rajasthan",
          "Rajasthan",
          "Rajasthan",
          "Rajasthan",
          "Rajasthan",
          "Rajasthan",
          "Sikkim",
          "Sikkim",
          "Sikkim",
          "Sikkim",
          "Sikkim",
          "Sikkim",
          "Sikkim",
          "Sikkim",
          "Sikkim",
          "Sikkim",
          "Sikkim",
          "Sikkim",
          "Tamil Nadu",
          "Tamil Nadu",
          "Tamil Nadu",
          "Tamil Nadu",
          "Tamil Nadu",
          "Tamil Nadu",
          "Tamil Nadu",
          "Tamil Nadu",
          "Tamil Nadu",
          "Tamil Nadu",
          "Tamil Nadu",
          "Tamil Nadu",
          "Tamil Nadu",
          "Tamil Nadu",
          "Telangana",
          "Telangana",
          "Telangana",
          "Telangana",
          "Telangana",
          "Telangana",
          "Telangana",
          "Telangana",
          "Telangana",
          "Telangana",
          "Telangana",
          "Telangana",
          "Telangana",
          "Telangana",
          "Tripura",
          "Tripura",
          "Tripura",
          "Tripura",
          "Tripura",
          "Tripura",
          "Tripura",
          "Tripura",
          "Tripura",
          "Tripura",
          "Tripura",
          "Tripura",
          "Tripura",
          "Tripura",
          "Uttar Pradesh",
          "Uttar Pradesh",
          "Uttar Pradesh",
          "Uttar Pradesh",
          "Uttar Pradesh",
          "Uttar Pradesh",
          "Uttar Pradesh",
          "Uttar Pradesh",
          "Uttar Pradesh",
          "Uttar Pradesh",
          "Uttar Pradesh",
          "Uttar Pradesh",
          "Uttar Pradesh",
          "Uttar Pradesh",
          "Uttarakhand",
          "Uttarakhand",
          "Uttarakhand",
          "Uttarakhand",
          "Uttarakhand",
          "Uttarakhand",
          "Uttarakhand",
          "Uttarakhand",
          "Uttarakhand",
          "Uttarakhand",
          "Uttarakhand",
          "Uttarakhand",
          "Uttarakhand",
          "Uttarakhand",
          "West Bengal",
          "West Bengal",
          "West Bengal",
          "West Bengal",
          "West Bengal",
          "West Bengal",
          "West Bengal",
          "West Bengal",
          "West Bengal",
          "West Bengal",
          "West Bengal",
          "West Bengal",
          "West Bengal",
          "West Bengal"
         ],
         "legendgroup": "",
         "name": "",
         "showlegend": true,
         "type": "pie",
         "values": {
          "bdata": "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",
          "dtype": "f8"
         }
        }
       ],
       "layout": {
        "legend": {
         "tracegroupgap": 0
        },
        "template": {
         "data": {
          "bar": [
           {
            "error_x": {
             "color": "#2a3f5f"
            },
            "error_y": {
             "color": "#2a3f5f"
            },
            "marker": {
             "line": {
              "color": "#E5ECF6",
              "width": 0.5
             },
             "pattern": {
              "fillmode": "overlay",
              "size": 10,
              "solidity": 0.2
             }
            },
            "type": "bar"
           }
          ],
          "barpolar": [
           {
            "marker": {
             "line": {
              "color": "#E5ECF6",
              "width": 0.5
             },
             "pattern": {
              "fillmode": "overlay",
              "size": 10,
              "solidity": 0.2
             }
            },
            "type": "barpolar"
           }
          ],
          "carpet": [
           {
            "aaxis": {
             "endlinecolor": "#2a3f5f",
             "gridcolor": "white",
             "linecolor": "white",
             "minorgridcolor": "white",
             "startlinecolor": "#2a3f5f"
            },
            "baxis": {
             "endlinecolor": "#2a3f5f",
             "gridcolor": "white",
             "linecolor": "white",
             "minorgridcolor": "white",
             "startlinecolor": "#2a3f5f"
            },
            "type": "carpet"
           }
          ],
          "choropleth": [
           {
            "colorbar": {
             "outlinewidth": 0,
             "ticks": ""
            },
            "type": "choropleth"
           }
          ],
          "contour": [
           {
            "colorbar": {
             "outlinewidth": 0,
             "ticks": ""
            },
            "colorscale": [
             [
              0,
              "#0d0887"
             ],
             [
              0.1111111111111111,
              "#46039f"
             ],
             [
              0.2222222222222222,
              "#7201a8"
             ],
             [
              0.3333333333333333,
              "#9c179e"
             ],
             [
              0.4444444444444444,
              "#bd3786"
             ],
             [
              0.5555555555555556,
              "#d8576b"
             ],
             [
              0.6666666666666666,
              "#ed7953"
             ],
             [
              0.7777777777777778,
              "#fb9f3a"
             ],
             [
              0.8888888888888888,
              "#fdca26"
             ],
             [
              1,
              "#f0f921"
             ]
            ],
            "type": "contour"
           }
          ],
          "contourcarpet": [
           {
            "colorbar": {
             "outlinewidth": 0,
             "ticks": ""
            },
            "type": "contourcarpet"
           }
          ],
          "heatmap": [
           {
            "colorbar": {
             "outlinewidth": 0,
             "ticks": ""
            },
            "colorscale": [
             [
              0,
              "#0d0887"
             ],
             [
              0.1111111111111111,
              "#46039f"
             ],
             [
              0.2222222222222222,
              "#7201a8"
             ],
             [
              0.3333333333333333,
              "#9c179e"
             ],
             [
              0.4444444444444444,
              "#bd3786"
             ],
             [
              0.5555555555555556,
              "#d8576b"
             ],
             [
              0.6666666666666666,
              "#ed7953"
             ],
             [
              0.7777777777777778,
              "#fb9f3a"
             ],
             [
              0.8888888888888888,
              "#fdca26"
             ],
             [
              1,
              "#f0f921"
             ]
            ],
            "type": "heatmap"
           }
          ],
          "histogram": [
           {
            "marker": {
             "pattern": {
              "fillmode": "overlay",
              "size": 10,
              "solidity": 0.2
             }
            },
            "type": "histogram"
           }
          ],
          "histogram2d": [
           {
            "colorbar": {
             "outlinewidth": 0,
             "ticks": ""
            },
            "colorscale": [
             [
              0,
              "#0d0887"
             ],
             [
              0.1111111111111111,
              "#46039f"
             ],
             [
              0.2222222222222222,
              "#7201a8"
             ],
             [
              0.3333333333333333,
              "#9c179e"
             ],
             [
              0.4444444444444444,
              "#bd3786"
             ],
             [
              0.5555555555555556,
              "#d8576b"
             ],
             [
              0.6666666666666666,
              "#ed7953"
             ],
             [
              0.7777777777777778,
              "#fb9f3a"
             ],
             [
              0.8888888888888888,
              "#fdca26"
             ],
             [
              1,
              "#f0f921"
             ]
            ],
            "type": "histogram2d"
           }
          ],
          "histogram2dcontour": [
           {
            "colorbar": {
             "outlinewidth": 0,
             "ticks": ""
            },
            "colorscale": [
             [
              0,
              "#0d0887"
             ],
             [
              0.1111111111111111,
              "#46039f"
             ],
             [
              0.2222222222222222,
              "#7201a8"
             ],
             [
              0.3333333333333333,
              "#9c179e"
             ],
             [
              0.4444444444444444,
              "#bd3786"
             ],
             [
              0.5555555555555556,
              "#d8576b"
             ],
             [
              0.6666666666666666,
              "#ed7953"
             ],
             [
              0.7777777777777778,
              "#fb9f3a"
             ],
             [
              0.8888888888888888,
              "#fdca26"
             ],
             [
              1,
              "#f0f921"
             ]
            ],
            "type": "histogram2dcontour"
           }
          ],
          "mesh3d": [
           {
            "colorbar": {
             "outlinewidth": 0,
             "ticks": ""
            },
            "type": "mesh3d"
           }
          ],
          "parcoords": [
           {
            "line": {
             "colorbar": {
              "outlinewidth": 0,
              "ticks": ""
             }
            },
            "type": "parcoords"
           }
          ],
          "pie": [
           {
            "automargin": true,
            "type": "pie"
           }
          ],
          "scatter": [
           {
            "fillpattern": {
             "fillmode": "overlay",
             "size": 10,
             "solidity": 0.2
            },
            "type": "scatter"
           }
          ],
          "scatter3d": [
           {
            "line": {
             "colorbar": {
              "outlinewidth": 0,
              "ticks": ""
             }
            },
            "marker": {
             "colorbar": {
              "outlinewidth": 0,
              "ticks": ""
             }
            },
            "type": "scatter3d"
           }
          ],
          "scattercarpet": [
           {
            "marker": {
             "colorbar": {
              "outlinewidth": 0,
              "ticks": ""
             }
            },
            "type": "scattercarpet"
           }
          ],
          "scattergeo": [
           {
            "marker": {
             "colorbar": {
              "outlinewidth": 0,
              "ticks": ""
             }
            },
            "type": "scattergeo"
           }
          ],
          "scattergl": [
           {
            "marker": {
             "colorbar": {
              "outlinewidth": 0,
              "ticks": ""
             }
            },
            "type": "scattergl"
           }
          ],
          "scattermap": [
           {
            "marker": {
             "colorbar": {
              "outlinewidth": 0,
              "ticks": ""
             }
            },
            "type": "scattermap"
           }
          ],
          "scattermapbox": [
           {
            "marker": {
             "colorbar": {
              "outlinewidth": 0,
              "ticks": ""
             }
            },
            "type": "scattermapbox"
           }
          ],
          "scatterpolar": [
           {
            "marker": {
             "colorbar": {
              "outlinewidth": 0,
              "ticks": ""
             }
            },
            "type": "scatterpolar"
           }
          ],
          "scatterpolargl": [
           {
            "marker": {
             "colorbar": {
              "outlinewidth": 0,
              "ticks": ""
             }
            },
            "type": "scatterpolargl"
           }
          ],
          "scatterternary": [
           {
            "marker": {
             "colorbar": {
              "outlinewidth": 0,
              "ticks": ""
             }
            },
            "type": "scatterternary"
           }
          ],
          "surface": [
           {
            "colorbar": {
             "outlinewidth": 0,
             "ticks": ""
            },
            "colorscale": [
             [
              0,
              "#0d0887"
             ],
             [
              0.1111111111111111,
              "#46039f"
             ],
             [
              0.2222222222222222,
              "#7201a8"
             ],
             [
              0.3333333333333333,
              "#9c179e"
             ],
             [
              0.4444444444444444,
              "#bd3786"
             ],
             [
              0.5555555555555556,
              "#d8576b"
             ],
             [
              0.6666666666666666,
              "#ed7953"
             ],
             [
              0.7777777777777778,
              "#fb9f3a"
             ],
             [
              0.8888888888888888,
              "#fdca26"
             ],
             [
              1,
              "#f0f921"
             ]
            ],
            "type": "surface"
           }
          ],
          "table": [
           {
            "cells": {
             "fill": {
              "color": "#EBF0F8"
             },
             "line": {
              "color": "white"
             }
            },
            "header": {
             "fill": {
              "color": "#C8D4E3"
             },
             "line": {
              "color": "white"
             }
            },
            "type": "table"
           }
          ]
         },
         "layout": {
          "annotationdefaults": {
           "arrowcolor": "#2a3f5f",
           "arrowhead": 0,
           "arrowwidth": 1
          },
          "autotypenumbers": "strict",
          "coloraxis": {
           "colorbar": {
            "outlinewidth": 0,
            "ticks": ""
           }
          },
          "colorscale": {
           "diverging": [
            [
             0,
             "#8e0152"
            ],
            [
             0.1,
             "#c51b7d"
            ],
            [
             0.2,
             "#de77ae"
            ],
            [
             0.3,
             "#f1b6da"
            ],
            [
             0.4,
             "#fde0ef"
            ],
            [
             0.5,
             "#f7f7f7"
            ],
            [
             0.6,
             "#e6f5d0"
            ],
            [
             0.7,
             "#b8e186"
            ],
            [
             0.8,
             "#7fbc41"
            ],
            [
             0.9,
             "#4d9221"
            ],
            [
             1,
             "#276419"
            ]
           ],
           "sequential": [
            [
             0,
             "#0d0887"
            ],
            [
             0.1111111111111111,
             "#46039f"
            ],
            [
             0.2222222222222222,
             "#7201a8"
            ],
            [
             0.3333333333333333,
             "#9c179e"
            ],
            [
             0.4444444444444444,
             "#bd3786"
            ],
            [
             0.5555555555555556,
             "#d8576b"
            ],
            [
             0.6666666666666666,
             "#ed7953"
            ],
            [
             0.7777777777777778,
             "#fb9f3a"
            ],
            [
             0.8888888888888888,
             "#fdca26"
            ],
            [
             1,
             "#f0f921"
            ]
           ],
           "sequentialminus": [
            [
             0,
             "#0d0887"
            ],
            [
             0.1111111111111111,
             "#46039f"
            ],
            [
             0.2222222222222222,
             "#7201a8"
            ],
            [
             0.3333333333333333,
             "#9c179e"
            ],
            [
             0.4444444444444444,
             "#bd3786"
            ],
            [
             0.5555555555555556,
             "#d8576b"
            ],
            [
             0.6666666666666666,
             "#ed7953"
            ],
            [
             0.7777777777777778,
             "#fb9f3a"
            ],
            [
             0.8888888888888888,
             "#fdca26"
            ],
            [
             1,
             "#f0f921"
            ]
           ]
          },
          "colorway": [
           "#636efa",
           "#EF553B",
           "#00cc96",
           "#ab63fa",
           "#FFA15A",
           "#19d3f3",
           "#FF6692",
           "#B6E880",
           "#FF97FF",
           "#FECB52"
          ],
          "font": {
           "color": "#2a3f5f"
          },
          "geo": {
           "bgcolor": "white",
           "lakecolor": "white",
           "landcolor": "#E5ECF6",
           "showlakes": true,
           "showland": true,
           "subunitcolor": "white"
          },
          "hoverlabel": {
           "align": "left"
          },
          "hovermode": "closest",
          "mapbox": {
           "style": "light"
          },
          "paper_bgcolor": "white",
          "plot_bgcolor": "#E5ECF6",
          "polar": {
           "angularaxis": {
            "gridcolor": "white",
            "linecolor": "white",
            "ticks": ""
           },
           "bgcolor": "#E5ECF6",
           "radialaxis": {
            "gridcolor": "white",
            "linecolor": "white",
            "ticks": ""
           }
          },
          "scene": {
           "xaxis": {
            "backgroundcolor": "#E5ECF6",
            "gridcolor": "white",
            "gridwidth": 2,
            "linecolor": "white",
            "showbackground": true,
            "ticks": "",
            "zerolinecolor": "white"
           },
           "yaxis": {
            "backgroundcolor": "#E5ECF6",
            "gridcolor": "white",
            "gridwidth": 2,
            "linecolor": "white",
            "showbackground": true,
            "ticks": "",
            "zerolinecolor": "white"
           },
           "zaxis": {
            "backgroundcolor": "#E5ECF6",
            "gridcolor": "white",
            "gridwidth": 2,
            "linecolor": "white",
            "showbackground": true,
            "ticks": "",
            "zerolinecolor": "white"
           }
          },
          "shapedefaults": {
           "line": {
            "color": "#2a3f5f"
           }
          },
          "ternary": {
           "aaxis": {
            "gridcolor": "white",
            "linecolor": "white",
            "ticks": ""
           },
           "baxis": {
            "gridcolor": "white",
            "linecolor": "white",
            "ticks": ""
           },
           "bgcolor": "#E5ECF6",
           "caxis": {
            "gridcolor": "white",
            "linecolor": "white",
            "ticks": ""
           }
          },
          "title": {
           "x": 0.05
          },
          "xaxis": {
           "automargin": true,
           "gridcolor": "white",
           "linecolor": "white",
           "ticks": "",
           "title": {
            "standoff": 15
           },
           "zerolinecolor": "white",
           "zerolinewidth": 2
          },
          "yaxis": {
           "automargin": true,
           "gridcolor": "white",
           "linecolor": "white",
           "ticks": "",
           "title": {
            "standoff": 15
           },
           "zerolinecolor": "white",
           "zerolinewidth": 2
          }
         }
        },
        "title": {
         "text": "Unemployment Rate (Region Wise) by Pie Origin"
        },
        "xaxis": {
         "categoryorder": "total descending"
        }
       }
      },
      "image/png": "[encoded data removed]"
     },
     "metadata": {},
     "output_type": "display_data"
    }
   ],
   "source": [
    "fig = px.pie(df, values=' Estimated Unemployment Rate (%)', names='Region', title='Unemployment Rate (Region Wise) by Pie Origin', template='plotly')\n",
    "fig.update_layout(xaxis={'categoryorder':'total descending'})\n",
    "fig.show()"
   ]
  },
  {
   "cell_type": "code",
   "execution_count": 26,
   "id": "25123d1e-8a68-429f-878c-d9e8d0b0edd9",
   "metadata": {},
   "outputs": [
    {
     "data": {
      "application/vnd.plotly.v1+json": {
       "config": {
        "plotlyServerURL": "https://plot.ly"
       },
       "data": [
        {
         "hovertemplate": "Area=%{x}<br> Estimated Unemployment Rate (%)=%{y}<extra></extra>",
         "legendgroup": "Rural",
         "marker": {
          "color": "#636efa",
          "pattern": {
           "shape": ""
          }
         },
         "name": "Rural",
         "orientation": "v",
         "showlegend": true,
         "textposition": "auto",
         "type": "bar",
         "x": [
          "Rural",
          "Rural",
          "Rural",
          "Rural",
          "Rural",
          "Rural",
          "Rural",
          "Rural",
          "Rural",
          "Rural",
          "Rural",
          "Rural",
          "Rural",
          "Rural",
          "Rural",
          "Rural",
          "Rural",
          "Rural",
          "Rural",
          "Rural",
          "Rural",
          "Rural",
          "Rural",
          "Rural",
          "Rural",
          "Rural",
          "Rural",
          "Rural",
          "Rural",
          "Rural",
          "Rural",
          "Rural",
          "Rural",
          "Rural",
          "Rural",
          "Rural",
          "Rural",
          "Rural",
          "Rural",
          "Rural",
          "Rural",
          "Rural",
          "Rural",
          "Rural",
          "Rural",
          "Rural",
          "Rural",
          "Rural",
          "Rural",
          "Rural",
          "Rural",
          "Rural",
          "Rural",
          "Rural",
          "Rural",
          "Rural",
          "Rural",
          "Rural",
          "Rural",
          "Rural",
          "Rural",
          "Rural",
          "Rural",
          "Rural",
          "Rural",
          "Rural",
          "Rural",
          "Rural",
          "Rural",
          "Rural",
          "Rural",
          "Rural",
          "Rural",
          "Rural",
          "Rural",
          "Rural",
          "Rural",
          "Rural",
          "Rural",
          "Rural",
          "Rural",
          "Rural",
          "Rural",
          "Rural",
          "Rural",
          "Rural",
          "Rural",
          "Rural",
          "Rural",
          "Rural",
          "Rural",
          "Rural",
          "Rural",
          "Rural",
          "Rural",
          "Rural",
          "Rural",
          "Rural",
          "Rural",
          "Rural",
          "Rural",
          "Rural",
          "Rural",
          "Rural",
          "Rural",
          "Rural",
          "Rural",
          "Rural",
          "Rural",
          "Rural",
          "Rural",
          "Rural",
          "Rural",
          "Rural",
          "Rural",
          "Rural",
          "Rural",
          "Rural",
          "Rural",
          "Rural",
          "Rural",
          "Rural",
          "Rural",
          "Rural",
          "Rural",
          "Rural",
          "Rural",
          "Rural",
          "Rural",
          "Rural",
          "Rural",
          "Rural",
          "Rural",
          "Rural",
          "Rural",
          "Rural",
          "Rural",
          "Rural",
          "Rural",
          "Rural",
          "Rural",
          "Rural",
          "Rural",
          "Rural",
          "Rural",
          "Rural",
          "Rural",
          "Rural",
          "Rural",
          "Rural",
          "Rural",
          "Rural",
          "Rural",
          "Rural",
          "Rural",
          "Rural",
          "Rural",
          "Rural",
          "Rural",
          "Rural",
          "Rural",
          "Rural",
          "Rural",
          "Rural",
          "Rural",
          "Rural",
          "Rural",
          "Rural",
          "Rural",
          "Rural",
          "Rural",
          "Rural",
          "Rural",
          "Rural",
          "Rural",
          "Rural",
          "Rural",
          "Rural",
          "Rural",
          "Rural",
          "Rural",
          "Rural",
          "Rural",
          "Rural",
          "Rural",
          "Rural",
          "Rural",
          "Rural",
          "Rural",
          "Rural",
          "Rural",
          "Rural",
          "Rural",
          "Rural",
          "Rural",
          "Rural",
          "Rural",
          "Rural",
          "Rural",
          "Rural",
          "Rural",
          "Rural",
          "Rural",
          "Rural",
          "Rural",
          "Rural",
          "Rural",
          "Rural",
          "Rural",
          "Rural",
          "Rural",
          "Rural",
          "Rural",
          "Rural",
          "Rural",
          "Rural",
          "Rural",
          "Rural",
          "Rural",
          "Rural",
          "Rural",
          "Rural",
          "Rural",
          "Rural",
          "Rural",
          "Rural",
          "Rural",
          "Rural",
          "Rural",
          "Rural",
          "Rural",
          "Rural",
          "Rural",
          "Rural",
          "Rural",
          "Rural",
          "Rural",
          "Rural",
          "Rural",
          "Rural",
          "Rural",
          "Rural",
          "Rural",
          "Rural",
          "Rural",
          "Rural",
          "Rural",
          "Rural",
          "Rural",
          "Rural",
          "Rural",
          "Rural",
          "Rural",
          "Rural",
          "Rural",
          "Rural",
          "Rural",
          "Rural",
          "Rural",
          "Rural",
          "Rural",
          "Rural",
          "Rural",
          "Rural",
          "Rural",
          "Rural",
          "Rural",
          "Rural",
          "Rural",
          "Rural",
          "Rural",
          "Rural",
          "Rural",
          "Rural",
          "Rural",
          "Rural",
          "Rural",
          "Rural",
          "Rural",
          "Rural",
          "Rural",
          "Rural",
          "Rural",
          "Rural",
          "Rural",
          "Rural",
          "Rural",
          "Rural",
          "Rural",
          "Rural",
          "Rural",
          "Rural",
          "Rural",
          "Rural",
          "Rural",
          "Rural",
          "Rural",
          "Rural",
          "Rural",
          "Rural",
          "Rural",
          "Rural",
          "Rural",
          "Rural",
          "Rural",
          "Rural",
          "Rural",
          "Rural",
          "Rural",
          "Rural",
          "Rural",
          "Rural",
          "Rural",
          "Rural",
          "Rural",
          "Rural",
          "Rural",
          "Rural",
          "Rural",
          "Rural",
          "Rural",
          "Rural",
          "Rural",
          "Rural",
          "Rural",
          "Rural",
          "Rural",
          "Rural",
          "Rural",
          "Rural",
          "Rural",
          "Rural",
          "Rural",
          "Rural",
          "Rural",
          "Rural",
          "Rural",
          "Rural",
          "Rural",
          "Rural",
          "Rural",
          "Rural",
          "Rural",
          "Rural",
          "Rural",
          "Rural",
          "Rural",
          "Rural",
          "Rural",
          "Rural",
          "Rural",
          "Rural",
          "Rural",
          "Rural",
          "Rural",
          "Rural",
          "Rural",
          "Rural",
          "Rural"
         ],
         "xaxis": "x",
         "y": {
          "bdata": "MzMzMzMzDUBmZmZmZmYIQAAAAAAAAA5Aj8L1KFyPCkCuR+F6FK4UQClcj8L1KAxAexSuR+F6EECF61G4HoURQFyPwvUoXBNApHA9CtejF0A9CtejcD0QQArXo3A9SjBA7FG4HoXrLEAzMzMzMzPrPylcj8L1KBFAUrgehetRFEAK16NwPQoRQClcj8L1KBdA16NwPQrXEUCamZmZmZkSQKRwPQrXoxJAKVyPwvUoEUAUrkfhehQKQClcj8L1KA5Aw/UoXI/CIkAAAAAAAAAAAArXo3A9iiJAZmZmZmZmJEDhehSuR+EqQAAAAAAAACZAPQrXo3C9IUBxPQrXo/AoQM3MzMzMzChAUrgehetRJEDD9Shcj0IiQLgehetROCNASOF6FK7HLkDsUbgehYtGQOF6FK5HoUdAPQrXo3B9NECkcD0K16MjQArXo3A9ChtAKVyPwvUoEkCPwvUoXI8SQClcj8L1qCBA16NwPQrXG0ApXI/C9SgGQHE9CtejcBhASOF6FK7HI0CPwvUoXI8fQD0K16NwPR1AAAAAAAAAAACPwvUoXI8eQEjhehSuRyRAH4XrUbgeKUApXI/C9agiQKRwPQrXIyZArkfhehQuMUAAAAAAAAApQK5H4XoUri9AuB6F61E4JkC4HoXrUfgwQPYoXI/C9SpAH4XrUbieK0Bcj8L1KFwuQHE9CtejsDRAw/UoXI/CNkCkcD0K1yM1QEjhehSuRwdAzczMzMzMFUD2KFyPwvUlQK5H4XoUrv8/4XoUrkfhDEDXo3A9CtccQPYoXI/CtTdAUrgehetRDECF61G4HoUVQAAAAAAAAAAAUrgehevRL0AAAAAAAAA0QArXo3A9CgdAFK5H4XoUE0BSuB6F61ESQJqZmZmZmQ1AKVyPwvUoGUCkcD0K16MTQLgehetRuBJArkfhehSuC0BmZmZmZmYVQI/C9ShcjxpAXI/C9ShcHkAAAAAAAAAoQClcj8L1KC1Aj8L1KFyP9j8UrkfhehQtQBSuR+F6FDdAuB6F61E4MEBxPQrXo/A+QFyPwvUoXDBA7FG4HoUrOEDXo3A9CpcwQI/C9Shcjz1A9ihcj8I1MEBxPQrXozA7QOxRuB6F6zdArkfhehTOREBcj8L1KBxBQClcj8L1yEFAXI/C9ShcK0Bcj8L1KNwmQNejcD0KlzRAj8L1KFyPMkD2KFyPwvUvQB+F61G4ni9AXI/C9SjcNkD2KFyPwnUzQOxRuB6FqzBA16NwPQrXLkD2KFyPwrUxQArXo3A9CgFApHA9CtejOUDsUbgehevxP4/C9ShcjylArkfhehQuKEDXo3A9ClcrQKRwPQrXoyZAhetRuB5FM0D2KFyPwnUtQHE9CtejMDZAexSuR+E6NUAAAAAAAAAwQMP1KFyPwgFAuB6F61H4MkBxPQrXo3AcQOxRuB6F6yBA9ihcj8L1I0AfhetRuB4oQHsUrkfhehxASOF6FK5HGkCkcD0K1yMgQM3MzMzMTC5ApHA9CtejGEAfhetRuB4iQArXo3A9ChRAXI/C9SjcREDNzMzMzIxLQEjhehSuhzVA16NwPQrXFUDsUbgehesXQKRwPQrXo+A/rkfhehSu1z+amZmZmZkJQIXrUbgehRxACtejcD0K8z89CtejcD3aP4/C9ShcjwRAcT0K16NwEEAfhetRuB4DQPYoXI/ClUBAuB6F61G4N0DXo3A9CtclQIXrUbgehRpAAAAAAAAAIkDNzMzMzMwTQKRwPQrXoyRAZmZmZmZmFUBI4XoUrkciQAAAAAAAABRACtejcD2KJUBxPQrXo3AQQFK4HoXr0SFAMzMzMzOzIUDsUbgehWslQOF6FK5HYTdAKVyPwvWoO0AK16NwPQoNQAAAAAAAABFAXI/C9ShcD0DD9Shcj8ITQKRwPQrXowhA16NwPQrXB0DD9Shcj8IFQIXrUbgehQdASOF6FK5HDUCuR+F6FK4RQArXo3A9CvM/AAAAAAAAKUD2KFyPwnU2QNejcD0K1xlAXI/C9ShcDUBcj8L1KFwRQEjhehSuRw1AFK5H4XoUDkCamZmZmZkRQHsUrkfheg5AcT0K16NwDUA9CtejcD0IQGZmZmZmZg5A9ihcj8L1EECF61G4HoUVQEjhehSuRzlApHA9CtfjMEDNzMzMzMwiQEjhehSuRwlA7FG4HoXrEEB7FK5H4XrwP6RwPQrXo+A/uB6F61G4zj+amZmZmZkNQAAAAAAAAPg/zczMzMzM/D8K16NwPQrvPxSuR+F6FAZAexSuR+F69D/D9Shcj8IgQNejcD0K1w1AmpmZmZmZ9T+uR+F6FK4QQNejcD0K1xJAexSuR+F6CkBxPQrXo3ANQD0K16NwPRFAH4XrUbgeEUDhehSuR+ESQK5H4XoUrhJA9ihcj8L1/D97FK5H4XoKQK5H4XoULi5AexSuR+F6OEBmZmZmZuYiQFyPwvUoXBJAAAAAAAAAAAAAAAAAAAAAAAAAAAAAAAAAZmZmZmZmE0AAAAAAAAAAAOF6FK5H4fI/AAAAAAAAAADXo3A9Ctf/P4/C9Shcj+I/16NwPQrX+z97FK5H4XoCQHE9CtejoFJA16NwPQpXIkDsUbgehWsoQEjhehSuRyNAw/UoXI/CGkCuR+F6FC4hQB+F61G4HilASOF6FK5HHECF61G4HoUYQOF6FK5HYSNAUrgehevRJECF61G4HgUlQIXrUbgehQ1A7FG4HoVLREAAAAAAAAA0QB+F61G4HhBAZmZmZmZmK0BmZmZmZmYjQAAAAAAAAClAzczMzMzMFUBSuB6F61EtQHE9Ctej8CRA7FG4HoXrK0AAAAAAAAAgQPYoXI/C9SxAcT0K16PwIkAAAAAAAIAoQGZmZmZm5iRAuB6F61G4K0DsUbgehesVQLgehetROCpAAAAAAAAA8D8AAAAAAAAAAD0K16NwPRdACtejcD0K7z9xPQrXo3DtPwrXo3A9ChhASOF6FK5HB0Bcj8L1KFz7P1yPwvUoXPc/rkfhehSuA0DXo3A9CtcNQOF6FK5H4fI/uB6F61G48j9xPQrXo3AZQLgehetRmEpAPQrXo3BdQ0B7FK5H4XoAQNejcD0K1wFArkfhehSuF0CamZmZmZkDQGZmZmZmZvY/9ihcj8L1FUApXI/C9SgdQOF6FK5H4RlAmpmZmZmZ9T8UrkfhehQUQArXo3A9CiJAhetRuB6FFkAK16NwPQoSQOF6FK5HAUFAzczMzMxMM0AAAAAAAEA9QKRwPQrXozpAuB6F61F4NkA9CtejcH05QHsUrkfhOj5ACtejcD2KO0AAAAAAAEA5QEjhehSuhzpAKVyPwvXoP0C4HoXrUTg6QFyPwvUonD9AUrgehevRRUDsUbgehWstQNejcD0K1zJAhetRuB6FJEDD9Shcj0ImQOF6FK5HYSJAcT0K16PwJkDNzMzMzMwZQFyPwvUoXCRAw/UoXI/CG0Bcj8L1KNwgQD0K16NwPRhAPQrXo3A9IEA9CtejcL0iQOxRuB6F6zNApHA9CtfjMECF61G4HgUhQBSuR+F6FPo/mpmZmZmZEkD2KFyPwvUWQHE9CtejcBhAw/UoXI/CC0BSuB6F61ETQD0K16NwPRZAFK5H4XoUEkCuR+F6FK4QQGZmZmZmZhNASOF6FK5HDUCPwvUoXI8MQOxRuB6FayVAFK5H4XoUGEBmZmZmZmYXQHsUrkfhehZAUrgehetRFkAK16NwPQoVQB+F61G4HhtAUrgehetRF0ApXI/C9SgXQClcj8L1KBtAPQrXo3A9DkAUrkfhehQcQFK4HoXrUTJArkfhehRuMkDD9Shcj8ITQA==",
          "dtype": "f8"
         },
         "yaxis": "y"
        },
        {
         "hovertemplate": "Area=%{x}<br> Estimated Unemployment Rate (%)=%{y}<extra></extra>",
         "legendgroup": "Urban",
         "marker": {
          "color": "#EF553B",
          "pattern": {
           "shape": ""
          }
         },
         "name": "Urban",
         "orientation": "v",
         "showlegend": true,
         "textposition": "auto",
         "type": "bar",
         "x": [
          "Urban",
          "Urban",
          "Urban",
          "Urban",
          "Urban",
          "Urban",
          "Urban",
          "Urban",
          "Urban",
          "Urban",
          "Urban",
          "Urban",
          "Urban",
          "Urban",
          "Urban",
          "Urban",
          "Urban",
          "Urban",
          "Urban",
          "Urban",
          "Urban",
          "Urban",
          "Urban",
          "Urban",
          "Urban",
          "Urban",
          "Urban",
          "Urban",
          "Urban",
          "Urban",
          "Urban",
          "Urban",
          "Urban",
          "Urban",
          "Urban",
          "Urban",
          "Urban",
          "Urban",
          "Urban",
          "Urban",
          "Urban",
          "Urban",
          "Urban",
          "Urban",
          "Urban",
          "Urban",
          "Urban",
          "Urban",
          "Urban",
          "Urban",
          "Urban",
          "Urban",
          "Urban",
          "Urban",
          "Urban",
          "Urban",
          "Urban",
          "Urban",
          "Urban",
          "Urban",
          "Urban",
          "Urban",
          "Urban",
          "Urban",
          "Urban",
          "Urban",
          "Urban",
          "Urban",
          "Urban",
          "Urban",
          "Urban",
          "Urban",
          "Urban",
          "Urban",
          "Urban",
          "Urban",
          "Urban",
          "Urban",
          "Urban",
          "Urban",
          "Urban",
          "Urban",
          "Urban",
          "Urban",
          "Urban",
          "Urban",
          "Urban",
          "Urban",
          "Urban",
          "Urban",
          "Urban",
          "Urban",
          "Urban",
          "Urban",
          "Urban",
          "Urban",
          "Urban",
          "Urban",
          "Urban",
          "Urban",
          "Urban",
          "Urban",
          "Urban",
          "Urban",
          "Urban",
          "Urban",
          "Urban",
          "Urban",
          "Urban",
          "Urban",
          "Urban",
          "Urban",
          "Urban",
          "Urban",
          "Urban",
          "Urban",
          "Urban",
          "Urban",
          "Urban",
          "Urban",
          "Urban",
          "Urban",
          "Urban",
          "Urban",
          "Urban",
          "Urban",
          "Urban",
          "Urban",
          "Urban",
          "Urban",
          "Urban",
          "Urban",
          "Urban",
          "Urban",
          "Urban",
          "Urban",
          "Urban",
          "Urban",
          "Urban",
          "Urban",
          "Urban",
          "Urban",
          "Urban",
          "Urban",
          "Urban",
          "Urban",
          "Urban",
          "Urban",
          "Urban",
          "Urban",
          "Urban",
          "Urban",
          "Urban",
          "Urban",
          "Urban",
          "Urban",
          "Urban",
          "Urban",
          "Urban",
          "Urban",
          "Urban",
          "Urban",
          "Urban",
          "Urban",
          "Urban",
          "Urban",
          "Urban",
          "Urban",
          "Urban",
          "Urban",
          "Urban",
          "Urban",
          "Urban",
          "Urban",
          "Urban",
          "Urban",
          "Urban",
          "Urban",
          "Urban",
          "Urban",
          "Urban",
          "Urban",
          "Urban",
          "Urban",
          "Urban",
          "Urban",
          "Urban",
          "Urban",
          "Urban",
          "Urban",
          "Urban",
          "Urban",
          "Urban",
          "Urban",
          "Urban",
          "Urban",
          "Urban",
          "Urban",
          "Urban",
          "Urban",
          "Urban",
          "Urban",
          "Urban",
          "Urban",
          "Urban",
          "Urban",
          "Urban",
          "Urban",
          "Urban",
          "Urban",
          "Urban",
          "Urban",
          "Urban",
          "Urban",
          "Urban",
          "Urban",
          "Urban",
          "Urban",
          "Urban",
          "Urban",
          "Urban",
          "Urban",
          "Urban",
          "Urban",
          "Urban",
          "Urban",
          "Urban",
          "Urban",
          "Urban",
          "Urban",
          "Urban",
          "Urban",
          "Urban",
          "Urban",
          "Urban",
          "Urban",
          "Urban",
          "Urban",
          "Urban",
          "Urban",
          "Urban",
          "Urban",
          "Urban",
          "Urban",
          "Urban",
          "Urban",
          "Urban",
          "Urban",
          "Urban",
          "Urban",
          "Urban",
          "Urban",
          "Urban",
          "Urban",
          "Urban",
          "Urban",
          "Urban",
          "Urban",
          "Urban",
          "Urban",
          "Urban",
          "Urban",
          "Urban",
          "Urban",
          "Urban",
          "Urban",
          "Urban",
          "Urban",
          "Urban",
          "Urban",
          "Urban",
          "Urban",
          "Urban",
          "Urban",
          "Urban",
          "Urban",
          "Urban",
          "Urban",
          "Urban",
          "Urban",
          "Urban",
          "Urban",
          "Urban",
          "Urban",
          "Urban",
          "Urban",
          "Urban",
          "Urban",
          "Urban",
          "Urban",
          "Urban",
          "Urban",
          "Urban",
          "Urban",
          "Urban",
          "Urban",
          "Urban",
          "Urban",
          "Urban",
          "Urban",
          "Urban",
          "Urban",
          "Urban",
          "Urban",
          "Urban",
          "Urban",
          "Urban",
          "Urban",
          "Urban",
          "Urban",
          "Urban",
          "Urban",
          "Urban",
          "Urban",
          "Urban",
          "Urban",
          "Urban",
          "Urban",
          "Urban",
          "Urban",
          "Urban",
          "Urban",
          "Urban",
          "Urban",
          "Urban",
          "Urban",
          "Urban",
          "Urban",
          "Urban",
          "Urban",
          "Urban",
          "Urban",
          "Urban",
          "Urban",
          "Urban",
          "Urban",
          "Urban",
          "Urban",
          "Urban",
          "Urban",
          "Urban",
          "Urban",
          "Urban",
          "Urban",
          "Urban",
          "Urban",
          "Urban",
          "Urban",
          "Urban",
          "Urban",
          "Urban",
          "Urban",
          "Urban",
          "Urban",
          "Urban",
          "Urban",
          "Urban",
          "Urban",
          "Urban",
          "Urban",
          "Urban",
          "Urban",
          "Urban",
          "Urban",
          "Urban",
          "Urban",
          "Urban",
          "Urban",
          "Urban",
          "Urban",
          "Urban",
          "Urban",
          "Urban",
          "Urban",
          "Urban",
          "Urban",
          "Urban",
          "Urban",
          "Urban",
          "Urban",
          "Urban"
         ],
         "xaxis": "x",
         "y": {
          "bdata": "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",
          "dtype": "f8"
         },
         "yaxis": "y"
        }
       ],
       "layout": {
        "barmode": "relative",
        "legend": {
         "title": {
          "text": "Area"
         },
         "tracegroupgap": 0
        },
        "template": {
         "data": {
          "bar": [
           {
            "error_x": {
             "color": "#2a3f5f"
            },
            "error_y": {
             "color": "#2a3f5f"
            },
            "marker": {
             "line": {
              "color": "#E5ECF6",
              "width": 0.5
             },
             "pattern": {
              "fillmode": "overlay",
              "size": 10,
              "solidity": 0.2
             }
            },
            "type": "bar"
           }
          ],
          "barpolar": [
           {
            "marker": {
             "line": {
              "color": "#E5ECF6",
              "width": 0.5
             },
             "pattern": {
              "fillmode": "overlay",
              "size": 10,
              "solidity": 0.2
             }
            },
            "type": "barpolar"
           }
          ],
          "carpet": [
           {
            "aaxis": {
             "endlinecolor": "#2a3f5f",
             "gridcolor": "white",
             "linecolor": "white",
             "minorgridcolor": "white",
             "startlinecolor": "#2a3f5f"
            },
            "baxis": {
             "endlinecolor": "#2a3f5f",
             "gridcolor": "white",
             "linecolor": "white",
             "minorgridcolor": "white",
             "startlinecolor": "#2a3f5f"
            },
            "type": "carpet"
           }
          ],
          "choropleth": [
           {
            "colorbar": {
             "outlinewidth": 0,
             "ticks": ""
            },
            "type": "choropleth"
           }
          ],
          "contour": [
           {
            "colorbar": {
             "outlinewidth": 0,
             "ticks": ""
            },
            "colorscale": [
             [
              0,
              "#0d0887"
             ],
             [
              0.1111111111111111,
              "#46039f"
             ],
             [
              0.2222222222222222,
              "#7201a8"
             ],
             [
              0.3333333333333333,
              "#9c179e"
             ],
             [
              0.4444444444444444,
              "#bd3786"
             ],
             [
              0.5555555555555556,
              "#d8576b"
             ],
             [
              0.6666666666666666,
              "#ed7953"
             ],
             [
              0.7777777777777778,
              "#fb9f3a"
             ],
             [
              0.8888888888888888,
              "#fdca26"
             ],
             [
              1,
              "#f0f921"
             ]
            ],
            "type": "contour"
           }
          ],
          "contourcarpet": [
           {
            "colorbar": {
             "outlinewidth": 0,
             "ticks": ""
            },
            "type": "contourcarpet"
           }
          ],
          "heatmap": [
           {
            "colorbar": {
             "outlinewidth": 0,
             "ticks": ""
            },
            "colorscale": [
             [
              0,
              "#0d0887"
             ],
             [
              0.1111111111111111,
              "#46039f"
             ],
             [
              0.2222222222222222,
              "#7201a8"
             ],
             [
              0.3333333333333333,
              "#9c179e"
             ],
             [
              0.4444444444444444,
              "#bd3786"
             ],
             [
              0.5555555555555556,
              "#d8576b"
             ],
             [
              0.6666666666666666,
              "#ed7953"
             ],
             [
              0.7777777777777778,
              "#fb9f3a"
             ],
             [
              0.8888888888888888,
              "#fdca26"
             ],
             [
              1,
              "#f0f921"
             ]
            ],
            "type": "heatmap"
           }
          ],
          "histogram": [
           {
            "marker": {
             "pattern": {
              "fillmode": "overlay",
              "size": 10,
              "solidity": 0.2
             }
            },
            "type": "histogram"
           }
          ],
          "histogram2d": [
           {
            "colorbar": {
             "outlinewidth": 0,
             "ticks": ""
            },
            "colorscale": [
             [
              0,
              "#0d0887"
             ],
             [
              0.1111111111111111,
              "#46039f"
             ],
             [
              0.2222222222222222,
              "#7201a8"
             ],
             [
              0.3333333333333333,
              "#9c179e"
             ],
             [
              0.4444444444444444,
              "#bd3786"
             ],
             [
              0.5555555555555556,
              "#d8576b"
             ],
             [
              0.6666666666666666,
              "#ed7953"
             ],
             [
              0.7777777777777778,
              "#fb9f3a"
             ],
             [
              0.8888888888888888,
              "#fdca26"
             ],
             [
              1,
              "#f0f921"
             ]
            ],
            "type": "histogram2d"
           }
          ],
          "histogram2dcontour": [
           {
            "colorbar": {
             "outlinewidth": 0,
             "ticks": ""
            },
            "colorscale": [
             [
              0,
              "#0d0887"
             ],
             [
              0.1111111111111111,
              "#46039f"
             ],
             [
              0.2222222222222222,
              "#7201a8"
             ],
             [
              0.3333333333333333,
              "#9c179e"
             ],
             [
              0.4444444444444444,
              "#bd3786"
             ],
             [
              0.5555555555555556,
              "#d8576b"
             ],
             [
              0.6666666666666666,
              "#ed7953"
             ],
             [
              0.7777777777777778,
              "#fb9f3a"
             ],
             [
              0.8888888888888888,
              "#fdca26"
             ],
             [
              1,
              "#f0f921"
             ]
            ],
            "type": "histogram2dcontour"
           }
          ],
          "mesh3d": [
           {
            "colorbar": {
             "outlinewidth": 0,
             "ticks": ""
            },
            "type": "mesh3d"
           }
          ],
          "parcoords": [
           {
            "line": {
             "colorbar": {
              "outlinewidth": 0,
              "ticks": ""
             }
            },
            "type": "parcoords"
           }
          ],
          "pie": [
           {
            "automargin": true,
            "type": "pie"
           }
          ],
          "scatter": [
           {
            "fillpattern": {
             "fillmode": "overlay",
             "size": 10,
             "solidity": 0.2
            },
            "type": "scatter"
           }
          ],
          "scatter3d": [
           {
            "line": {
             "colorbar": {
              "outlinewidth": 0,
              "ticks": ""
             }
            },
            "marker": {
             "colorbar": {
              "outlinewidth": 0,
              "ticks": ""
             }
            },
            "type": "scatter3d"
           }
          ],
          "scattercarpet": [
           {
            "marker": {
             "colorbar": {
              "outlinewidth": 0,
              "ticks": ""
             }
            },
            "type": "scattercarpet"
           }
          ],
          "scattergeo": [
           {
            "marker": {
             "colorbar": {
              "outlinewidth": 0,
              "ticks": ""
             }
            },
            "type": "scattergeo"
           }
          ],
          "scattergl": [
           {
            "marker": {
             "colorbar": {
              "outlinewidth": 0,
              "ticks": ""
             }
            },
            "type": "scattergl"
           }
          ],
          "scattermap": [
           {
            "marker": {
             "colorbar": {
              "outlinewidth": 0,
              "ticks": ""
             }
            },
            "type": "scattermap"
           }
          ],
          "scattermapbox": [
           {
            "marker": {
             "colorbar": {
              "outlinewidth": 0,
              "ticks": ""
             }
            },
            "type": "scattermapbox"
           }
          ],
          "scatterpolar": [
           {
            "marker": {
             "colorbar": {
              "outlinewidth": 0,
              "ticks": ""
             }
            },
            "type": "scatterpolar"
           }
          ],
          "scatterpolargl": [
           {
            "marker": {
             "colorbar": {
              "outlinewidth": 0,
              "ticks": ""
             }
            },
            "type": "scatterpolargl"
           }
          ],
          "scatterternary": [
           {
            "marker": {
             "colorbar": {
              "outlinewidth": 0,
              "ticks": ""
             }
            },
            "type": "scatterternary"
           }
          ],
          "surface": [
           {
            "colorbar": {
             "outlinewidth": 0,
             "ticks": ""
            },
            "colorscale": [
             [
              0,
              "#0d0887"
             ],
             [
              0.1111111111111111,
              "#46039f"
             ],
             [
              0.2222222222222222,
              "#7201a8"
             ],
             [
              0.3333333333333333,
              "#9c179e"
             ],
             [
              0.4444444444444444,
              "#bd3786"
             ],
             [
              0.5555555555555556,
              "#d8576b"
             ],
             [
              0.6666666666666666,
              "#ed7953"
             ],
             [
              0.7777777777777778,
              "#fb9f3a"
             ],
             [
              0.8888888888888888,
              "#fdca26"
             ],
             [
              1,
              "#f0f921"
             ]
            ],
            "type": "surface"
           }
          ],
          "table": [
           {
            "cells": {
             "fill": {
              "color": "#EBF0F8"
             },
             "line": {
              "color": "white"
             }
            },
            "header": {
             "fill": {
              "color": "#C8D4E3"
             },
             "line": {
              "color": "white"
             }
            },
            "type": "table"
           }
          ]
         },
         "layout": {
          "annotationdefaults": {
           "arrowcolor": "#2a3f5f",
           "arrowhead": 0,
           "arrowwidth": 1
          },
          "autotypenumbers": "strict",
          "coloraxis": {
           "colorbar": {
            "outlinewidth": 0,
            "ticks": ""
           }
          },
          "colorscale": {
           "diverging": [
            [
             0,
             "#8e0152"
            ],
            [
             0.1,
             "#c51b7d"
            ],
            [
             0.2,
             "#de77ae"
            ],
            [
             0.3,
             "#f1b6da"
            ],
            [
             0.4,
             "#fde0ef"
            ],
            [
             0.5,
             "#f7f7f7"
            ],
            [
             0.6,
             "#e6f5d0"
            ],
            [
             0.7,
             "#b8e186"
            ],
            [
             0.8,
             "#7fbc41"
            ],
            [
             0.9,
             "#4d9221"
            ],
            [
             1,
             "#276419"
            ]
           ],
           "sequential": [
            [
             0,
             "#0d0887"
            ],
            [
             0.1111111111111111,
             "#46039f"
            ],
            [
             0.2222222222222222,
             "#7201a8"
            ],
            [
             0.3333333333333333,
             "#9c179e"
            ],
            [
             0.4444444444444444,
             "#bd3786"
            ],
            [
             0.5555555555555556,
             "#d8576b"
            ],
            [
             0.6666666666666666,
             "#ed7953"
            ],
            [
             0.7777777777777778,
             "#fb9f3a"
            ],
            [
             0.8888888888888888,
             "#fdca26"
            ],
            [
             1,
             "#f0f921"
            ]
           ],
           "sequentialminus": [
            [
             0,
             "#0d0887"
            ],
            [
             0.1111111111111111,
             "#46039f"
            ],
            [
             0.2222222222222222,
             "#7201a8"
            ],
            [
             0.3333333333333333,
             "#9c179e"
            ],
            [
             0.4444444444444444,
             "#bd3786"
            ],
            [
             0.5555555555555556,
             "#d8576b"
            ],
            [
             0.6666666666666666,
             "#ed7953"
            ],
            [
             0.7777777777777778,
             "#fb9f3a"
            ],
            [
             0.8888888888888888,
             "#fdca26"
            ],
            [
             1,
             "#f0f921"
            ]
           ]
          },
          "colorway": [
           "#636efa",
           "#EF553B",
           "#00cc96",
           "#ab63fa",
           "#FFA15A",
           "#19d3f3",
           "#FF6692",
           "#B6E880",
           "#FF97FF",
           "#FECB52"
          ],
          "font": {
           "color": "#2a3f5f"
          },
          "geo": {
           "bgcolor": "white",
           "lakecolor": "white",
           "landcolor": "#E5ECF6",
           "showlakes": true,
           "showland": true,
           "subunitcolor": "white"
          },
          "hoverlabel": {
           "align": "left"
          },
          "hovermode": "closest",
          "mapbox": {
           "style": "light"
          },
          "paper_bgcolor": "white",
          "plot_bgcolor": "#E5ECF6",
          "polar": {
           "angularaxis": {
            "gridcolor": "white",
            "linecolor": "white",
            "ticks": ""
           },
           "bgcolor": "#E5ECF6",
           "radialaxis": {
            "gridcolor": "white",
            "linecolor": "white",
            "ticks": ""
           }
          },
          "scene": {
           "xaxis": {
            "backgroundcolor": "#E5ECF6",
            "gridcolor": "white",
            "gridwidth": 2,
            "linecolor": "white",
            "showbackground": true,
            "ticks": "",
            "zerolinecolor": "white"
           },
           "yaxis": {
            "backgroundcolor": "#E5ECF6",
            "gridcolor": "white",
            "gridwidth": 2,
            "linecolor": "white",
            "showbackground": true,
            "ticks": "",
            "zerolinecolor": "white"
           },
           "zaxis": {
            "backgroundcolor": "#E5ECF6",
            "gridcolor": "white",
            "gridwidth": 2,
            "linecolor": "white",
            "showbackground": true,
            "ticks": "",
            "zerolinecolor": "white"
           }
          },
          "shapedefaults": {
           "line": {
            "color": "#2a3f5f"
           }
          },
          "ternary": {
           "aaxis": {
            "gridcolor": "white",
            "linecolor": "white",
            "ticks": ""
           },
           "baxis": {
            "gridcolor": "white",
            "linecolor": "white",
            "ticks": ""
           },
           "bgcolor": "#E5ECF6",
           "caxis": {
            "gridcolor": "white",
            "linecolor": "white",
            "ticks": ""
           }
          },
          "title": {
           "x": 0.05
          },
          "xaxis": {
           "automargin": true,
           "gridcolor": "white",
           "linecolor": "white",
           "ticks": "",
           "title": {
            "standoff": 15
           },
           "zerolinecolor": "white",
           "zerolinewidth": 2
          },
          "yaxis": {
           "automargin": true,
           "gridcolor": "white",
           "linecolor": "white",
           "ticks": "",
           "title": {
            "standoff": 15
           },
           "zerolinecolor": "white",
           "zerolinewidth": 2
          }
         }
        },
        "title": {
         "text": "Unemployment Rate (Area Wise) by Bar Origin"
        },
        "xaxis": {
         "anchor": "y",
         "categoryarray": [
          "Rural",
          "Urban"
         ],
         "categoryorder": "total descending",
         "domain": [
          0,
          1
         ],
         "title": {
          "text": "Area"
         }
        },
        "yaxis": {
         "anchor": "x",
         "domain": [
          0,
          1
         ],
         "title": {
          "text": " Estimated Unemployment Rate (%)"
         }
        }
       }
      },
      "image/png": "[encoded data removed]"
     },
     "metadata": {},
     "output_type": "display_data"
    }
   ],
   "source": [
    "ree = px.bar(df,x='Area',y=y,color='Area',title='Unemployment Rate (Area Wise) by Bar Origin',template='plotly')\n",
    "ree.update_layout(xaxis={'categoryorder':'total descending'})\n",
    "ree.show()"
   ]
  },
  {
   "cell_type": "code",
   "execution_count": 27,
   "id": "4ee186eb-7848-4253-b381-093108589f32",
   "metadata": {},
   "outputs": [
    {
     "data": {
      "application/vnd.plotly.v1+json": {
       "config": {
        "plotlyServerURL": "https://plot.ly"
       },
       "data": [
        {
         "hovertemplate": "Region=%{x}<br> Estimated Unemployment Rate (%)=%{y}<extra></extra>",
         "legendgroup": "Andhra Pradesh",
         "marker": {
          "color": "#636efa",
          "pattern": {
           "shape": ""
          }
         },
         "name": "Andhra Pradesh",
         "orientation": "v",
         "showlegend": true,
         "textposition": "auto",
         "type": "bar",
         "x": [
          "Andhra Pradesh",
          "Andhra Pradesh",
          "Andhra Pradesh",
          "Andhra Pradesh",
          "Andhra Pradesh",
          "Andhra Pradesh",
          "Andhra Pradesh",
          "Andhra Pradesh",
          "Andhra Pradesh",
          "Andhra Pradesh",
          "Andhra Pradesh",
          "Andhra Pradesh",
          "Andhra Pradesh",
          "Andhra Pradesh",
          "Andhra Pradesh",
          "Andhra Pradesh",
          "Andhra Pradesh",
          "Andhra Pradesh",
          "Andhra Pradesh",
          "Andhra Pradesh",
          "Andhra Pradesh",
          "Andhra Pradesh",
          "Andhra Pradesh",
          "Andhra Pradesh",
          "Andhra Pradesh",
          "Andhra Pradesh",
          "Andhra Pradesh",
          "Andhra Pradesh"
         ],
         "xaxis": "x",
         "y": {
          "bdata": "MzMzMzMzDUBmZmZmZmYIQAAAAAAAAA5Aj8L1KFyPCkCuR+F6FK4UQClcj8L1KAxAexSuR+F6EECF61G4HoURQFyPwvUoXBNApHA9CtejF0A9CtejcD0QQArXo3A9SjBA7FG4HoXrLEAzMzMzMzPrP1yPwvUoXBhAZmZmZmZmDkCPwvUoXI8WQHE9CtejcBJACtejcD0KGEDNzMzMzMwSQClcj8L1KB5AhetRuB6FH0BxPQrXo3AcQKRwPQrXoxZAw/UoXI/CI0BmZmZmZiZAQClcj8L16DhAcT0K16NwF0A=",
          "dtype": "f8"
         },
         "yaxis": "y"
        },
        {
         "hovertemplate": "Region=%{x}<br> Estimated Unemployment Rate (%)=%{y}<extra></extra>",
         "legendgroup": "Assam",
         "marker": {
          "color": "#EF553B",
          "pattern": {
           "shape": ""
          }
         },
         "name": "Assam",
         "orientation": "v",
         "showlegend": true,
         "textposition": "auto",
         "type": "bar",
         "x": [
          "Assam",
          "Assam",
          "Assam",
          "Assam",
          "Assam",
          "Assam",
          "Assam",
          "Assam",
          "Assam",
          "Assam",
          "Assam",
          "Assam",
          "Assam",
          "Assam",
          "Assam",
          "Assam",
          "Assam",
          "Assam",
          "Assam",
          "Assam",
          "Assam",
          "Assam",
          "Assam",
          "Assam",
          "Assam",
          "Assam"
         ],
         "xaxis": "x",
         "y": {
          "bdata": "KVyPwvUoEUBSuB6F61EUQArXo3A9ChFAKVyPwvUoF0DXo3A9CtcRQJqZmZmZmRJApHA9CtejEkApXI/C9SgRQBSuR+F6FApAKVyPwvUoDkDD9Shcj8IiQAAAAAAAAAAAexSuR+F6H0BI4XoUrscjQK5H4XoUrglASOF6FK7HJECF61G4HoUiQNejcD0KVyZAPQrXo3A9GUAUrkfhehQUQPYoXI/C9RxA9ihcj8L1I0CuR+F6FK4kQD0K16NwvSBACtejcD2KJUBcj8L1KFwLQA==",
          "dtype": "f8"
         },
         "yaxis": "y"
        },
        {
         "hovertemplate": "Region=%{x}<br> Estimated Unemployment Rate (%)=%{y}<extra></extra>",
         "legendgroup": "Bihar",
         "marker": {
          "color": "#00cc96",
          "pattern": {
           "shape": ""
          }
         },
         "name": "Bihar",
         "orientation": "v",
         "showlegend": true,
         "textposition": "auto",
         "type": "bar",
         "x": [
          "Bihar",
          "Bihar",
          "Bihar",
          "Bihar",
          "Bihar",
          "Bihar",
          "Bihar",
          "Bihar",
          "Bihar",
          "Bihar",
          "Bihar",
          "Bihar",
          "Bihar",
          "Bihar",
          "Bihar",
          "Bihar",
          "Bihar",
          "Bihar",
          "Bihar",
          "Bihar",
          "Bihar",
          "Bihar",
          "Bihar",
          "Bihar",
          "Bihar",
          "Bihar",
          "Bihar",
          "Bihar"
         ],
         "xaxis": "x",
         "y": {
          "bdata": "CtejcD2KIkBmZmZmZmYkQOF6FK5H4SpAAAAAAAAAJkA9CtejcL0hQHE9Ctej8ChAzczMzMzMKEBSuB6F61EkQMP1KFyPQiJAuB6F61E4I0BI4XoUrscuQOxRuB6Fi0ZA4XoUrkehR0A9CtejcH00QGZmZmZm5jNAFK5H4XqUKkApXI/C9WgwQClcj8L1qDFA9ihcj8J1NEAfhetRuB4sQB+F61G4njFAUrgehevRLUBxPQrXo7A0QLgehetROC5A9ihcj8J1L0DD9Shcj2JNQI/C9Shc70JAZmZmZmbmKEA=",
          "dtype": "f8"
         },
         "yaxis": "y"
        },
        {
         "hovertemplate": "Region=%{x}<br> Estimated Unemployment Rate (%)=%{y}<extra></extra>",
         "legendgroup": "Chhattisgarh",
         "marker": {
          "color": "#ab63fa",
          "pattern": {
           "shape": ""
          }
         },
         "name": "Chhattisgarh",
         "orientation": "v",
         "showlegend": true,
         "textposition": "auto",
         "type": "bar",
         "x": [
          "Chhattisgarh",
          "Chhattisgarh",
          "Chhattisgarh",
          "Chhattisgarh",
          "Chhattisgarh",
          "Chhattisgarh",
          "Chhattisgarh",
          "Chhattisgarh",
          "Chhattisgarh",
          "Chhattisgarh",
          "Chhattisgarh",
          "Chhattisgarh",
          "Chhattisgarh",
          "Chhattisgarh",
          "Chhattisgarh",
          "Chhattisgarh",
          "Chhattisgarh",
          "Chhattisgarh",
          "Chhattisgarh",
          "Chhattisgarh",
          "Chhattisgarh",
          "Chhattisgarh",
          "Chhattisgarh",
          "Chhattisgarh",
          "Chhattisgarh",
          "Chhattisgarh",
          "Chhattisgarh",
          "Chhattisgarh"
         ],
         "xaxis": "x",
         "y": {
          "bdata": "pHA9CtejI0AK16NwPQobQClcj8L1KBJAj8L1KFyPEkApXI/C9aggQNejcD0K1xtAKVyPwvUoBkBxPQrXo3AYQEjhehSuxyNAj8L1KFyPH0A9CtejcD0dQAAAAAAAAAAAj8L1KFyPHkBI4XoUrkckQArXo3A9iiNACtejcD2KJ0DXo3A9ClcgQClcj8L1KBlA7FG4HoXrIkAK16NwPYokQKRwPQrXoyBAj8L1KFyPDECF61G4HgUiQBSuR+F6lCNA7FG4HoVrIEDhehSuRyE0QJqZmZmZGThAUrgehesRO0A=",
          "dtype": "f8"
         },
         "yaxis": "y"
        },
        {
         "hovertemplate": "Region=%{x}<br> Estimated Unemployment Rate (%)=%{y}<extra></extra>",
         "legendgroup": "Delhi",
         "marker": {
          "color": "#FFA15A",
          "pattern": {
           "shape": ""
          }
         },
         "name": "Delhi",
         "orientation": "v",
         "showlegend": true,
         "textposition": "auto",
         "type": "bar",
         "x": [
          "Delhi",
          "Delhi",
          "Delhi",
          "Delhi",
          "Delhi",
          "Delhi",
          "Delhi",
          "Delhi",
          "Delhi",
          "Delhi",
          "Delhi",
          "Delhi",
          "Delhi",
          "Delhi",
          "Delhi",
          "Delhi",
          "Delhi",
          "Delhi",
          "Delhi",
          "Delhi",
          "Delhi",
          "Delhi",
          "Delhi",
          "Delhi",
          "Delhi",
          "Delhi",
          "Delhi",
          "Delhi"
         ],
         "xaxis": "x",
         "y": {
          "bdata": "H4XrUbgeKUApXI/C9agiQKRwPQrXIyZArkfhehQuMUAAAAAAAAApQK5H4XoUri9AuB6F61E4JkC4HoXrUfgwQPYoXI/C9SpAH4XrUbieK0Bcj8L1KFwuQHE9CtejsDRAw/UoXI/CNkCkcD0K1yM1QB+F61G4nihAhetRuB6FKUBcj8L1KFwtQArXo3A9CitA16NwPQqXNEBSuB6F69EoQFyPwvUoHDBApHA9CtcjJkAzMzMzM3M2QLgehetRuC1A16NwPQoXMUDD9Shcj4IwQKRwPQrX40ZAXI/C9SgcMkA=",
          "dtype": "f8"
         },
         "yaxis": "y"
        },
        {
         "hovertemplate": "Region=%{x}<br> Estimated Unemployment Rate (%)=%{y}<extra></extra>",
         "legendgroup": "Goa",
         "marker": {
          "color": "#19d3f3",
          "pattern": {
           "shape": ""
          }
         },
         "name": "Goa",
         "orientation": "v",
         "showlegend": true,
         "textposition": "auto",
         "type": "bar",
         "x": [
          "Goa",
          "Goa",
          "Goa",
          "Goa",
          "Goa",
          "Goa",
          "Goa",
          "Goa",
          "Goa",
          "Goa",
          "Goa",
          "Goa",
          "Goa",
          "Goa",
          "Goa",
          "Goa",
          "Goa",
          "Goa",
          "Goa",
          "Goa",
          "Goa",
          "Goa",
          "Goa",
          "Goa"
         ],
         "xaxis": "x",
         "y": {
          "bdata": "SOF6FK5HB0DNzMzMzMwVQPYoXI/C9SVArkfhehSu/z/hehSuR+EMQNejcD0K1xxA9ihcj8K1N0BSuB6F61EMQIXrUbgehRVAAAAAAAAAAABSuB6F69EvQAAAAAAAADRAAAAAAAAABkApXI/C9agqQI/C9ShcjyhAmpmZmZmZE0BI4XoUrkcJQB+F61G4nihAMzMzMzMzOUC4HoXrUTgwQNejcD0K1yVAPQrXo3A9EUAK16NwPQoTQIXrUbgehSdA",
          "dtype": "f8"
         },
         "yaxis": "y"
        },
        {
         "hovertemplate": "Region=%{x}<br> Estimated Unemployment Rate (%)=%{y}<extra></extra>",
         "legendgroup": "Gujarat",
         "marker": {
          "color": "#FF6692",
          "pattern": {
           "shape": ""
          }
         },
         "name": "Gujarat",
         "orientation": "v",
         "showlegend": true,
         "textposition": "auto",
         "type": "bar",
         "x": [
          "Gujarat",
          "Gujarat",
          "Gujarat",
          "Gujarat",
          "Gujarat",
          "Gujarat",
          "Gujarat",
          "Gujarat",
          "Gujarat",
          "Gujarat",
          "Gujarat",
          "Gujarat",
          "Gujarat",
          "Gujarat",
          "Gujarat",
          "Gujarat",
          "Gujarat",
          "Gujarat",
          "Gujarat",
          "Gujarat",
          "Gujarat",
          "Gujarat",
          "Gujarat",
          "Gujarat",
          "Gujarat",
          "Gujarat",
          "Gujarat",
          "Gujarat"
         ],
         "xaxis": "x",
         "y": {
          "bdata": "CtejcD0KB0AUrkfhehQTQFK4HoXrURJAmpmZmZmZDUApXI/C9SgZQKRwPQrXoxNAuB6F61G4EkCuR+F6FK4LQGZmZmZmZhVAj8L1KFyPGkBcj8L1KFweQAAAAAAAAChAKVyPwvUoLUCPwvUoXI/2P1yPwvUoXBBAPQrXo3A9GUCamZmZmZkUQM3MzMzMzBBA16NwPQrXF0DNzMzMzMwVQB+F61G4Hh5A16NwPQrXFkBI4XoUrkcXQClcj8L1KBhAj8L1KFyPFUBxPQrXo/A5QD0K16NwPSdAKVyPwvUoEkA=",
          "dtype": "f8"
         },
         "yaxis": "y"
        },
        {
         "hovertemplate": "Region=%{x}<br> Estimated Unemployment Rate (%)=%{y}<extra></extra>",
         "legendgroup": "Haryana",
         "marker": {
          "color": "#B6E880",
          "pattern": {
           "shape": ""
          }
         },
         "name": "Haryana",
         "orientation": "v",
         "showlegend": true,
         "textposition": "auto",
         "type": "bar",
         "x": [
          "Haryana",
          "Haryana",
          "Haryana",
          "Haryana",
          "Haryana",
          "Haryana",
          "Haryana",
          "Haryana",
          "Haryana",
          "Haryana",
          "Haryana",
          "Haryana",
          "Haryana",
          "Haryana",
          "Haryana",
          "Haryana",
          "Haryana",
          "Haryana",
          "Haryana",
          "Haryana",
          "Haryana",
          "Haryana",
          "Haryana",
          "Haryana",
          "Haryana",
          "Haryana",
          "Haryana",
          "Haryana"
         ],
         "xaxis": "x",
         "y": {
          "bdata": "FK5H4XoULUAUrkfhehQ3QLgehetRODBAcT0K16PwPkBcj8L1KFwwQOxRuB6FKzhA16NwPQqXMECPwvUoXI89QPYoXI/CNTBAcT0K16MwO0DsUbgehes3QK5H4XoUzkRAXI/C9SgcQUApXI/C9chBQOxRuB6FqzhA7FG4HoVrNEAzMzMzM3M5QHE9CtejMDhA16NwPQrXOkAK16NwPQo1QI/C9ShcDztAZmZmZmamN0A9CtejcD07QArXo3A9SjdApHA9CtcjO0BSuB6F63FHQHsUrkfhOkNAKVyPwvVoPUA=",
          "dtype": "f8"
         },
         "yaxis": "y"
        },
        {
         "hovertemplate": "Region=%{x}<br> Estimated Unemployment Rate (%)=%{y}<extra></extra>",
         "legendgroup": "Himachal Pradesh",
         "marker": {
          "color": "#FF97FF",
          "pattern": {
           "shape": ""
          }
         },
         "name": "Himachal Pradesh",
         "orientation": "v",
         "showlegend": true,
         "textposition": "auto",
         "type": "bar",
         "x": [
          "Himachal Pradesh",
          "Himachal Pradesh",
          "Himachal Pradesh",
          "Himachal Pradesh",
          "Himachal Pradesh",
          "Himachal Pradesh",
          "Himachal Pradesh",
          "Himachal Pradesh",
          "Himachal Pradesh",
          "Himachal Pradesh",
          "Himachal Pradesh",
          "Himachal Pradesh",
          "Himachal Pradesh",
          "Himachal Pradesh",
          "Himachal Pradesh",
          "Himachal Pradesh",
          "Himachal Pradesh",
          "Himachal Pradesh",
          "Himachal Pradesh",
          "Himachal Pradesh",
          "Himachal Pradesh",
          "Himachal Pradesh",
          "Himachal Pradesh",
          "Himachal Pradesh",
          "Himachal Pradesh",
          "Himachal Pradesh",
          "Himachal Pradesh",
          "Himachal Pradesh"
         ],
         "xaxis": "x",
         "y": {
          "bdata": "XI/C9ShcK0Bcj8L1KNwmQNejcD0KlzRAj8L1KFyPMkD2KFyPwvUvQB+F61G4ni9AXI/C9SjcNkD2KFyPwnUzQOxRuB6FqzBA16NwPQrXLkD2KFyPwrUxQArXo3A9CgFApHA9CtejOUDsUbgehevxP8P1KFyPwiVArkfhehRuNUDD9Shcj4I1QHsUrkfhejhAAAAAAAAAKECF61G4HsU3QIXrUbgeRTtAUrgehetROUBmZmZmZiYyQI/C9ShcTztAcT0K16NwOkCamZmZmZkFQAAAAAAAAElAH4XrUbieJUA=",
          "dtype": "f8"
         },
         "yaxis": "y"
        },
        {
         "hovertemplate": "Region=%{x}<br> Estimated Unemployment Rate (%)=%{y}<extra></extra>",
         "legendgroup": "Jammu & Kashmir",
         "marker": {
          "color": "#FECB52",
          "pattern": {
           "shape": ""
          }
         },
         "name": "Jammu & Kashmir",
         "orientation": "v",
         "showlegend": true,
         "textposition": "auto",
         "type": "bar",
         "x": [
          "Jammu & Kashmir",
          "Jammu & Kashmir",
          "Jammu & Kashmir",
          "Jammu & Kashmir",
          "Jammu & Kashmir",
          "Jammu & Kashmir",
          "Jammu & Kashmir",
          "Jammu & Kashmir",
          "Jammu & Kashmir",
          "Jammu & Kashmir",
          "Jammu & Kashmir",
          "Jammu & Kashmir",
          "Jammu & Kashmir",
          "Jammu & Kashmir",
          "Jammu & Kashmir",
          "Jammu & Kashmir",
          "Jammu & Kashmir",
          "Jammu & Kashmir",
          "Jammu & Kashmir",
          "Jammu & Kashmir",
          "Jammu & Kashmir"
         ],
         "xaxis": "x",
         "y": {
          "bdata": "j8L1KFyPKUCuR+F6FC4oQNejcD0KVytApHA9CtejJkCF61G4HkUzQPYoXI/CdS1AcT0K16MwNkB7FK5H4To1QAAAAAAAADBAw/UoXI/CAUC4HoXrUfgyQArXo3A9CjdA4XoUrkfhM0DNzMzMzIw1QI/C9ShcDzhAFK5H4XqULEAUrkfhehQcQArXo3A9ijJAXI/C9SjcM0AUrkfhepQsQOxRuB6F6ylA",
          "dtype": "f8"
         },
         "yaxis": "y"
        },
        {
         "hovertemplate": "Region=%{x}<br> Estimated Unemployment Rate (%)=%{y}<extra></extra>",
         "legendgroup": "Jharkhand",
         "marker": {
          "color": "#636efa",
          "pattern": {
           "shape": ""
          }
         },
         "name": "Jharkhand",
         "orientation": "v",
         "showlegend": true,
         "textposition": "auto",
         "type": "bar",
         "x": [
          "Jharkhand",
          "Jharkhand",
          "Jharkhand",
          "Jharkhand",
          "Jharkhand",
          "Jharkhand",
          "Jharkhand",
          "Jharkhand",
          "Jharkhand",
          "Jharkhand",
          "Jharkhand",
          "Jharkhand",
          "Jharkhand",
          "Jharkhand",
          "Jharkhand",
          "Jharkhand",
          "Jharkhand",
          "Jharkhand",
          "Jharkhand",
          "Jharkhand",
          "Jharkhand",
          "Jharkhand",
          "Jharkhand",
          "Jharkhand",
          "Jharkhand",
          "Jharkhand",
          "Jharkhand",
          "Jharkhand"
         ],
         "xaxis": "x",
         "y": {
          "bdata": "cT0K16NwHEDsUbgehesgQPYoXI/C9SNAH4XrUbgeKEB7FK5H4XocQEjhehSuRxpApHA9CtcjIEDNzMzMzEwuQKRwPQrXoxhAH4XrUbgeIkAK16NwPQoUQFyPwvUo3ERAzczMzMyMS0BI4XoUroc1QHsUrkfhOjFAw/UoXI+CNEDXo3A9ClcvQAAAAAAAQDRAKVyPwvUoNUDNzMzMzAwzQNejcD0KVzFAw/UoXI8CNkD2KFyPwvU2QOxRuB6FqzNAZmZmZmZmMEA9CtejcL1OQHsUrkfhilFA4XoUrkdhM0A=",
          "dtype": "f8"
         },
         "yaxis": "y"
        },
        {
         "hovertemplate": "Region=%{x}<br> Estimated Unemployment Rate (%)=%{y}<extra></extra>",
         "legendgroup": "Karnataka",
         "marker": {
          "color": "#EF553B",
          "pattern": {
           "shape": ""
          }
         },
         "name": "Karnataka",
         "orientation": "v",
         "showlegend": true,
         "textposition": "auto",
         "type": "bar",
         "x": [
          "Karnataka",
          "Karnataka",
          "Karnataka",
          "Karnataka",
          "Karnataka",
          "Karnataka",
          "Karnataka",
          "Karnataka",
          "Karnataka",
          "Karnataka",
          "Karnataka",
          "Karnataka",
          "Karnataka",
          "Karnataka",
          "Karnataka",
          "Karnataka",
          "Karnataka",
          "Karnataka",
          "Karnataka",
          "Karnataka",
          "Karnataka",
          "Karnataka",
          "Karnataka",
          "Karnataka",
          "Karnataka",
          "Karnataka",
          "Karnataka",
          "Karnataka"
         ],
         "xaxis": "x",
         "y": {
          "bdata": "16NwPQrXFUDsUbgehesXQKRwPQrXo+A/rkfhehSu1z+amZmZmZkJQIXrUbgehRxACtejcD0K8z89CtejcD3aP4/C9ShcjwRAcT0K16NwEEAfhetRuB4DQPYoXI/ClUBAuB6F61G4N0DXo3A9CtclQD0K16NwPRpAAAAAAAAAFEBSuB6F61ECQFK4HoXrUfQ/j8L1KFyPDED2KFyPwvUOQIXrUbgehQtA9ihcj8L1+D97FK5H4XoKQArXo3A9CgdArkfhehSuE0AfhetRuB45QMP1KFyPwi9AexSuR+F6GEA=",
          "dtype": "f8"
         },
         "yaxis": "y"
        },
        {
         "hovertemplate": "Region=%{x}<br> Estimated Unemployment Rate (%)=%{y}<extra></extra>",
         "legendgroup": "Kerala",
         "marker": {
          "color": "#00cc96",
          "pattern": {
           "shape": ""
          }
         },
         "name": "Kerala",
         "orientation": "v",
         "showlegend": true,
         "textposition": "auto",
         "type": "bar",
         "x": [
          "Kerala",
          "Kerala",
          "Kerala",
          "Kerala",
          "Kerala",
          "Kerala",
          "Kerala",
          "Kerala",
          "Kerala",
          "Kerala",
          "Kerala",
          "Kerala",
          "Kerala",
          "Kerala",
          "Kerala",
          "Kerala",
          "Kerala",
          "Kerala",
          "Kerala",
          "Kerala",
          "Kerala",
          "Kerala",
          "Kerala",
          "Kerala",
          "Kerala",
          "Kerala",
          "Kerala",
          "Kerala"
         ],
         "xaxis": "x",
         "y": {
          "bdata": "hetRuB6FGkAAAAAAAAAiQM3MzMzMzBNApHA9CtejJEBmZmZmZmYVQEjhehSuRyJAAAAAAAAAFEAK16NwPYolQHE9CtejcBBAUrgehevRIUAzMzMzM7MhQOxRuB6FayVA4XoUrkdhN0ApXI/C9ag7QHE9CtejcBhArkfhehSuGkBSuB6F61EeQMP1KFyPwh5AFK5H4XoUFkBmZmZmZmYVQNejcD0K1xpAPQrXo3A9HUCamZmZmZkaQFK4HoXrURhASOF6FK5HIkCuR+F6FG41QEjhehSuRz5A16NwPQpXKEA=",
          "dtype": "f8"
         },
         "yaxis": "y"
        },
        {
         "hovertemplate": "Region=%{x}<br> Estimated Unemployment Rate (%)=%{y}<extra></extra>",
         "legendgroup": "Madhya Pradesh",
         "marker": {
          "color": "#ab63fa",
          "pattern": {
           "shape": ""
          }
         },
         "name": "Madhya Pradesh",
         "orientation": "v",
         "showlegend": true,
         "textposition": "auto",
         "type": "bar",
         "x": [
          "Madhya Pradesh",
          "Madhya Pradesh",
          "Madhya Pradesh",
          "Madhya Pradesh",
          "Madhya Pradesh",
          "Madhya Pradesh",
          "Madhya Pradesh",
          "Madhya Pradesh",
          "Madhya Pradesh",
          "Madhya Pradesh",
          "Madhya Pradesh",
          "Madhya Pradesh",
          "Madhya Pradesh",
          "Madhya Pradesh",
          "Madhya Pradesh",
          "Madhya Pradesh",
          "Madhya Pradesh",
          "Madhya Pradesh",
          "Madhya Pradesh",
          "Madhya Pradesh",
          "Madhya Pradesh",
          "Madhya Pradesh",
          "Madhya Pradesh",
          "Madhya Pradesh",
          "Madhya Pradesh",
          "Madhya Pradesh",
          "Madhya Pradesh",
          "Madhya Pradesh"
         ],
         "xaxis": "x",
         "y": {
          "bdata": "CtejcD0KDUAAAAAAAAARQFyPwvUoXA9Aw/UoXI/CE0CkcD0K16MIQNejcD0K1wdAw/UoXI/CBUCF61G4HoUHQEjhehSuRw1ArkfhehSuEUAK16NwPQrzPwAAAAAAAClA9ihcj8J1NkDXo3A9CtcZQEjhehSuRw9AhetRuB6FGUCF61G4HoUdQEjhehSuRxtAAAAAAAAAHECamZmZmZkRQD0K16NwPRhAzczMzMzMGECuR+F6FK4UQNejcD0K1xNAMzMzMzMzE0DhehSuR+EnQB+F61G4PkRAcT0K16NwKUA=",
          "dtype": "f8"
         },
         "yaxis": "y"
        },
        {
         "hovertemplate": "Region=%{x}<br> Estimated Unemployment Rate (%)=%{y}<extra></extra>",
         "legendgroup": "Maharashtra",
         "marker": {
          "color": "#FFA15A",
          "pattern": {
           "shape": ""
          }
         },
         "name": "Maharashtra",
         "orientation": "v",
         "showlegend": true,
         "textposition": "auto",
         "type": "bar",
         "x": [
          "Maharashtra",
          "Maharashtra",
          "Maharashtra",
          "Maharashtra",
          "Maharashtra",
          "Maharashtra",
          "Maharashtra",
          "Maharashtra",
          "Maharashtra",
          "Maharashtra",
          "Maharashtra",
          "Maharashtra",
          "Maharashtra",
          "Maharashtra",
          "Maharashtra",
          "Maharashtra",
          "Maharashtra",
          "Maharashtra",
          "Maharashtra",
          "Maharashtra",
          "Maharashtra",
          "Maharashtra",
          "Maharashtra",
          "Maharashtra",
          "Maharashtra",
          "Maharashtra",
          "Maharashtra",
          "Maharashtra"
         ],
         "xaxis": "x",
         "y": {
          "bdata": "XI/C9ShcDUBcj8L1KFwRQEjhehSuRw1AFK5H4XoUDkCamZmZmZkRQHsUrkfheg5AcT0K16NwDUA9CtejcD0IQGZmZmZmZg5A9ihcj8L1EECF61G4HoUVQEjhehSuRzlApHA9CtfjMEDNzMzMzMwiQFK4HoXrURhA16NwPQrXGUBmZmZmZmYZQEjhehSuRx5AZmZmZmZmHkAK16NwPQoeQGZmZmZmZh5AUrgehetRH0CuR+F6FK4aQFyPwvUoXBVAXI/C9ShcGUB7FK5H4fotQNejcD0K1y9AhetRuB4FJEA=",
          "dtype": "f8"
         },
         "yaxis": "y"
        },
        {
         "hovertemplate": "Region=%{x}<br> Estimated Unemployment Rate (%)=%{y}<extra></extra>",
         "legendgroup": "Meghalaya",
         "marker": {
          "color": "#19d3f3",
          "pattern": {
           "shape": ""
          }
         },
         "name": "Meghalaya",
         "orientation": "v",
         "showlegend": true,
         "textposition": "auto",
         "type": "bar",
         "x": [
          "Meghalaya",
          "Meghalaya",
          "Meghalaya",
          "Meghalaya",
          "Meghalaya",
          "Meghalaya",
          "Meghalaya",
          "Meghalaya",
          "Meghalaya",
          "Meghalaya",
          "Meghalaya",
          "Meghalaya",
          "Meghalaya",
          "Meghalaya",
          "Meghalaya",
          "Meghalaya",
          "Meghalaya",
          "Meghalaya",
          "Meghalaya",
          "Meghalaya",
          "Meghalaya",
          "Meghalaya",
          "Meghalaya",
          "Meghalaya",
          "Meghalaya",
          "Meghalaya",
          "Meghalaya"
         ],
         "xaxis": "x",
         "y": {
          "bdata": "SOF6FK5HCUDsUbgehesQQHsUrkfhevA/pHA9Ctej4D+4HoXrUbjOP5qZmZmZmQ1AAAAAAAAA+D/NzMzMzMz8PwrXo3A9Cu8/FK5H4XoUBkB7FK5H4Xr0P8P1KFyPwiBA16NwPQrXDUCamZmZmZn1P83MzMzMzCBAUrgehetRIUC4HoXrUbgRQDMzMzMzMxdAMzMzMzMzFUDNzMzMzMwcQClcj8L1KAhA16NwPQrXFEAK16NwPQoTQHsUrkfheh1AZmZmZmZmBkCkcD0K12MxQClcj8L1KC1A",
          "dtype": "f8"
         },
         "yaxis": "y"
        },
        {
         "hovertemplate": "Region=%{x}<br> Estimated Unemployment Rate (%)=%{y}<extra></extra>",
         "legendgroup": "Odisha",
         "marker": {
          "color": "#FF6692",
          "pattern": {
           "shape": ""
          }
         },
         "name": "Odisha",
         "orientation": "v",
         "showlegend": true,
         "textposition": "auto",
         "type": "bar",
         "x": [
          "Odisha",
          "Odisha",
          "Odisha",
          "Odisha",
          "Odisha",
          "Odisha",
          "Odisha",
          "Odisha",
          "Odisha",
          "Odisha",
          "Odisha",
          "Odisha",
          "Odisha",
          "Odisha",
          "Odisha",
          "Odisha",
          "Odisha",
          "Odisha",
          "Odisha",
          "Odisha",
          "Odisha",
          "Odisha",
          "Odisha",
          "Odisha",
          "Odisha",
          "Odisha",
          "Odisha",
          "Odisha"
         ],
         "xaxis": "x",
         "y": {
          "bdata": "rkfhehSuEEDXo3A9CtcSQHsUrkfhegpAcT0K16NwDUA9CtejcD0RQB+F61G4HhFA4XoUrkfhEkCuR+F6FK4SQPYoXI/C9fw/exSuR+F6CkCuR+F6FC4uQHsUrkfhejhAZmZmZmbmIkBcj8L1KFwSQJqZmZmZmQdACtejcD0KBUB7FK5H4Xr8PwAAAAAAAAxAPQrXo3A9DkAAAAAAAAASQNejcD0K1wFA4XoUrkfhCkA9CtejcD0CQIXrUbgehQFArkfhehSuD0AAAAAAAIA0QAAAAAAAACRAcT0K16NwAUA=",
          "dtype": "f8"
         },
         "yaxis": "y"
        },
        {
         "hovertemplate": "Region=%{x}<br> Estimated Unemployment Rate (%)=%{y}<extra></extra>",
         "legendgroup": "Puducherry",
         "marker": {
          "color": "#B6E880",
          "pattern": {
           "shape": ""
          }
         },
         "name": "Puducherry",
         "orientation": "v",
         "showlegend": true,
         "textposition": "auto",
         "type": "bar",
         "x": [
          "Puducherry",
          "Puducherry",
          "Puducherry",
          "Puducherry",
          "Puducherry",
          "Puducherry",
          "Puducherry",
          "Puducherry",
          "Puducherry",
          "Puducherry",
          "Puducherry",
          "Puducherry",
          "Puducherry",
          "Puducherry",
          "Puducherry",
          "Puducherry",
          "Puducherry",
          "Puducherry",
          "Puducherry",
          "Puducherry",
          "Puducherry",
          "Puducherry",
          "Puducherry",
          "Puducherry",
          "Puducherry",
          "Puducherry"
         ],
         "xaxis": "x",
         "y": {
          "bdata": "AAAAAAAAAAAAAAAAAAAAAAAAAAAAAAAAZmZmZmZmE0AAAAAAAAAAAOF6FK5H4fI/AAAAAAAAAADXo3A9Ctf/P4/C9Shcj+I/16NwPQrX+z97FK5H4XoCQHE9CtejoFJAAAAAAAAA9D8AAAAAAAAAAAAAAAAAAAAAZmZmZmbmIUCF61G4HoXzP7gehetRuPI/7FG4HoXr9T/Xo3A9CtcUQD0K16NwPeI/exSuR+F6/D/Xo3A9CtfjP4/C9ShcL1NAAAAAAADAUkAzMzMzMzMSQA==",
          "dtype": "f8"
         },
         "yaxis": "y"
        },
        {
         "hovertemplate": "Region=%{x}<br> Estimated Unemployment Rate (%)=%{y}<extra></extra>",
         "legendgroup": "Punjab",
         "marker": {
          "color": "#FF97FF",
          "pattern": {
           "shape": ""
          }
         },
         "name": "Punjab",
         "orientation": "v",
         "showlegend": true,
         "textposition": "auto",
         "type": "bar",
         "x": [
          "Punjab",
          "Punjab",
          "Punjab",
          "Punjab",
          "Punjab",
          "Punjab",
          "Punjab",
          "Punjab",
          "Punjab",
          "Punjab",
          "Punjab",
          "Punjab",
          "Punjab",
          "Punjab",
          "Punjab",
          "Punjab",
          "Punjab",
          "Punjab",
          "Punjab",
          "Punjab",
          "Punjab",
          "Punjab",
          "Punjab",
          "Punjab",
          "Punjab",
          "Punjab",
          "Punjab",
          "Punjab"
         ],
         "xaxis": "x",
         "y": {
          "bdata": "16NwPQpXIkDsUbgehWsoQEjhehSuRyNAw/UoXI/CGkCuR+F6FC4hQB+F61G4HilASOF6FK5HHECF61G4HoUYQOF6FK5HYSNAUrgehevRJECF61G4HgUlQIXrUbgehQ1A7FG4HoVLREAAAAAAAAA0QHsUrkfh+ipA16NwPQpXKkC4HoXrUTgnQHsUrkfh+idA4XoUrkdhL0AAAAAAAIArQEjhehSuxyRAcT0K16PwJ0Bcj8L1KFwrQHsUrkfh+idAcT0K16PwI0AUrkfhehTyPwrXo3A9ijRAmpmZmZkZJUA=",
          "dtype": "f8"
         },
         "yaxis": "y"
        },
        {
         "hovertemplate": "Region=%{x}<br> Estimated Unemployment Rate (%)=%{y}<extra></extra>",
         "legendgroup": "Rajasthan",
         "marker": {
          "color": "#FECB52",
          "pattern": {
           "shape": ""
          }
         },
         "name": "Rajasthan",
         "orientation": "v",
         "showlegend": true,
         "textposition": "auto",
         "type": "bar",
         "x": [
          "Rajasthan",
          "Rajasthan",
          "Rajasthan",
          "Rajasthan",
          "Rajasthan",
          "Rajasthan",
          "Rajasthan",
          "Rajasthan",
          "Rajasthan",
          "Rajasthan",
          "Rajasthan",
          "Rajasthan",
          "Rajasthan",
          "Rajasthan",
          "Rajasthan",
          "Rajasthan",
          "Rajasthan",
          "Rajasthan",
          "Rajasthan",
          "Rajasthan",
          "Rajasthan",
          "Rajasthan",
          "Rajasthan",
          "Rajasthan",
          "Rajasthan",
          "Rajasthan",
          "Rajasthan",
          "Rajasthan"
         ],
         "xaxis": "x",
         "y": {
          "bdata": "H4XrUbgeEEBmZmZmZmYrQGZmZmZmZiNAAAAAAAAAKUDNzMzMzMwVQFK4HoXrUS1AcT0K16PwJEDsUbgehesrQAAAAAAAACBA9ihcj8L1LEBxPQrXo/AiQAAAAAAAgChAZmZmZmbmJEC4HoXrUbgrQD0K16NwPStAuB6F61G4LEDXo3A9ClcnQOxRuB6Fay1Aw/UoXI9CKUAK16NwPQoqQJqZmZmZmSxACtejcD0KMkBSuB6F69EyQIXrUbgeBTFACtejcD2KMkCkcD0K18NBQJqZmZmZWTlAFK5H4XoUKkA=",
          "dtype": "f8"
         },
         "yaxis": "y"
        },
        {
         "hovertemplate": "Region=%{x}<br> Estimated Unemployment Rate (%)=%{y}<extra></extra>",
         "legendgroup": "Sikkim",
         "marker": {
          "color": "#636efa",
          "pattern": {
           "shape": ""
          }
         },
         "name": "Sikkim",
         "orientation": "v",
         "showlegend": true,
         "textposition": "auto",
         "type": "bar",
         "x": [
          "Sikkim",
          "Sikkim",
          "Sikkim",
          "Sikkim",
          "Sikkim",
          "Sikkim",
          "Sikkim",
          "Sikkim",
          "Sikkim",
          "Sikkim",
          "Sikkim",
          "Sikkim",
          "Sikkim",
          "Sikkim",
          "Sikkim",
          "Sikkim",
          "Sikkim"
         ],
         "xaxis": "x",
         "y": {
          "bdata": "7FG4HoXrFUC4HoXrUTgqQAAAAAAAAPA/AAAAAAAAAAA9CtejcD0XQGZmZmZmZiBACtejcD0KH0B7FK5H4XoEQEjhehSuRxNAPQrXo3A9E0Bcj8L1KFwjQClcj8L1KBBAexSuR+F6HUAzMzMzM3M0QBSuR+F6FBdAAAAAAADAM0AK16NwPQoFQA==",
          "dtype": "f8"
         },
         "yaxis": "y"
        },
        {
         "hovertemplate": "Region=%{x}<br> Estimated Unemployment Rate (%)=%{y}<extra></extra>",
         "legendgroup": "Tamil Nadu",
         "marker": {
          "color": "#EF553B",
          "pattern": {
           "shape": ""
          }
         },
         "name": "Tamil Nadu",
         "orientation": "v",
         "showlegend": true,
         "textposition": "auto",
         "type": "bar",
         "x": [
          "Tamil Nadu",
          "Tamil Nadu",
          "Tamil Nadu",
          "Tamil Nadu",
          "Tamil Nadu",
          "Tamil Nadu",
          "Tamil Nadu",
          "Tamil Nadu",
          "Tamil Nadu",
          "Tamil Nadu",
          "Tamil Nadu",
          "Tamil Nadu",
          "Tamil Nadu",
          "Tamil Nadu",
          "Tamil Nadu",
          "Tamil Nadu",
          "Tamil Nadu",
          "Tamil Nadu",
          "Tamil Nadu",
          "Tamil Nadu",
          "Tamil Nadu",
          "Tamil Nadu",
          "Tamil Nadu",
          "Tamil Nadu",
          "Tamil Nadu",
          "Tamil Nadu",
          "Tamil Nadu",
          "Tamil Nadu"
         ],
         "xaxis": "x",
         "y": {
          "bdata": "CtejcD0K7z9xPQrXo3DtPwrXo3A9ChhASOF6FK5HB0Bcj8L1KFz7P1yPwvUoXPc/rkfhehSuA0DXo3A9CtcNQOF6FK5H4fI/uB6F61G48j9xPQrXo3AZQLgehetRmEpAPQrXo3BdQ0B7FK5H4XoAQHsUrkfheuw/9ihcj8L1+D9xPQrXo3AJQI/C9ShcDyNAw/UoXI/C/T8UrkfhehTyPzMzMzMzMwVAmpmZmZkZIEBmZmZmZmYAQHsUrkfhegpA16NwPQrXGUBmZmZmZsZGQDMzMzMz8zlArkfhehTuOEA=",
          "dtype": "f8"
         },
         "yaxis": "y"
        },
        {
         "hovertemplate": "Region=%{x}<br> Estimated Unemployment Rate (%)=%{y}<extra></extra>",
         "legendgroup": "Telangana",
         "marker": {
          "color": "#00cc96",
          "pattern": {
           "shape": ""
          }
         },
         "name": "Telangana",
         "orientation": "v",
         "showlegend": true,
         "textposition": "auto",
         "type": "bar",
         "x": [
          "Telangana",
          "Telangana",
          "Telangana",
          "Telangana",
          "Telangana",
          "Telangana",
          "Telangana",
          "Telangana",
          "Telangana",
          "Telangana",
          "Telangana",
          "Telangana",
          "Telangana",
          "Telangana",
          "Telangana",
          "Telangana",
          "Telangana",
          "Telangana",
          "Telangana",
          "Telangana",
          "Telangana",
          "Telangana",
          "Telangana",
          "Telangana",
          "Telangana",
          "Telangana",
          "Telangana",
          "Telangana"
         ],
         "xaxis": "x",
         "y": {
          "bdata": "16NwPQrXAUCuR+F6FK4XQJqZmZmZmQNAZmZmZmZm9j/2KFyPwvUVQClcj8L1KB1A4XoUrkfhGUCamZmZmZn1PxSuR+F6FBRACtejcD0KIkCF61G4HoUWQArXo3A9ChJA4XoUrkcBQUDNzMzMzEwzQFK4HoXrUfg/4XoUrkfh9j/Xo3A9CtcNQMP1KFyPwhBAw/UoXI/CGED2KFyPwvUaQOxRuB6F6xRA4XoUrkfhEED2KFyPwvUZQPYoXI/C9RpAZmZmZmZmGEAAAAAAAAAlQClcj8L1SEJArkfhehSuG0A=",
          "dtype": "f8"
         },
         "yaxis": "y"
        },
        {
         "hovertemplate": "Region=%{x}<br> Estimated Unemployment Rate (%)=%{y}<extra></extra>",
         "legendgroup": "Tripura",
         "marker": {
          "color": "#ab63fa",
          "pattern": {
           "shape": ""
          }
         },
         "name": "Tripura",
         "orientation": "v",
         "showlegend": true,
         "textposition": "auto",
         "type": "bar",
         "x": [
          "Tripura",
          "Tripura",
          "Tripura",
          "Tripura",
          "Tripura",
          "Tripura",
          "Tripura",
          "Tripura",
          "Tripura",
          "Tripura",
          "Tripura",
          "Tripura",
          "Tripura",
          "Tripura",
          "Tripura",
          "Tripura",
          "Tripura",
          "Tripura",
          "Tripura",
          "Tripura",
          "Tripura",
          "Tripura",
          "Tripura",
          "Tripura",
          "Tripura",
          "Tripura",
          "Tripura",
          "Tripura"
         ],
         "xaxis": "x",
         "y": {
          "bdata": "AAAAAABAPUCkcD0K16M6QLgehetReDZAPQrXo3B9OUB7FK5H4To+QArXo3A9ijtAAAAAAABAOUBI4XoUroc6QClcj8L16D9AuB6F61E4OkBcj8L1KJw/QFK4HoXr0UVA7FG4HoVrLUDXo3A9CtcyQLgehetRWEFA16NwPQqXOUCPwvUoXM85QJqZmZmZuUBAKVyPwvXIQEDsUbgehas6QGZmZmZmJjtAPQrXo3C9QECPwvUoXC9BQHE9Ctej8EBAcT0K16OwOUBxPQrXo3BBQEjhehSuxzBAuB6F61F4O0A=",
          "dtype": "f8"
         },
         "yaxis": "y"
        },
        {
         "hovertemplate": "Region=%{x}<br> Estimated Unemployment Rate (%)=%{y}<extra></extra>",
         "legendgroup": "Uttar Pradesh",
         "marker": {
          "color": "#FFA15A",
          "pattern": {
           "shape": ""
          }
         },
         "name": "Uttar Pradesh",
         "orientation": "v",
         "showlegend": true,
         "textposition": "auto",
         "type": "bar",
         "x": [
          "Uttar Pradesh",
          "Uttar Pradesh",
          "Uttar Pradesh",
          "Uttar Pradesh",
          "Uttar Pradesh",
          "Uttar Pradesh",
          "Uttar Pradesh",
          "Uttar Pradesh",
          "Uttar Pradesh",
          "Uttar Pradesh",
          "Uttar Pradesh",
          "Uttar Pradesh",
          "Uttar Pradesh",
          "Uttar Pradesh",
          "Uttar Pradesh",
          "Uttar Pradesh",
          "Uttar Pradesh",
          "Uttar Pradesh",
          "Uttar Pradesh",
          "Uttar Pradesh",
          "Uttar Pradesh",
          "Uttar Pradesh",
          "Uttar Pradesh",
          "Uttar Pradesh",
          "Uttar Pradesh",
          "Uttar Pradesh",
          "Uttar Pradesh",
          "Uttar Pradesh"
         ],
         "xaxis": "x",
         "y": {
          "bdata": "hetRuB6FJEDD9Shcj0ImQOF6FK5HYSJAcT0K16PwJkDNzMzMzMwZQFyPwvUoXCRAw/UoXI/CG0Bcj8L1KNwgQD0K16NwPRhAPQrXo3A9IEA9CtejcL0iQOxRuB6F6zNApHA9CtfjMECF61G4HgUhQM3MzMzMzCxAPQrXo3A9J0CamZmZmZknQPYoXI/CdS1AKVyPwvUoK0AzMzMzM7MkQB+F61G4niZAPQrXo3C9KECuR+F6FK4oQM3MzMzMTCdApHA9CtejKEBxPQrXo/A6QEjhehSuB0BAmpmZmZkZKkA=",
          "dtype": "f8"
         },
         "yaxis": "y"
        },
        {
         "hovertemplate": "Region=%{x}<br> Estimated Unemployment Rate (%)=%{y}<extra></extra>",
         "legendgroup": "Uttarakhand",
         "marker": {
          "color": "#19d3f3",
          "pattern": {
           "shape": ""
          }
         },
         "name": "Uttarakhand",
         "orientation": "v",
         "showlegend": true,
         "textposition": "auto",
         "type": "bar",
         "x": [
          "Uttarakhand",
          "Uttarakhand",
          "Uttarakhand",
          "Uttarakhand",
          "Uttarakhand",
          "Uttarakhand",
          "Uttarakhand",
          "Uttarakhand",
          "Uttarakhand",
          "Uttarakhand",
          "Uttarakhand",
          "Uttarakhand",
          "Uttarakhand",
          "Uttarakhand",
          "Uttarakhand",
          "Uttarakhand",
          "Uttarakhand",
          "Uttarakhand",
          "Uttarakhand",
          "Uttarakhand",
          "Uttarakhand",
          "Uttarakhand",
          "Uttarakhand",
          "Uttarakhand",
          "Uttarakhand",
          "Uttarakhand",
          "Uttarakhand"
         ],
         "xaxis": "x",
         "y": {
          "bdata": "FK5H4XoU+j+amZmZmZkSQPYoXI/C9RZAcT0K16NwGEDD9Shcj8ILQFK4HoXrURNAPQrXo3A9FkAUrkfhehQSQK5H4XoUrhBAZmZmZmZmE0BI4XoUrkcNQI/C9ShcjwxA7FG4HoVrJUDXo3A9ClciQMP1KFyPwhJAw/UoXI/CG0C4HoXrUbgdQD0K16NwPSNA4XoUrkfhEkBcj8L1KFwZQI/C9Shcjx1A16NwPQrXIUAfhetRuB4VQM3MzMzMTCBAXI/C9ShcKkBcj8L1KFwxQFK4HoXrURRA",
          "dtype": "f8"
         },
         "yaxis": "y"
        },
        {
         "hovertemplate": "Region=%{x}<br> Estimated Unemployment Rate (%)=%{y}<extra></extra>",
         "legendgroup": "West Bengal",
         "marker": {
          "color": "#FF6692",
          "pattern": {
           "shape": ""
          }
         },
         "name": "West Bengal",
         "orientation": "v",
         "showlegend": true,
         "textposition": "auto",
         "type": "bar",
         "x": [
          "West Bengal",
          "West Bengal",
          "West Bengal",
          "West Bengal",
          "West Bengal",
          "West Bengal",
          "West Bengal",
          "West Bengal",
          "West Bengal",
          "West Bengal",
          "West Bengal",
          "West Bengal",
          "West Bengal",
          "West Bengal",
          "West Bengal",
          "West Bengal",
          "West Bengal",
          "West Bengal",
          "West Bengal",
          "West Bengal",
          "West Bengal",
          "West Bengal",
          "West Bengal",
          "West Bengal",
          "West Bengal",
          "West Bengal",
          "West Bengal",
          "West Bengal"
         ],
         "xaxis": "x",
         "y": {
          "bdata": "FK5H4XoUGEBmZmZmZmYXQHsUrkfhehZAUrgehetRFkAK16NwPQoVQB+F61G4HhtAUrgehetRF0ApXI/C9SgXQClcj8L1KBtAPQrXo3A9DkAUrkfhehQcQFK4HoXrUTJArkfhehRuMkDD9Shcj8ITQAAAAAAAAB1AhetRuB6FHUCkcD0K16MfQBSuR+F6FB1AKVyPwvUoH0BSuB6F61EfQHE9CtejcBpA9ihcj8L1HEAUrkfhehQdQDMzMzMzMx5ArkfhehSuGkDD9Shcj0IvQHE9CtejcC5AuB6F61G4I0A=",
          "dtype": "f8"
         },
         "yaxis": "y"
        },
        {
         "hovertemplate": "Region=%{x}<br> Estimated Unemployment Rate (%)=%{y}<extra></extra>",
         "legendgroup": "Chandigarh",
         "marker": {
          "color": "#B6E880",
          "pattern": {
           "shape": ""
          }
         },
         "name": "Chandigarh",
         "orientation": "v",
         "showlegend": true,
         "textposition": "auto",
         "type": "bar",
         "x": [
          "Chandigarh",
          "Chandigarh",
          "Chandigarh",
          "Chandigarh",
          "Chandigarh",
          "Chandigarh",
          "Chandigarh",
          "Chandigarh",
          "Chandigarh",
          "Chandigarh",
          "Chandigarh",
          "Chandigarh"
         ],
         "xaxis": "x",
         "y": {
          "bdata": "mpmZmZlZMkDNzMzMzMwoQM3MzMzMzDVACtejcD0KI0CkcD0K1yM0QHsUrkfh+itAzczMzMwMNkApXI/C9aggQAAAAAAAADRA7FG4HoWrMECuR+F6FG41QOF6FK5H4RxA",
          "dtype": "f8"
         },
         "yaxis": "y"
        }
       ],
       "layout": {
        "barmode": "relative",
        "legend": {
         "title": {
          "text": "Region"
         },
         "tracegroupgap": 0
        },
        "template": {
         "data": {
          "bar": [
           {
            "error_x": {
             "color": "#2a3f5f"
            },
            "error_y": {
             "color": "#2a3f5f"
            },
            "marker": {
             "line": {
              "color": "#E5ECF6",
              "width": 0.5
             },
             "pattern": {
              "fillmode": "overlay",
              "size": 10,
              "solidity": 0.2
             }
            },
            "type": "bar"
           }
          ],
          "barpolar": [
           {
            "marker": {
             "line": {
              "color": "#E5ECF6",
              "width": 0.5
             },
             "pattern": {
              "fillmode": "overlay",
              "size": 10,
              "solidity": 0.2
             }
            },
            "type": "barpolar"
           }
          ],
          "carpet": [
           {
            "aaxis": {
             "endlinecolor": "#2a3f5f",
             "gridcolor": "white",
             "linecolor": "white",
             "minorgridcolor": "white",
             "startlinecolor": "#2a3f5f"
            },
            "baxis": {
             "endlinecolor": "#2a3f5f",
             "gridcolor": "white",
             "linecolor": "white",
             "minorgridcolor": "white",
             "startlinecolor": "#2a3f5f"
            },
            "type": "carpet"
           }
          ],
          "choropleth": [
           {
            "colorbar": {
             "outlinewidth": 0,
             "ticks": ""
            },
            "type": "choropleth"
           }
          ],
          "contour": [
           {
            "colorbar": {
             "outlinewidth": 0,
             "ticks": ""
            },
            "colorscale": [
             [
              0,
              "#0d0887"
             ],
             [
              0.1111111111111111,
              "#46039f"
             ],
             [
              0.2222222222222222,
              "#7201a8"
             ],
             [
              0.3333333333333333,
              "#9c179e"
             ],
             [
              0.4444444444444444,
              "#bd3786"
             ],
             [
              0.5555555555555556,
              "#d8576b"
             ],
             [
              0.6666666666666666,
              "#ed7953"
             ],
             [
              0.7777777777777778,
              "#fb9f3a"
             ],
             [
              0.8888888888888888,
              "#fdca26"
             ],
             [
              1,
              "#f0f921"
             ]
            ],
            "type": "contour"
           }
          ],
          "contourcarpet": [
           {
            "colorbar": {
             "outlinewidth": 0,
             "ticks": ""
            },
            "type": "contourcarpet"
           }
          ],
          "heatmap": [
           {
            "colorbar": {
             "outlinewidth": 0,
             "ticks": ""
            },
            "colorscale": [
             [
              0,
              "#0d0887"
             ],
             [
              0.1111111111111111,
              "#46039f"
             ],
             [
              0.2222222222222222,
              "#7201a8"
             ],
             [
              0.3333333333333333,
              "#9c179e"
             ],
             [
              0.4444444444444444,
              "#bd3786"
             ],
             [
              0.5555555555555556,
              "#d8576b"
             ],
             [
              0.6666666666666666,
              "#ed7953"
             ],
             [
              0.7777777777777778,
              "#fb9f3a"
             ],
             [
              0.8888888888888888,
              "#fdca26"
             ],
             [
              1,
              "#f0f921"
             ]
            ],
            "type": "heatmap"
           }
          ],
          "histogram": [
           {
            "marker": {
             "pattern": {
              "fillmode": "overlay",
              "size": 10,
              "solidity": 0.2
             }
            },
            "type": "histogram"
           }
          ],
          "histogram2d": [
           {
            "colorbar": {
             "outlinewidth": 0,
             "ticks": ""
            },
            "colorscale": [
             [
              0,
              "#0d0887"
             ],
             [
              0.1111111111111111,
              "#46039f"
             ],
             [
              0.2222222222222222,
              "#7201a8"
             ],
             [
              0.3333333333333333,
              "#9c179e"
             ],
             [
              0.4444444444444444,
              "#bd3786"
             ],
             [
              0.5555555555555556,
              "#d8576b"
             ],
             [
              0.6666666666666666,
              "#ed7953"
             ],
             [
              0.7777777777777778,
              "#fb9f3a"
             ],
             [
              0.8888888888888888,
              "#fdca26"
             ],
             [
              1,
              "#f0f921"
             ]
            ],
            "type": "histogram2d"
           }
          ],
          "histogram2dcontour": [
           {
            "colorbar": {
             "outlinewidth": 0,
             "ticks": ""
            },
            "colorscale": [
             [
              0,
              "#0d0887"
             ],
             [
              0.1111111111111111,
              "#46039f"
             ],
             [
              0.2222222222222222,
              "#7201a8"
             ],
             [
              0.3333333333333333,
              "#9c179e"
             ],
             [
              0.4444444444444444,
              "#bd3786"
             ],
             [
              0.5555555555555556,
              "#d8576b"
             ],
             [
              0.6666666666666666,
              "#ed7953"
             ],
             [
              0.7777777777777778,
              "#fb9f3a"
             ],
             [
              0.8888888888888888,
              "#fdca26"
             ],
             [
              1,
              "#f0f921"
             ]
            ],
            "type": "histogram2dcontour"
           }
          ],
          "mesh3d": [
           {
            "colorbar": {
             "outlinewidth": 0,
             "ticks": ""
            },
            "type": "mesh3d"
           }
          ],
          "parcoords": [
           {
            "line": {
             "colorbar": {
              "outlinewidth": 0,
              "ticks": ""
             }
            },
            "type": "parcoords"
           }
          ],
          "pie": [
           {
            "automargin": true,
            "type": "pie"
           }
          ],
          "scatter": [
           {
            "fillpattern": {
             "fillmode": "overlay",
             "size": 10,
             "solidity": 0.2
            },
            "type": "scatter"
           }
          ],
          "scatter3d": [
           {
            "line": {
             "colorbar": {
              "outlinewidth": 0,
              "ticks": ""
             }
            },
            "marker": {
             "colorbar": {
              "outlinewidth": 0,
              "ticks": ""
             }
            },
            "type": "scatter3d"
           }
          ],
          "scattercarpet": [
           {
            "marker": {
             "colorbar": {
              "outlinewidth": 0,
              "ticks": ""
             }
            },
            "type": "scattercarpet"
           }
          ],
          "scattergeo": [
           {
            "marker": {
             "colorbar": {
              "outlinewidth": 0,
              "ticks": ""
             }
            },
            "type": "scattergeo"
           }
          ],
          "scattergl": [
           {
            "marker": {
             "colorbar": {
              "outlinewidth": 0,
              "ticks": ""
             }
            },
            "type": "scattergl"
           }
          ],
          "scattermap": [
           {
            "marker": {
             "colorbar": {
              "outlinewidth": 0,
              "ticks": ""
             }
            },
            "type": "scattermap"
           }
          ],
          "scattermapbox": [
           {
            "marker": {
             "colorbar": {
              "outlinewidth": 0,
              "ticks": ""
             }
            },
            "type": "scattermapbox"
           }
          ],
          "scatterpolar": [
           {
            "marker": {
             "colorbar": {
              "outlinewidth": 0,
              "ticks": ""
             }
            },
            "type": "scatterpolar"
           }
          ],
          "scatterpolargl": [
           {
            "marker": {
             "colorbar": {
              "outlinewidth": 0,
              "ticks": ""
             }
            },
            "type": "scatterpolargl"
           }
          ],
          "scatterternary": [
           {
            "marker": {
             "colorbar": {
              "outlinewidth": 0,
              "ticks": ""
             }
            },
            "type": "scatterternary"
           }
          ],
          "surface": [
           {
            "colorbar": {
             "outlinewidth": 0,
             "ticks": ""
            },
            "colorscale": [
             [
              0,
              "#0d0887"
             ],
             [
              0.1111111111111111,
              "#46039f"
             ],
             [
              0.2222222222222222,
              "#7201a8"
             ],
             [
              0.3333333333333333,
              "#9c179e"
             ],
             [
              0.4444444444444444,
              "#bd3786"
             ],
             [
              0.5555555555555556,
              "#d8576b"
             ],
             [
              0.6666666666666666,
              "#ed7953"
             ],
             [
              0.7777777777777778,
              "#fb9f3a"
             ],
             [
              0.8888888888888888,
              "#fdca26"
             ],
             [
              1,
              "#f0f921"
             ]
            ],
            "type": "surface"
           }
          ],
          "table": [
           {
            "cells": {
             "fill": {
              "color": "#EBF0F8"
             },
             "line": {
              "color": "white"
             }
            },
            "header": {
             "fill": {
              "color": "#C8D4E3"
             },
             "line": {
              "color": "white"
             }
            },
            "type": "table"
           }
          ]
         },
         "layout": {
          "annotationdefaults": {
           "arrowcolor": "#2a3f5f",
           "arrowhead": 0,
           "arrowwidth": 1
          },
          "autotypenumbers": "strict",
          "coloraxis": {
           "colorbar": {
            "outlinewidth": 0,
            "ticks": ""
           }
          },
          "colorscale": {
           "diverging": [
            [
             0,
             "#8e0152"
            ],
            [
             0.1,
             "#c51b7d"
            ],
            [
             0.2,
             "#de77ae"
            ],
            [
             0.3,
             "#f1b6da"
            ],
            [
             0.4,
             "#fde0ef"
            ],
            [
             0.5,
             "#f7f7f7"
            ],
            [
             0.6,
             "#e6f5d0"
            ],
            [
             0.7,
             "#b8e186"
            ],
            [
             0.8,
             "#7fbc41"
            ],
            [
             0.9,
             "#4d9221"
            ],
            [
             1,
             "#276419"
            ]
           ],
           "sequential": [
            [
             0,
             "#0d0887"
            ],
            [
             0.1111111111111111,
             "#46039f"
            ],
            [
             0.2222222222222222,
             "#7201a8"
            ],
            [
             0.3333333333333333,
             "#9c179e"
            ],
            [
             0.4444444444444444,
             "#bd3786"
            ],
            [
             0.5555555555555556,
             "#d8576b"
            ],
            [
             0.6666666666666666,
             "#ed7953"
            ],
            [
             0.7777777777777778,
             "#fb9f3a"
            ],
            [
             0.8888888888888888,
             "#fdca26"
            ],
            [
             1,
             "#f0f921"
            ]
           ],
           "sequentialminus": [
            [
             0,
             "#0d0887"
            ],
            [
             0.1111111111111111,
             "#46039f"
            ],
            [
             0.2222222222222222,
             "#7201a8"
            ],
            [
             0.3333333333333333,
             "#9c179e"
            ],
            [
             0.4444444444444444,
             "#bd3786"
            ],
            [
             0.5555555555555556,
             "#d8576b"
            ],
            [
             0.6666666666666666,
             "#ed7953"
            ],
            [
             0.7777777777777778,
             "#fb9f3a"
            ],
            [
             0.8888888888888888,
             "#fdca26"
            ],
            [
             1,
             "#f0f921"
            ]
           ]
          },
          "colorway": [
           "#636efa",
           "#EF553B",
           "#00cc96",
           "#ab63fa",
           "#FFA15A",
           "#19d3f3",
           "#FF6692",
           "#B6E880",
           "#FF97FF",
           "#FECB52"
          ],
          "font": {
           "color": "#2a3f5f"
          },
          "geo": {
           "bgcolor": "white",
           "lakecolor": "white",
           "landcolor": "#E5ECF6",
           "showlakes": true,
           "showland": true,
           "subunitcolor": "white"
          },
          "hoverlabel": {
           "align": "left"
          },
          "hovermode": "closest",
          "mapbox": {
           "style": "light"
          },
          "paper_bgcolor": "white",
          "plot_bgcolor": "#E5ECF6",
          "polar": {
           "angularaxis": {
            "gridcolor": "white",
            "linecolor": "white",
            "ticks": ""
           },
           "bgcolor": "#E5ECF6",
           "radialaxis": {
            "gridcolor": "white",
            "linecolor": "white",
            "ticks": ""
           }
          },
          "scene": {
           "xaxis": {
            "backgroundcolor": "#E5ECF6",
            "gridcolor": "white",
            "gridwidth": 2,
            "linecolor": "white",
            "showbackground": true,
            "ticks": "",
            "zerolinecolor": "white"
           },
           "yaxis": {
            "backgroundcolor": "#E5ECF6",
            "gridcolor": "white",
            "gridwidth": 2,
            "linecolor": "white",
            "showbackground": true,
            "ticks": "",
            "zerolinecolor": "white"
           },
           "zaxis": {
            "backgroundcolor": "#E5ECF6",
            "gridcolor": "white",
            "gridwidth": 2,
            "linecolor": "white",
            "showbackground": true,
            "ticks": "",
            "zerolinecolor": "white"
           }
          },
          "shapedefaults": {
           "line": {
            "color": "#2a3f5f"
           }
          },
          "ternary": {
           "aaxis": {
            "gridcolor": "white",
            "linecolor": "white",
            "ticks": ""
           },
           "baxis": {
            "gridcolor": "white",
            "linecolor": "white",
            "ticks": ""
           },
           "bgcolor": "#E5ECF6",
           "caxis": {
            "gridcolor": "white",
            "linecolor": "white",
            "ticks": ""
           }
          },
          "title": {
           "x": 0.05
          },
          "xaxis": {
           "automargin": true,
           "gridcolor": "white",
           "linecolor": "white",
           "ticks": "",
           "title": {
            "standoff": 15
           },
           "zerolinecolor": "white",
           "zerolinewidth": 2
          },
          "yaxis": {
           "automargin": true,
           "gridcolor": "white",
           "linecolor": "white",
           "ticks": "",
           "title": {
            "standoff": 15
           },
           "zerolinecolor": "white",
           "zerolinewidth": 2
          }
         }
        },
        "title": {
         "text": "Labour Rate (Region Wise) by Bar Origin"
        },
        "xaxis": {
         "anchor": "y",
         "categoryarray": [
          "Andhra Pradesh",
          "Assam",
          "Bihar",
          "Chhattisgarh",
          "Delhi",
          "Goa",
          "Gujarat",
          "Haryana",
          "Himachal Pradesh",
          "Jammu & Kashmir",
          "Jharkhand",
          "Karnataka",
          "Kerala",
          "Madhya Pradesh",
          "Maharashtra",
          "Meghalaya",
          "Odisha",
          "Puducherry",
          "Punjab",
          "Rajasthan",
          "Sikkim",
          "Tamil Nadu",
          "Telangana",
          "Tripura",
          "Uttar Pradesh",
          "Uttarakhand",
          "West Bengal",
          "Chandigarh"
         ],
         "categoryorder": "total descending",
         "domain": [
          0,
          1
         ],
         "title": {
          "text": "Region"
         }
        },
        "yaxis": {
         "anchor": "x",
         "domain": [
          0,
          1
         ],
         "title": {
          "text": " Estimated Unemployment Rate (%)"
         }
        }
       }
      }
     },
     "metadata": {},
     "output_type": "display_data"
    }
   ],
   "source": [
    "labour = px.bar(df,x=x,y=y,color='Region',title='Labour Rate (Region Wise) by Bar Origin',template='plotly')\n",
    "labour.update_layout(xaxis={'categoryorder':'total descending'})\n",
    "labour.show()"
   ]
  },
  {
   "cell_type": "code",
   "execution_count": null,
   "id": "9e9f6e04-6dde-440c-80fc-1ab4d2f4581b",
   "metadata": {},
   "outputs": [],
   "source": []
  }
 ],
 "metadata": {
  "kernelspec": {
   "display_name": "Python 3 (ipykernel)",
   "language": "python",
   "name": "python3"
  },
  "language_info": {
   "codemirror_mode": {
    "name": "ipython",
    "version": 3
   },
   "file_extension": ".py",
   "mimetype": "text/x-python",
   "name": "python",
   "nbconvert_exporter": "python",
   "pygments_lexer": "ipython3",
   "version": "3.13.3"
  }
 },
 "nbformat": 4,
 "nbformat_minor": 5
}
